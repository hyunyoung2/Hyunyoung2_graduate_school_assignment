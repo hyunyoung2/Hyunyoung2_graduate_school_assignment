{
 "cells": [
  {
   "cell_type": "markdown",
   "metadata": {},
   "source": [
    "1. [신경망] 다음 코드를 무엇을 의미하는지 이해하고 실행하여 결과를 확인하세요.(14점)\n",
    "(코드의 해석과 결과의 의미를 작성하세요.)"
   ]
  },
  {
   "cell_type": "code",
   "execution_count": 1,
   "metadata": {},
   "outputs": [],
   "source": [
    "# torch.nn 패키지를 사용하여 신경망을 생성함.\n",
    "# nn 패키지는 모델을 정의할 때, autograd를 통해 자동미분 기능을 제공함\n",
    "# nn.Module은 층과 전방전파(forward propagation) (입력 -> 출력)을 쉽게 구현함\n",
    "# 참고로 nn 패키지는 mini-batch만 지원함, \n",
    "# 예로 nn.Conv2d는 4차 Tensor를 받음(nSamples*nChannels*height*width)\n",
    "# 아래 AlexNet(이미 수업에서 학습함.) 예시는 숫자를 분류하는 간단한 컨볼루션 신경망의 예임"
   ]
  },
  {
   "cell_type": "markdown",
   "metadata": {},
   "source": [
    "![](figure/AlexNet.png)"
   ]
  },
  {
   "cell_type": "code",
   "execution_count": 2,
   "metadata": {},
   "outputs": [
    {
     "name": "stdout",
     "output_type": "stream",
     "text": [
      "Net(\n",
      "  (conv1): Conv2d(1, 6, kernel_size=(5, 5), stride=(1, 1))\n",
      "  (conv2): Conv2d(6, 16, kernel_size=(5, 5), stride=(1, 1))\n",
      "  (fc1): Linear(in_features=400, out_features=120, bias=True)\n",
      "  (fc2): Linear(in_features=120, out_features=84, bias=True)\n",
      "  (fc3): Linear(in_features=84, out_features=10, bias=True)\n",
      ")\n"
     ]
    }
   ],
   "source": [
    "# 예시는 사진 입력을 받고, 몇 개의 층에 전방 전파하면서 분류를 출력함\n",
    "# 출력을 위해서 모델은 다음과 같은 학습을 수행함\n",
    "# - 신경망은 학습가능한 매개변수들(가중치들)을 가짐\n",
    "# - 사진 데이터를 반복적으로 입력함\n",
    "# - 신경망을 통해 입력을 처리함(전방 전파)\n",
    "# - 손실(오차)를 계산함(실제 출력과 예측 출력을 비교하여 학습의 올바름을 판단함)\n",
    "# - 오차로부터 그레이디언트(경사, 방향)을 신경망의 각 매개변수에게 역전파함(오류 역전파)\n",
    "# - 신경망의 매개변수들을 갱신함((미래)가중치 = (현재)가중치 - 학습률 * 그레이디어트)\n",
    "\n",
    "\n",
    "# 위의 컨볼루션 신경망의 부분들을 torch를 통해서 손쉽게 구현할 수 있음.\n",
    "# 단지 forward 함수만 정의하면, autograd를 이용해서 \n",
    "# 해당 연산 그래프의 그레이디언트를 구하는 backward 자동적으로 정의됨.\n",
    "# forward 함수는 Tensor를 이용할 수 있는 다양한 연산들(합, 곱 등등) 사용하여 정의 가능함.\n",
    "# torch.Tensor: 자동 미분 기능을 지원하는 다차원 배열, 각 Tensor에 해당하는 그레이디언트를 가짐.\n",
    "# nn.Module: 신경망 모듈이며 매개변수의 캡슐화, GPU 연산 등 작업을 쉽게 가능하게 함.\n",
    "# nn.Parmeter: 모듈이 지정되면 매개변수들을 자동으로 관리하는 Tensor의 하나임. \n",
    "\n",
    "import torch\n",
    "import torch.nn as nn\n",
    "import torch.nn.functional as F\n",
    "\n",
    "\n",
    "class Net(nn.Module):\n",
    "    def __init__(self):\n",
    "        # for parent class \n",
    "        super(Net, self).__init__()\n",
    "        # 1 input image channel, 6 output channels, 5x5 square convolution\n",
    "        # kernel(filter)\n",
    "        self.conv1 = nn.Conv2d(1, 6, 5)\n",
    "        # 6 input image channer, 16 output channels, 5x5 square convolution\n",
    "        self.conv2 = nn.Conv2d(6, 16, 5)\n",
    "        # an affine operation: y = Wx + b\n",
    "        self.fc1 = nn.Linear(16 * 5 * 5, 120)\n",
    "        self.fc2 = nn.Linear(120, 84)\n",
    "        self.fc3 = nn.Linear(84, 10)\n",
    "\n",
    "    def forward(self, x):\n",
    "        # Max pooling over a (2, 2) window\n",
    "        x = F.max_pool2d(F.relu(self.conv1(x)), (2, 2))\n",
    "        # If the size is a square you can only specify a single number\n",
    "        x = F.max_pool2d(F.relu(self.conv2(x)), 2)\n",
    "        x = x.view(-1, self.num_flat_features(x)) # reshape in tensorflow\n",
    "        x = F.relu(self.fc1(x))\n",
    "        x = F.relu(self.fc2(x))\n",
    "        x = self.fc3(x) # output layer\n",
    "        return x\n",
    "\n",
    "    def num_flat_features(self, x):\n",
    "        size = x.size()[1:]  # all dimensions except the batch dimension\n",
    "        num_features = 1\n",
    "        for s in size:\n",
    "            num_features *= s\n",
    "        return num_features\n",
    "\n",
    "\n",
    "net = Net()\n",
    "print(net)\n",
    "\n",
    "# (1) 화면 출력 확인 및 의미를 서술"
   ]
  },
  {
   "cell_type": "markdown",
   "metadata": {},
   "source": [
    "위의 출력은 Network 구성을 보여준다. \n",
    "\n",
    "- convolution1(1 = input depth, output depth = 6, kernel = 5 x 5, stride=1)\n",
    "- convolution2(6 = input depth, output depth = 16, kernel = 5 x 5, stride=1)\n",
    "- fully-connected layer(input_node = 400, output_node=120, including=bias term)\n",
    "- fully-connected layer(input_node = 120, output_node=84, including=bias term)\n",
    "- fully-connected layer(input_node = 84, output_node=10, including=bias term)\n",
    "\n",
    "물론 각 layer 마다 activation function으로 ReLU(rectified Linear unit)을 사용하는\n",
    "CNN의 구조를 보여준다.(마지막 output layer에서는 activation function을 사용하지 않는다.) "
   ]
  },
  {
   "cell_type": "code",
   "execution_count": 3,
   "metadata": {},
   "outputs": [],
   "source": [
    "# (2) 정의된 컨볼루션 신경망의 구조 설명 (위의 AlexNet 그림 참고)"
   ]
  },
  {
   "cell_type": "markdown",
   "metadata": {},
   "source": [
    "전체적인 구조는 \n",
    "\n",
    "- convolution1(1 = input depth, output depth = 6, kernel = 5 x 5, stride=1)\n",
    "- max_pooling(convolution1) : subsampling\n",
    "- convolution2(6 = input depth, output depth = 16, kernel = 5 x 5, stride=1)\n",
    "- max_pooling(convolution2) : subsampling\n",
    "- fully-connected layer(input_node = 400, output_node=120, including=bias term)\n",
    "- fully-connected layer(input_node = 120, output_node=84, including=bias term)\n",
    "- fully-connected layer(input_node = 84, output_node=10, including=bias term)\n",
    "\n",
    "물론 각 layer 마다 activation function으로 ReLU(rectified Linear unit)을 사용하는\n",
    "CNN의 구조를 보여준다.(마지막 output layer와 max pooling에서는 activation function을 사용하지 않는다.) \n",
    "위와 코드는 위와 같은 구조로 구성되어진다. "
   ]
  },
  {
   "cell_type": "code",
   "execution_count": 4,
   "metadata": {},
   "outputs": [
    {
     "name": "stdout",
     "output_type": "stream",
     "text": [
      "10\n",
      "torch.Size([6, 1, 5, 5])\n"
     ]
    }
   ],
   "source": [
    "# net.parameters()를 사용하여 정의된 신경망의 학습가능한 매개변수들을 확인할 수 있음\n",
    "params = list(net.parameters())\n",
    "print(len(params))\n",
    "print(params[0].size())  # conv1's .weight\n",
    "# (3) 화면 출력 확인\n",
    "# 위에서 설계한 convolution network의 매개변수 수와 \n",
    "# first conv layer의 weight size를 출력을 하고 있다. "
   ]
  },
  {
   "cell_type": "code",
   "execution_count": 5,
   "metadata": {},
   "outputs": [
    {
     "name": "stdout",
     "output_type": "stream",
     "text": [
      "tensor([[ 0.0340, -0.0876,  0.0137, -0.0112, -0.0884, -0.0848,  0.0645,  0.1451,\n",
      "         -0.1455, -0.0678]], grad_fn=<ThAddmmBackward>)\n"
     ]
    }
   ],
   "source": [
    "# 다음의 임의의 32*32 입력을 가정함\n",
    "# 참고로 크기가 다른 입력을 받을 때는 입력의 크기를 재조정하거나 신경망 수정함\n",
    "# 입력 이미지 크기 batch, channel, height, width\n",
    "input = torch.randn(1, 1, 32, 32)\n",
    "out = net(input)\n",
    "print(out)\n",
    "# (4)화면 출력 확인\n",
    "# 최종 10개의 class의 분류 score를 보여주고 있다. "
   ]
  },
  {
   "cell_type": "code",
   "execution_count": 6,
   "metadata": {},
   "outputs": [
    {
     "name": "stdout",
     "output_type": "stream",
     "text": [
      "tensor([ 0.6554,  0.3266,  2.7215,  0.1066, -0.3627, -0.8609,  0.3992,  0.2910,\n",
      "         1.5681, -0.3191])\n",
      "tensor([[ 0.6554,  0.3266,  2.7215,  0.1066, -0.3627, -0.8609,  0.3992,  0.2910,\n",
      "          1.5681, -0.3191]])\n",
      "Checking loss value\n",
      "tensor(1.1714, grad_fn=<MseLossBackward>)\n"
     ]
    }
   ],
   "source": [
    "# 오류역전파를 통해 그레이디언트를 구하기 전에 모든 가중치의 그레이디언트 버퍼들을 초기화 \n",
    "net.zero_grad()\n",
    "# in backward, compute gradient w.r.t torch.randn(1,10) tensor\n",
    "out.backward(torch.randn(1,10))\n",
    "\n",
    "# 손실 함수 정의 및 임의의 값들에 대해서 오차 결과 확인\n",
    "# nn 패키지는 많이 사용되는 손실함수들을 제공하며, 해당 예제는 단순한 MSE를 사용\n",
    "output = net(input)\n",
    "target = torch.randn(10) # a dummy target, for example\n",
    "print(target)\n",
    "target = target.view(1, -1) # make it the same shape as output\n",
    "print(target)\n",
    "criterion = nn.MSELoss()\n",
    "\n",
    "\n",
    "loss = criterion(output, target)\n",
    "print(\"Checking loss value\")\n",
    "print(loss)\n",
    "# (5) 화면 출력 확인"
   ]
  },
  {
   "cell_type": "code",
   "execution_count": 7,
   "metadata": {},
   "outputs": [
    {
     "name": "stdout",
     "output_type": "stream",
     "text": [
      "conv1.bias.grad before backward\n",
      "tensor([0., 0., 0., 0., 0., 0.])\n"
     ]
    }
   ],
   "source": [
    "# 앞에 코드에서 언급한 것과 같이 오류 역전파하기 전, 그레이디언트를 초기화해야 함\n",
    "# backward() 수행 후 어떤 변화가 있는지 확인하고, 초기화의 필요성을 확인함\n",
    "net.zero_grad() # zeroes the gradient buffers of all parameters\n",
    "\n",
    "print(\"conv1.bias.grad before backward\")\n",
    "print(net.conv1.bias.grad)\n",
    "# (6) 화면 출력 확인\n",
    "# 오류 역전파하기전의 conv1.bias의 gradient를 값을 보여준다. \n",
    "# 오류 역전파하기전인 만큼 0의 값으로 초기화 되어진다."
   ]
  },
  {
   "cell_type": "code",
   "execution_count": 8,
   "metadata": {},
   "outputs": [
    {
     "name": "stdout",
     "output_type": "stream",
     "text": [
      "conv1.bias.grad after backward\n",
      "tensor([ 0.0217, -0.0128, -0.0124, -0.0127,  0.0030,  0.0105])\n"
     ]
    }
   ],
   "source": [
    "# loss에 기반하여 backward를 실행한다.\n",
    "loss.backward()\n",
    "\n",
    "print(\"conv1.bias.grad after backward\")\n",
    "print(net.conv1.bias.grad)\n",
    "# (7) 화면 출력 확인\n",
    "# 오류 역전파가 수행이 되면서 \n",
    "# conv1.bias의 gradient 값을 보여준다."
   ]
  },
  {
   "cell_type": "code",
   "execution_count": 9,
   "metadata": {},
   "outputs": [],
   "source": [
    "# 스토캐스틱경사하강법((미래)가중치 = (현재)가중치 - 학습률* 그레이디언트)을\n",
    "# 이용하여 가중치 갱신하는 코드는 다음과 같음\n",
    "learning_rate = 0.01\n",
    "for f in net.parameters():\n",
    "    f.data.sub_(f.grad.data * learning_rate)\n",
    "\n",
    "# 하지만 위 구현 코드보다 실제, torch.optim에서 구현되는 SGD, Adam, RMSProp 등을 사용함\n",
    "# 오류 역전파에서 최적화하는 방법을 보인 예제 코드\n",
    "import torch.optim as optim\n",
    "\n",
    "# create your optimizer \n",
    "optimizer = optim.SGD(net.parameters(), lr=0.01)\n",
    "\n",
    "# in your training loop:\n",
    "optimizer.zero_grad() # zero the gradient buffers\n",
    "output = net(input)\n",
    "loss = criterion(output, target)\n",
    "loss.backward()\n",
    "optimizer.step() # Does the update"
   ]
  },
  {
   "cell_type": "markdown",
   "metadata": {},
   "source": [
    "2. [분류기 학습] 다음 코드를 무엇을 의미하는지 이해하고 실행하여 결과를 확인하세요.(14점)\n",
    "(코드의 해석과 결과의 의미를 작성하세요.)"
   ]
  },
  {
   "cell_type": "code",
   "execution_count": 10,
   "metadata": {},
   "outputs": [],
   "source": [
    "# 1번의 기초적인 신경망을 통해서 사진 분류기를 학습함\n",
    "# 데이터집합은 CIFAF-10이며, \n",
    "# 아래의 예와 같이 10가지의 3(R, G, B) 채넝릐 32*32 크기의 사진으로 구성됨"
   ]
  },
  {
   "cell_type": "markdown",
   "metadata": {},
   "source": [
    "![](figure/CIFAR_10.png)"
   ]
  },
  {
   "cell_type": "code",
   "execution_count": 11,
   "metadata": {},
   "outputs": [
    {
     "name": "stdout",
     "output_type": "stream",
     "text": [
      "Files already downloaded and verified\n",
      "Files already downloaded and verified\n",
      "trian set: 50000\n",
      "test set: 10000\n"
     ]
    }
   ],
   "source": [
    "# CIFAR-10과 같이 많이 사용되는 데이터집합은 torchvision 패키지에서 제공함\n",
    "# 분류기 학습은 다음과 같은 과정을 가짐\n",
    "# 1. 정규화된 CIFAR-10 훈련집합과 테스트집합을 torchvision을 이용하여 적재함\n",
    "# 2. 컨볼루션 신경망을 정의함\n",
    "# 3. 손실함수 정의\n",
    "# 4. 훈련집합을 이용하여 신경망을 학습시킴\n",
    "# 5. 테스트집합을 이용하여 신경망 성능 확인\n",
    "\n",
    "### 1. 정규화된 CIFAR-10 훈련집합과 데스트 집합을 torchvision을 이용하여 적재함\n",
    "import torch\n",
    "import torchvision\n",
    "import torchvision.transforms as transforms\n",
    "\n",
    "\n",
    "# transforms.Normalize function normalize a tensor image with -\n",
    "# mean and standard deviation channel by channel\n",
    "transform = transforms.Compose(\n",
    "    [transforms.ToTensor(),\n",
    "     transforms.Normalize((0.5, 0.5, 0.5), (0.5, 0.5, 0.5))])\n",
    "\n",
    "trainset = torchvision.datasets.CIFAR10(root='./data', train=True,\n",
    "                                        download=True, transform=transform)\n",
    "trainloader = torch.utils.data.DataLoader(trainset, batch_size=4,\n",
    "                                          shuffle=True, num_workers=2)\n",
    "\n",
    "testset = torchvision.datasets.CIFAR10(root='./data', train=False,\n",
    "                                       download=True, transform=transform)\n",
    "testloader = torch.utils.data.DataLoader(testset, batch_size=4,\n",
    "                                         shuffle=False, num_workers=2)\n",
    "\n",
    "classes = ('plane', 'car', 'bird', 'cat',\n",
    "           'deer', 'dog', 'frog', 'horse', 'ship', 'truck')\n",
    "# (1) 화면 출력 확인\n",
    "print(\"trian set: {}\".format(len(trainset)))\n",
    "print(\"test set: {}\".format(len(testset)))"
   ]
  },
  {
   "cell_type": "code",
   "execution_count": 12,
   "metadata": {},
   "outputs": [
    {
     "name": "stdout",
     "output_type": "stream",
     "text": [
      "The size of image tensor: torch.Size([4, 3, 32, 32])\n",
      "The size of label tensor: torch.Size([4]) tensor(2)\n",
      " bird   car truck truck\n"
     ]
    }
   ],
   "source": [
    "# 훈련집합의 일부 사진들 확인\n",
    "import matplotlib.pyplot as plt\n",
    "import numpy as np\n",
    "\n",
    "# functions to show an image\n",
    "def imshow(img):\n",
    "    img = img / 2 + 0.5     # unnormalize\n",
    "    npimg = img.numpy()\n",
    "    plt.imshow(np.transpose(npimg, (1, 2, 0)))\n",
    "\n",
    "\n",
    "# get some random training images\n",
    "dataiter = iter(trainloader)\n",
    "images, labels = dataiter.next()\n",
    "print(\"The size of image tensor:\", images.size())\n",
    "print(\"The size of label tensor:\", labels.size(), labels[0])\n",
    "# show images\n",
    "imshow(torchvision.utils.make_grid(images))\n",
    "# print labels\n",
    "print(' '.join('%5s' % classes[labels[j]] for j in range(4)))\n",
    "# (2) 화면 출력 확인"
   ]
  },
  {
   "cell_type": "code",
   "execution_count": 13,
   "metadata": {},
   "outputs": [
    {
     "name": "stdout",
     "output_type": "stream",
     "text": [
      "[1,  1000]loss: 2.292\n",
      "[1,  2000]loss: 2.128\n",
      "[1,  3000]loss: 1.936\n",
      "[1,  4000]loss: 1.807\n",
      "[1,  5000]loss: 1.727\n",
      "[1,  6000]loss: 1.665\n",
      "[1,  7000]loss: 1.599\n",
      "[1,  8000]loss: 1.564\n",
      "[1,  9000]loss: 1.534\n",
      "[1, 10000]loss: 1.495\n",
      "[1, 11000]loss: 1.485\n",
      "[1, 12000]loss: 1.449\n",
      "[2,  1000]loss: 1.431\n",
      "[2,  2000]loss: 1.428\n",
      "[2,  3000]loss: 1.370\n",
      "[2,  4000]loss: 1.376\n",
      "[2,  5000]loss: 1.381\n",
      "[2,  6000]loss: 1.327\n",
      "[2,  7000]loss: 1.338\n",
      "[2,  8000]loss: 1.318\n",
      "[2,  9000]loss: 1.303\n",
      "[2, 10000]loss: 1.318\n",
      "[2, 11000]loss: 1.311\n",
      "[2, 12000]loss: 1.292\n",
      "Finished training\n"
     ]
    }
   ],
   "source": [
    "### 2. 컨볼루션 신경망을 정의함\n",
    "# 3 채널 32*32 크기의 사진을 입력받고, 신경망을 통과해 10분류를 수행\n",
    "import torch.nn as nn \n",
    "import torch.nn.functional as F\n",
    "\n",
    "class Net(nn.Module):\n",
    "    def __init__(self):\n",
    "        super(Net, self).__init__()\n",
    "        self.conv1 = nn.Conv2d(3,6,5)\n",
    "        self.pool = nn.MaxPool2d(2,2)\n",
    "        self.conv2 = nn.Conv2d(6, 16, 5)\n",
    "        self.fc1 = nn.Linear(16*5*5, 120)\n",
    "        self.fc2 = nn.Linear(120, 84)\n",
    "        self.fc3 = nn.Linear(84, 10)\n",
    "        \n",
    "    def forward(self, x):\n",
    "        x = self.pool(F.relu(self.conv1(x)))\n",
    "        x = self.pool(F.relu(self.conv2(x)))\n",
    "        x = x.view(-1, 16*5*5)\n",
    "        x = F.relu(self.fc1(x))\n",
    "        x = F.relu(self.fc2(x))\n",
    "        x = self.fc3(x)\n",
    "        return x\n",
    "    \n",
    "net = Net()\n",
    "\n",
    "### 3. 손실함수 정의, 교차 엔트로피와 SGD + Momentum\n",
    "import torch.optim as optim\n",
    "\n",
    "criterion = nn.CrossEntropyLoss()\n",
    "optimizer = optim.SGD(net.parameters(), lr=0.001, momentum=0.9)\n",
    "\n",
    "\n",
    "### 4. 훈련집합을 이용하여 신경망을 학습시킴\n",
    "for epoch in range(2): # loop over the dataset multiple times\n",
    "    running_loss = 0.0\n",
    "    for i, data in enumerate(trainloader, 0):\n",
    "        # Get the inputs\n",
    "        inputs, labels = data\n",
    "        \n",
    "        # zero the parameter gradients\n",
    "        optimizer.zero_grad()\n",
    "        \n",
    "        # Forward + Backward + Optimize\n",
    "        outputs = net(inputs)\n",
    "        loss = criterion(outputs, labels)\n",
    "        loss.backward()\n",
    "        optimizer.step()\n",
    "        \n",
    "        \n",
    "        # print statistics\n",
    "        running_loss += loss.item()\n",
    "        if i % 1000 == 999: # print every 1000 mini-batches\n",
    "            print(\"[%d, %5d]loss: %.3f\" % (epoch + 1, i +1, running_loss / 1000))\n",
    "            running_loss = 0.0\n",
    "            \n",
    "            \n",
    "print(\"Finished training\")\n",
    "# (3) 화면 출력 확인 및 학습이 되고 있는지 서술"
   ]
  },
  {
   "cell_type": "markdown",
   "metadata": {},
   "source": [
    "위의 loss 값을 확인해보면 점차 낮아지는 방향으로 학습이 진행이 되고 있다."
   ]
  },
  {
   "cell_type": "code",
   "execution_count": 14,
   "metadata": {},
   "outputs": [
    {
     "name": "stdout",
     "output_type": "stream",
     "text": [
      "GroundTruth:   cat  ship  ship plane\n"
     ]
    },
    {
     "data": {
      "image/png": "[encoded data removed]",
      "text/plain": [
       "<matplotlib.figure.Figure at 0x7fd4bf2174e0>"
      ]
     },
     "metadata": {},
     "output_type": "display_data"
    }
   ],
   "source": [
    "### 5. 테스트 집합을 이용하여 신경망 성능 확인\n",
    "dataiter = iter(testloader)\n",
    "images, labels = dataiter.next()\n",
    "\n",
    "# show images\n",
    "imshow(torchvision.utils.make_grid(images))\n",
    "# print labels\n",
    "print(\"GroundTruth:\", ' '.join('%5s' % classes[labels[j]] for j in range(4)))\n",
    "# (4) 화면 출력 확인"
   ]
  },
  {
   "cell_type": "code",
   "execution_count": 15,
   "metadata": {},
   "outputs": [
    {
     "name": "stdout",
     "output_type": "stream",
     "text": [
      "Predicted:   cat  ship  ship plane\n",
      "예측된 label의 type을 출력하고 있다. \n"
     ]
    }
   ],
   "source": [
    "outputs = net(images)\n",
    "_, predicted = torch.max(outputs, 1)\n",
    "print(\"Predicted:\", ' '.join('%5s' % classes[predicted[j]] for j in range(4)))\n",
    "# (5) 화면 출력 확인\n",
    "# 예측된 label의 type을 출력하고 있다. \n",
    "print(\"예측된 label의 type을 출력하고 있다. \")"
   ]
  },
  {
   "cell_type": "code",
   "execution_count": 16,
   "metadata": {},
   "outputs": [
    {
     "name": "stdout",
     "output_type": "stream",
     "text": [
      "Accuracy of the network on the 10000 test images: 54 %\n"
     ]
    }
   ],
   "source": [
    "# Perfomance on the whole test dataset \n",
    "correct = 0 \n",
    "total = 0 \n",
    "with torch.no_grad():\n",
    "    for data in testloader:\n",
    "        images, labels = data\n",
    "        output = net(images)\n",
    "        _, predicted = torch.max(output.data, 1)\n",
    "        total += labels.size(0)\n",
    "        correct += (predicted == labels).sum().item()\n",
    "        \n",
    "print('Accuracy of the network on the 10000 test images: %d %%' %\n",
    "      (100 * correct/total))\n",
    "# (6) 화면 출력 확인 및 일반화 성능 서술"
   ]
  },
  {
   "cell_type": "markdown",
   "metadata": {},
   "source": [
    "위의 결과를 보면 알 수 있듯 일반화 성능은 testset을 가지고 나타낼 수 있는데 \n",
    "이것은 training을 할 때 사용하지 않은 데이터를 가지고 나의 모델이 training되지 않은 \n",
    "데이터를 얼마나 잘 예측을 할 수 있는지 수치를 정확도로 판단하는데 현재 모델은 \n",
    "정확도(accuracy) 54%를 보여준다. "
   ]
  },
  {
   "cell_type": "code",
   "execution_count": 17,
   "metadata": {},
   "outputs": [
    {
     "name": "stdout",
     "output_type": "stream",
     "text": [
      "The initial class_correct: [0.0, 0.0, 0.0, 0.0, 0.0, 0.0, 0.0, 0.0, 0.0, 0.0]\n",
      "The initial class_total: [0.0, 0.0, 0.0, 0.0, 0.0, 0.0, 0.0, 0.0, 0.0, 0.0]\n",
      "Accuracty of plane:  0 %\n",
      "Accuracty of   car:  0 %\n",
      "Accuracty of  bird:  0 %\n",
      "Accuracty of   cat: 24 %\n",
      "Accuracty of  deer:  0 %\n",
      "Accuracty of   dog: 25 %\n",
      "Accuracty of  frog:  0 %\n",
      "Accuracty of horse: 25 %\n",
      "Accuracty of  ship:  0 %\n",
      "Accuracty of truck: 25 %\n"
     ]
    }
   ],
   "source": [
    "# Performance on each class \n",
    "class_correct = list(0. for i in range(10))\n",
    "class_total = list(0. for i in range(10))\n",
    "print(\"The initial class_correct:\", class_correct)\n",
    "print(\"The initial class_total:\", class_total)\n",
    "with torch.no_grad():\n",
    "    for data in testloader:\n",
    "        images, labels = data\n",
    "        outputs = net(images)\n",
    "        _, predicted = torch.max(output, 1)\n",
    "        c = (predicted == labels).squeeze()\n",
    "        for i in range(4):\n",
    "            label = labels[i]\n",
    "            class_correct[label] += c[i].item()\n",
    "            class_total[label] += 1\n",
    "            \n",
    "\n",
    "for i in range(10):\n",
    "    print('Accuracty of %5s: %2d %%' % (\n",
    "          classes[i], 100* class_correct[i]/class_total[i]))\n",
    "# (7) 화면 출력 확인 및 부류별 분류기의 성능 서술"
   ]
  },
  {
   "cell_type": "markdown",
   "metadata": {},
   "source": [
    "위의 결과는 10개의 class 마다의 recall이 얼마나 잘된 결과인지를 보여준다.\n",
    "우선 출력 결과를 보면, cat(24%), dog(25%), horse(25%), truck(25%)의 recall을 \n",
    "보여주고 나머지의 경우는 0%의 recall을 보여주고 있습니다."
   ]
  },
  {
   "cell_type": "markdown",
   "metadata": {},
   "source": [
    "3. 다음 조건을 만족하는 컨볼루션 신경망을 구현하고, 2번의 (3), (6), (7)의 결과를 확인하고 비교하세요.\n",
    "\n",
    "(1) INPUT-CONV(32 3\\*3)-CONV(32 3\\*3)-RELU-POOL-CONV(32 3\\*3)-CONV(32 3\\*3)-RELU-POOL-FC-OUTPUT(15점)\n",
    "\n",
    "(2) 2번 문제의 신경망에 Adam 최적화(강의자료의 기본 하이퍼 매개변수 사용) 적용(3점)\n",
    "\n",
    "(3) 데이터 확대 방법들 중 하나늘 적용한 후, 2 번 문제의 신경망 학습(Hint: transforms) (3점)\n",
    "\n",
    "(4) 2번 문제의 신경망에 CONV 층마다 배치 정규화를 적교(Hint: nn.BatchNorm) (3점)\n",
    "\n",
    "(5) 2번 문제의 신경망에 로그우드 손실함수를 적 (3점)\n",
    "\n",
    "(6) 2번 문제의 신경망에 L2 Norm 적용(3점)"
   ]
  },
  {
   "cell_type": "code",
   "execution_count": 18,
   "metadata": {},
   "outputs": [
    {
     "name": "stdout",
     "output_type": "stream",
     "text": [
      "Files already downloaded and verified\n",
      "Files already downloaded and verified\n",
      "trian set: 50000\n",
      "test set: 10000\n",
      "The size of inputs tensor: torch.Size([4, 3, 32, 32])\n",
      "The size of labels tensor: torch.Size([4])\n"
     ]
    },
    {
     "name": "stderr",
     "output_type": "stream",
     "text": [
      "/home/hyunyoung2/.local/lib/python3.5/site-packages/ipykernel_launcher.py:96: UserWarning: Implicit dimension choice for log_softmax has been deprecated. Change the call to include dim=X as an argument.\n"
     ]
    },
    {
     "name": "stdout",
     "output_type": "stream",
     "text": [
      "[1,  1000]loss: 2.211\n",
      "[1,  2000]loss: 2.150\n",
      "[1,  3000]loss: 2.119\n",
      "[1,  4000]loss: 2.098\n",
      "[1,  5000]loss: 2.068\n",
      "[1,  6000]loss: 2.024\n",
      "[1,  7000]loss: 2.008\n",
      "[1,  8000]loss: 2.008\n",
      "[1,  9000]loss: 2.013\n",
      "[1, 10000]loss: 1.991\n",
      "[1, 11000]loss: 1.992\n",
      "[1, 12000]loss: 1.984\n",
      "[2,  1000]loss: 1.959\n",
      "[2,  2000]loss: 1.961\n",
      "[2,  3000]loss: 1.949\n",
      "[2,  4000]loss: 1.951\n",
      "[2,  5000]loss: 1.945\n",
      "[2,  6000]loss: 1.983\n",
      "[2,  7000]loss: 1.959\n",
      "[2,  8000]loss: 1.950\n",
      "[2,  9000]loss: 1.948\n",
      "[2, 10000]loss: 1.952\n",
      "[2, 11000]loss: 1.951\n",
      "[2, 12000]loss: 1.933\n",
      "Finished training\n"
     ]
    }
   ],
   "source": [
    "### 1. 정규화된 CIFAR-10 훈련집합과 데스트 집합을 torchvision을 이용하여 적재함\n",
    "import torch\n",
    "import torchvision\n",
    "import torchvision.transforms as transforms\n",
    "\n",
    "\n",
    "# transforms.Normalize function normalize a tensor image with -\n",
    "# mean and standard deviation channel by channel\n",
    "# (3) 데이터 확대 방법들 중 하나늘 적용한 후, 2 번 문제의 신경망 학습(Hint: transforms) (3점)\n",
    "transform = transforms.Compose(\n",
    "    [transforms.Resize(128),\n",
    "     transforms.CenterCrop(32),\n",
    "     transforms.ToTensor(),\n",
    "     transforms.Normalize((0.5, 0.5, 0.5), (0.5, 0.5, 0.5))])\n",
    "\n",
    "trainset = torchvision.datasets.CIFAR10(root='./data', train=True,\n",
    "                                        download=True, transform=transform)\n",
    "trainloader = torch.utils.data.DataLoader(trainset, batch_size=4,\n",
    "                                          shuffle=True, num_workers=2)\n",
    "\n",
    "testset = torchvision.datasets.CIFAR10(root='./data', train=False,\n",
    "                                       download=True, transform=transform)\n",
    "testloader = torch.utils.data.DataLoader(testset, batch_size=4,\n",
    "                                         shuffle=False, num_workers=2)\n",
    "\n",
    "classes = ('plane', 'car', 'bird', 'cat',\n",
    "           'deer', 'dog', 'frog', 'horse', 'ship', 'truck')\n",
    "# (1) 화면 출력 확인\n",
    "print(\"trian set: {}\".format(len(trainset)))\n",
    "print(\"test set: {}\".format(len(testset)))\n",
    "\n",
    "### 2. 컨볼루션 신경망을 정의함\n",
    "# 3 채널 32*32 크기의 사진을 입력받고, 신경망을 통과해 10분류를 수행\n",
    "import torch.nn as nn \n",
    "import torch.nn.functional as F\n",
    "\n",
    "# (1) INPUT-CONV(32 3*3)-CONV(32 3*3)-RELU-POOL-\n",
    "# CONV(32 3*3)-CONV(32 3*3)-RELU-POOL-FC-OUTPUT(15점)\n",
    "class Net2(nn.Module):\n",
    "    def __init__(self):\n",
    "        super(Net2, self).__init__()\n",
    "        self.conv1 = nn.Conv2d(3,32,3)\n",
    "        # (4) 2번 문제의 신경망에 CONV 층마다 배치 정규화를 적교(Hint: nn.BatchNorm) (3점)\n",
    "        self.batch_norm1 = nn.BatchNorm2d(32)\n",
    "        self.conv2 = nn.Conv2d(32, 32, 3)\n",
    "        self.pool1 = nn.MaxPool2d(2,2)\n",
    "        self.batch_norm2 = nn.BatchNorm2d(32)\n",
    "        self.conv3 = nn.Conv2d(32, 32, 3)\n",
    "        self.batch_norm3 = nn.BatchNorm2d(32)\n",
    "        self.conv4 = nn.Conv2d(32, 32, 3)\n",
    "        self.pool2 = nn.MaxPool2d(2,2)\n",
    "        self.fc1 = nn.Linear(32*5*5, 10)\n",
    "        \n",
    "    def forward(self, x):\n",
    "        x = self.conv1(x)\n",
    "        #print(x.size())\n",
    "        x = self.batch_norm1(x)\n",
    "        #print(x.size())\n",
    "        x = self.pool1(F.relu(self.conv2(x)))\n",
    "        #print(x.size())\n",
    "        x = self.batch_norm2(x)\n",
    "        x = self.conv3(x)\n",
    "        x = self.batch_norm3(x)\n",
    "        #print(x.size())\n",
    "        x = self.pool2(F.relu(self.conv4(x)))\n",
    "        #print(x.size())\n",
    "        x = x.view(-1, 32*5*5)\n",
    "        x = self.fc1(x)\n",
    "        return x\n",
    "    \n",
    "net = Net2()\n",
    "\n",
    "### 3. 손실함수 정의, Loglikelihood + Adam\n",
    "import torch.optim as optim\n",
    "\n",
    "# (2) 2번 문제의 신경망에 Adam 최적화(강의자료의 기본 하이퍼 매개변수 사용) 적용(3점)\n",
    "# (6) 2번 문제의 신경망에 L2 Norm 적용(3점) - weight_decay=1e-05\n",
    "optimizer = optim.Adam(net.parameters(), lr = 0.001, \n",
    "                       betas=(0.9, 0.999), weight_decay=1e-05)\n",
    "\n",
    "### 4. 훈련집합을 이용하여 신경망을 학습시킴\n",
    "for epoch in range(2): # loop over the dataset multiple times\n",
    "    running_loss = 0.0\n",
    "    for i, data in enumerate(trainloader, 0):\n",
    "        # Get the inputs\n",
    "        inputs, labels = data\n",
    "        if i == 0 and epoch == 0:\n",
    "            print(\"The size of inputs tensor:\", inputs.size())\n",
    "            print(\"The size of labels tensor:\", labels.size())\n",
    "        # zero the parameter gradients\n",
    "        optimizer.zero_grad()\n",
    "        \n",
    "        # Forward + Backward + Optimize\n",
    "        outputs = net(inputs)\n",
    "        # (5) 2번 문제의 신경망에 로그우드 손실함수를 적 (3점)\n",
    "        loss = F.nll_loss(F.log_softmax(outputs), labels)\n",
    "        loss.backward()\n",
    "        optimizer.step()\n",
    "        \n",
    "        \n",
    "        # print statistics\n",
    "        running_loss += loss.item()\n",
    "        if i % 1000 == 999: # print every 1000 mini-batches\n",
    "            print(\"[%d, %5d]loss: %.3f\" % (epoch + 1, i +1, running_loss / 1000))\n",
    "            running_loss = 0.0\n",
    "            \n",
    "            \n",
    "print(\"Finished training\")"
   ]
  },
  {
   "cell_type": "markdown",
   "metadata": {},
   "source": [
    "4. 신경망의 출력이 (0.4, 2.0, 0.001, 0.32).T 일 때, 소프트 맥스 함수를 적용한 결과를 쓰시오. (6점) "
   ]
  },
  {
   "cell_type": "code",
   "execution_count": 19,
   "metadata": {},
   "outputs": [
    {
     "name": "stdout",
     "output_type": "stream",
     "text": [
      "The softmax of each rows\n",
      "0 0.13250053264446765\n",
      "1 0.6562794344376716\n",
      "2 0.08890662532881649\n",
      "3 0.12231340758904413\n",
      "The total of softmax: 0.9999999999999998\n"
     ]
    }
   ],
   "source": [
    "import numpy as np\n",
    "\n",
    "output = np.array([0.4, 2.0, 0.001, 0.32])\n",
    "#print(output)\n",
    "\n",
    "def print_softmax(e):\n",
    "    print(\"The softmax of each rows\")\n",
    "    for i in range(len(e)):\n",
    "        print(i, e[i])\n",
    "        \n",
    "    print(\"The total of softmax: {}\".format(np.sum(e)))\n",
    "\n",
    "\n",
    "def softmax_funtion(x):\n",
    "    exp = np.exp(output)\n",
    "    #print(exp)\n",
    "    softmax_val = exp / np.sum(exp)\n",
    "    print_softmax(softmax_val)\n",
    "    \n",
    "softmax_funtion(output)"
   ]
  },
  {
   "cell_type": "markdown",
   "metadata": {},
   "source": [
    "5. 소프트맥스 함수를 적용한 후 출력이 (0.001, 0.9, 0.001, 0.098).T 이고 레이블 정보가 (0, 0, 0, 1).T 일때, 세 가지 목적함수, 평균제곱 오차, 교차 엔트로피, 로그우드를 계산하시오."
   ]
  },
  {
   "cell_type": "code",
   "execution_count": 20,
   "metadata": {},
   "outputs": [
    {
     "name": "stdout",
     "output_type": "stream",
     "text": [
      "MSE(mean squared error): 0.4059015\n",
      "\n",
      "cross_entroy: 0.4059015\n",
      "\n",
      "loglikelihood: 7.7049015\n"
     ]
    }
   ],
   "source": [
    "import numpy as np\n",
    "\n",
    "output = np.array([0.001, 0.9, 0.001, 0.098])\n",
    "\n",
    "ground_truth = np.array([0, 0, 0, 1])\n",
    "\n",
    "def mean_squared_error(out, truth):\n",
    "    error = np.mean((out - truth)**2)\n",
    "    return error\n",
    "\n",
    "def cross_entroy(out, truth):\n",
    "    error = truth*np.log(output)\n",
    "    return np.sum(error)\n",
    "\n",
    "def loglikelihood(out, index, base=True):\n",
    "    if base == True: # base 2\n",
    "        error = np.log2(out[index])\n",
    "    else:  # base e\n",
    "        error = np.log(out[index])\n",
    "    return error\n",
    "\n",
    "\n",
    "print(\"MSE(mean squared error): {}\".format(mean_squared_error(output, ground_truth)))\n",
    "print()\n",
    "print(\"cross_entroy: {}\".format(mean_squared_error(output, ground_truth)))\n",
    "print()\n",
    "print(\"loglikelihood: {}\".format(mean_squared_error(output, 3)))"
   ]
  },
  {
   "cell_type": "markdown",
   "metadata": {},
   "source": [
    "# Reference \n",
    "\n",
    "\n",
    " - [pytorch](https://pytorch.org/docs/stable/nn.html?highlight=nll#torch.nn.functional.nll_loss)\n",
    " \n",
    " - [Getting started with PyTorch for Deep Learning](https://codetolight.wordpress.com/2017/11/29/getting-started-with-pytorch-for-deep-learning-part-3-neural-network-basics/)\n",
    " \n",
    " - [data augment of pytorch in stackoverflow](https://stackoverflow.com/questions/50002543/transforms-compose-meaning-pytorch)\n",
    " \n",
    " - [L2 regularization in stackoverflow](https://stackoverflow.com/questions/42704283/adding-l1-l2-regularization-in-pytorch)\n",
    " "
   ]
  }
 ],
 "metadata": {
  "kernelspec": {
   "display_name": "Python 3",
   "language": "python",
   "name": "python3"
  },
  "language_info": {
   "codemirror_mode": {
    "name": "ipython",
    "version": 3
   },
   "file_extension": ".py",
   "mimetype": "text/x-python",
   "name": "python",
   "nbconvert_exporter": "python",
   "pygments_lexer": "ipython3",
   "version": "3.5.2"
  }
 },
 "nbformat": 4,
 "nbformat_minor": 2
}
