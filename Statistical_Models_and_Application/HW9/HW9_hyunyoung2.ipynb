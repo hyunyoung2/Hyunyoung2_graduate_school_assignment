{
 "cells": [
  {
   "cell_type": "markdown",
   "metadata": {},
   "source": [
    "5개의 설명변수를 가진 자료가 있다. 종속변수는 졸업 후의 초봉(단위:1천달러)이다. 설명변수와 그 계수추정값은 아래와 같다.\n",
    "\n",
    "|     변수           |     설명                     |     계수추정치    |\n",
    "|--------------------|------------------------------|-------------------|\n",
    "|     (intercept)    |                              |     50            |\n",
    "|     X1             |     GPA                      |     20            |\n",
    "|     X2             |     IQ                       |     0.07          |\n",
    "|     X3             |     성별(여성=1, 남성=0)     |     35            |\n",
    "|     X4             |     GPA와 IQ의 교호작용      |     0.01          |\n",
    "|     X5             |     GPA와 성별의 교호작용    |     -10           |\n",
    "\n"
   ]
  },
  {
   "cell_type": "markdown",
   "metadata": {},
   "source": [
    "1. 아래 설명 중 어느것이 옳은 답이고, 그 이유는 무엇인가?\n",
    "    1. 고정된 값의 IQ와 GPA에 대해, 남성이 여성보다 평균적으로 수입이 더 많다. \n",
    "    2. 고정된 값의 IQ와 GPA에 대해, 여성이 남성보다 평균적으로 수입이 더 많다.\n",
    "    3. 고정된 값의 IQ와 GPA에 대해, GPA가 충분히 높다면 남성이 여성보다 평균적으로 수입이 더 많다. \n",
    "    4. 고정된 값의 IQ와 GPA에 대해, GPA가 충분히 높다면 여성이 남성보다 평균적으로 수입이 더 많다."
   ]
  },
  {
   "cell_type": "code",
   "execution_count": 8,
   "metadata": {},
   "outputs": [
    {
     "name": "stdout",
     "output_type": "stream",
     "text": [
      "120.10499999999999\n"
     ]
    }
   ],
   "source": [
    "# y = 50 + 20*X1 + 0.07*X2 + 35*X3 + 0.01*X1*X2 -10*X1*X3\n",
    "\n",
    "# y = 50 + 20*X1 + 0.07*X2 + 0.01*X1*X2 + (35 -10*X1)*X3\n",
    "\n",
    "# C 입니다. \n",
    "\n",
    "# main effect를 해석은 하면 안된다. \n",
    "\n",
    "intercept = 50\n",
    "gpa = 20\n",
    "iq  = 0.07\n",
    "D_w = 35\n",
    "gpa_iq = 0.01\n",
    "gpa_D_w = -10\n",
    "\n",
    "x1 = 3.5\n",
    "x2 = 1\n",
    "x3 = 1\n",
    "x4 = x1*x2\n",
    "x5 = x1*x3\n",
    "\n",
    "y = intercept + x1*gpa + x2*iq + x3*D_w + x4*gpa_iq + x5*gpa_D_w\n",
    "print(y)"
   ]
  },
  {
   "cell_type": "markdown",
   "metadata": {},
   "source": [
    "2. IQ가 110이고 GPA가 4.0인 여성의 급여를 예측하라. "
   ]
  },
  {
   "cell_type": "code",
   "execution_count": 9,
   "metadata": {},
   "outputs": [
    {
     "name": "stdout",
     "output_type": "stream",
     "text": [
      "137.1\n"
     ]
    }
   ],
   "source": [
    "x1 = 4.0\n",
    "x2 = 110\n",
    "x3 = 1\n",
    "x4 = x1*x2\n",
    "x5 = x1*x3\n",
    "\n",
    "y = intercept + x1*gpa + x2*iq + x3*D_w + x4*gpa_iq + x5*gpa_D_w\n",
    "\n",
    "print(y)"
   ]
  },
  {
   "cell_type": "markdown",
   "metadata": {},
   "source": [
    "3.\tGPA/IQ 교호작용 항에 대한 계수가 아주 작으므로 교호작용 효과가 있다는 증거는 거의 없다. 참인가 거짓인가? 답에 대한 근거를 설명하여라."
   ]
  },
  {
   "cell_type": "code",
   "execution_count": null,
   "metadata": {},
   "outputs": [],
   "source": [
    "#  거짓이다 \n",
    "\n",
    "# GPA와 IQ의 단위 크기에서 차이가 존재하기 때문에 교호작용 효과가 적거나 많거나 하는 효과는 계수만으로 판단하기 힘들다. \n",
    "# 표준화를 하고 검증해야 한다. "
   ]
  },
  {
   "cell_type": "markdown",
   "metadata": {},
   "source": [
    "### 데이터 표준화와 회귀계수 "
   ]
  },
  {
   "cell_type": "code",
   "execution_count": 1,
   "metadata": {},
   "outputs": [],
   "source": [
    "import pandas as pd\n",
    "import numpy as np\n",
    "import matplotlib.pylab as plt\n",
    "import scipy.stats as stats\n",
    "import statsmodels.api as sm\n",
    "import statsmodels.formula.api as smf\n",
    "import seaborn as sns\n",
    "from statsmodels.stats.outliers_influence import OLSInfluence\n",
    "\n",
    "data_path = \"C:\\\\Users\\\\nlp\\\\Desktop\\\\통계학 수업\\\\HW9\\\\data\\\\\"\n",
    "house = pd.read_csv(data_path + \"houseprice.csv\")"
   ]
  },
  {
   "cell_type": "code",
   "execution_count": 2,
   "metadata": {},
   "outputs": [
    {
     "data": {
      "text/html": [
       "<div>\n",
       "<style scoped>\n",
       "    .dataframe tbody tr th:only-of-type {\n",
       "        vertical-align: middle;\n",
       "    }\n",
       "\n",
       "    .dataframe tbody tr th {\n",
       "        vertical-align: top;\n",
       "    }\n",
       "\n",
       "    .dataframe thead th {\n",
       "        text-align: right;\n",
       "    }\n",
       "</style>\n",
       "<table border=\"1\" class=\"dataframe\">\n",
       "  <thead>\n",
       "    <tr style=\"text-align: right;\">\n",
       "      <th></th>\n",
       "      <th>price</th>\n",
       "      <th>tax</th>\n",
       "      <th>ground</th>\n",
       "      <th>floor</th>\n",
       "      <th>year</th>\n",
       "    </tr>\n",
       "  </thead>\n",
       "  <tbody>\n",
       "    <tr>\n",
       "      <th>0</th>\n",
       "      <td>12.95</td>\n",
       "      <td>98.352</td>\n",
       "      <td>34.72</td>\n",
       "      <td>19.96</td>\n",
       "      <td>4.2</td>\n",
       "    </tr>\n",
       "    <tr>\n",
       "      <th>1</th>\n",
       "      <td>14.75</td>\n",
       "      <td>100.416</td>\n",
       "      <td>35.31</td>\n",
       "      <td>30.00</td>\n",
       "      <td>6.2</td>\n",
       "    </tr>\n",
       "    <tr>\n",
       "      <th>2</th>\n",
       "      <td>13.95</td>\n",
       "      <td>90.858</td>\n",
       "      <td>22.75</td>\n",
       "      <td>23.50</td>\n",
       "      <td>4.0</td>\n",
       "    </tr>\n",
       "    <tr>\n",
       "      <th>3</th>\n",
       "      <td>12.95</td>\n",
       "      <td>91.146</td>\n",
       "      <td>40.50</td>\n",
       "      <td>24.64</td>\n",
       "      <td>5.4</td>\n",
       "    </tr>\n",
       "    <tr>\n",
       "      <th>4</th>\n",
       "      <td>14.95</td>\n",
       "      <td>101.194</td>\n",
       "      <td>44.55</td>\n",
       "      <td>22.42</td>\n",
       "      <td>4.2</td>\n",
       "    </tr>\n",
       "  </tbody>\n",
       "</table>\n",
       "</div>"
      ],
      "text/plain": [
       "   price      tax  ground  floor  year\n",
       "0  12.95   98.352   34.72  19.96   4.2\n",
       "1  14.75  100.416   35.31  30.00   6.2\n",
       "2  13.95   90.858   22.75  23.50   4.0\n",
       "3  12.95   91.146   40.50  24.64   5.4\n",
       "4  14.95  101.194   44.55  22.42   4.2"
      ]
     },
     "execution_count": 2,
     "metadata": {},
     "output_type": "execute_result"
    }
   ],
   "source": [
    "house.head()"
   ]
  },
  {
   "cell_type": "code",
   "execution_count": 3,
   "metadata": {},
   "outputs": [
    {
     "data": {
      "text/html": [
       "<table class=\"simpletable\">\n",
       "<caption>OLS Regression Results</caption>\n",
       "<tr>\n",
       "  <th>Dep. Variable:</th>          <td>price</td>      <th>  R-squared:         </th> <td>   0.931</td>\n",
       "</tr>\n",
       "<tr>\n",
       "  <th>Model:</th>                   <td>OLS</td>       <th>  Adj. R-squared:    </th> <td>   0.919</td>\n",
       "</tr>\n",
       "<tr>\n",
       "  <th>Method:</th>             <td>Least Squares</td>  <th>  F-statistic:       </th> <td>   74.53</td>\n",
       "</tr>\n",
       "<tr>\n",
       "  <th>Date:</th>             <td>Wed, 25 Nov 2020</td> <th>  Prob (F-statistic):</th> <td>1.82e-12</td>\n",
       "</tr>\n",
       "<tr>\n",
       "  <th>Time:</th>                 <td>16:26:41</td>     <th>  Log-Likelihood:    </th> <td> -54.781</td>\n",
       "</tr>\n",
       "<tr>\n",
       "  <th>No. Observations:</th>      <td>    27</td>      <th>  AIC:               </th> <td>   119.6</td>\n",
       "</tr>\n",
       "<tr>\n",
       "  <th>Df Residuals:</th>          <td>    22</td>      <th>  BIC:               </th> <td>   126.0</td>\n",
       "</tr>\n",
       "<tr>\n",
       "  <th>Df Model:</th>              <td>     4</td>      <th>                     </th>     <td> </td>   \n",
       "</tr>\n",
       "<tr>\n",
       "  <th>Covariance Type:</th>      <td>nonrobust</td>    <th>                     </th>     <td> </td>   \n",
       "</tr>\n",
       "</table>\n",
       "<table class=\"simpletable\">\n",
       "<tr>\n",
       "      <td></td>         <th>coef</th>     <th>std err</th>      <th>t</th>      <th>P>|t|</th>  <th>[0.025</th>    <th>0.975]</th>  \n",
       "</tr>\n",
       "<tr>\n",
       "  <th>Intercept</th> <td>    1.2187</td> <td>    2.047</td> <td>    0.595</td> <td> 0.558</td> <td>   -3.026</td> <td>    5.463</td>\n",
       "</tr>\n",
       "<tr>\n",
       "  <th>tax</th>       <td>    0.0519</td> <td>    0.014</td> <td>    3.756</td> <td> 0.001</td> <td>    0.023</td> <td>    0.081</td>\n",
       "</tr>\n",
       "<tr>\n",
       "  <th>ground</th>    <td>    0.0116</td> <td>    0.025</td> <td>    0.458</td> <td> 0.652</td> <td>   -0.041</td> <td>    0.064</td>\n",
       "</tr>\n",
       "<tr>\n",
       "  <th>floor</th>     <td>    0.3494</td> <td>    0.073</td> <td>    4.807</td> <td> 0.000</td> <td>    0.199</td> <td>    0.500</td>\n",
       "</tr>\n",
       "<tr>\n",
       "  <th>year</th>      <td>   -0.2189</td> <td>    0.331</td> <td>   -0.660</td> <td> 0.516</td> <td>   -0.906</td> <td>    0.469</td>\n",
       "</tr>\n",
       "</table>\n",
       "<table class=\"simpletable\">\n",
       "<tr>\n",
       "  <th>Omnibus:</th>       <td> 0.837</td> <th>  Durbin-Watson:     </th> <td>   1.900</td>\n",
       "</tr>\n",
       "<tr>\n",
       "  <th>Prob(Omnibus):</th> <td> 0.658</td> <th>  Jarque-Bera (JB):  </th> <td>   0.737</td>\n",
       "</tr>\n",
       "<tr>\n",
       "  <th>Skew:</th>          <td> 0.014</td> <th>  Prob(JB):          </th> <td>   0.692</td>\n",
       "</tr>\n",
       "<tr>\n",
       "  <th>Kurtosis:</th>      <td> 2.191</td> <th>  Cond. No.          </th> <td>    903.</td>\n",
       "</tr>\n",
       "</table><br/><br/>Warnings:<br/>[1] Standard Errors assume that the covariance matrix of the errors is correctly specified."
      ],
      "text/plain": [
       "<class 'statsmodels.iolib.summary.Summary'>\n",
       "\"\"\"\n",
       "                            OLS Regression Results                            \n",
       "==============================================================================\n",
       "Dep. Variable:                  price   R-squared:                       0.931\n",
       "Model:                            OLS   Adj. R-squared:                  0.919\n",
       "Method:                 Least Squares   F-statistic:                     74.53\n",
       "Date:                Wed, 25 Nov 2020   Prob (F-statistic):           1.82e-12\n",
       "Time:                        16:26:41   Log-Likelihood:                -54.781\n",
       "No. Observations:                  27   AIC:                             119.6\n",
       "Df Residuals:                      22   BIC:                             126.0\n",
       "Df Model:                           4                                         \n",
       "Covariance Type:            nonrobust                                         \n",
       "==============================================================================\n",
       "                 coef    std err          t      P>|t|      [0.025      0.975]\n",
       "------------------------------------------------------------------------------\n",
       "Intercept      1.2187      2.047      0.595      0.558      -3.026       5.463\n",
       "tax            0.0519      0.014      3.756      0.001       0.023       0.081\n",
       "ground         0.0116      0.025      0.458      0.652      -0.041       0.064\n",
       "floor          0.3494      0.073      4.807      0.000       0.199       0.500\n",
       "year          -0.2189      0.331     -0.660      0.516      -0.906       0.469\n",
       "==============================================================================\n",
       "Omnibus:                        0.837   Durbin-Watson:                   1.900\n",
       "Prob(Omnibus):                  0.658   Jarque-Bera (JB):                0.737\n",
       "Skew:                           0.014   Prob(JB):                        0.692\n",
       "Kurtosis:                       2.191   Cond. No.                         903.\n",
       "==============================================================================\n",
       "\n",
       "Warnings:\n",
       "[1] Standard Errors assume that the covariance matrix of the errors is correctly specified.\n",
       "\"\"\""
      ]
     },
     "execution_count": 3,
     "metadata": {},
     "output_type": "execute_result"
    }
   ],
   "source": [
    "model = smf.ols('price~tax+ground+floor+year', data= house).fit()\n",
    "model.summary()"
   ]
  },
  {
   "cell_type": "code",
   "execution_count": 4,
   "metadata": {},
   "outputs": [],
   "source": [
    "from sklearn.preprocessing import StandardScaler\n",
    "scaler = StandardScaler() # (x - x_bar)/ std\n",
    "house_s = scaler.fit_transform(house)"
   ]
  },
  {
   "cell_type": "code",
   "execution_count": 12,
   "metadata": {},
   "outputs": [
    {
     "data": {
      "text/html": [
       "<div>\n",
       "<style scoped>\n",
       "    .dataframe tbody tr th:only-of-type {\n",
       "        vertical-align: middle;\n",
       "    }\n",
       "\n",
       "    .dataframe tbody tr th {\n",
       "        vertical-align: top;\n",
       "    }\n",
       "\n",
       "    .dataframe thead th {\n",
       "        text-align: right;\n",
       "    }\n",
       "</style>\n",
       "<table border=\"1\" class=\"dataframe\">\n",
       "  <thead>\n",
       "    <tr style=\"text-align: right;\">\n",
       "      <th></th>\n",
       "      <th>price</th>\n",
       "      <th>tax</th>\n",
       "      <th>ground</th>\n",
       "      <th>floor</th>\n",
       "      <th>year</th>\n",
       "    </tr>\n",
       "  </thead>\n",
       "  <tbody>\n",
       "    <tr>\n",
       "      <th>count</th>\n",
       "      <td>2.700000e+01</td>\n",
       "      <td>2.700000e+01</td>\n",
       "      <td>2.700000e+01</td>\n",
       "      <td>2.700000e+01</td>\n",
       "      <td>2.700000e+01</td>\n",
       "    </tr>\n",
       "    <tr>\n",
       "      <th>mean</th>\n",
       "      <td>-7.195890e-18</td>\n",
       "      <td>4.111937e-17</td>\n",
       "      <td>1.685894e-16</td>\n",
       "      <td>-4.235295e-16</td>\n",
       "      <td>4.913765e-16</td>\n",
       "    </tr>\n",
       "    <tr>\n",
       "      <th>std</th>\n",
       "      <td>1.019049e+00</td>\n",
       "      <td>1.019049e+00</td>\n",
       "      <td>1.019049e+00</td>\n",
       "      <td>1.019049e+00</td>\n",
       "      <td>1.019049e+00</td>\n",
       "    </tr>\n",
       "    <tr>\n",
       "      <th>min</th>\n",
       "      <td>-8.974328e-01</td>\n",
       "      <td>-1.185914e+00</td>\n",
       "      <td>-1.726578e+00</td>\n",
       "      <td>-9.803674e-01</td>\n",
       "      <td>-2.427880e+00</td>\n",
       "    </tr>\n",
       "    <tr>\n",
       "      <th>25%</th>\n",
       "      <td>-6.089723e-01</td>\n",
       "      <td>-7.301389e-01</td>\n",
       "      <td>-6.893098e-01</td>\n",
       "      <td>-5.924729e-01</td>\n",
       "      <td>-4.699990e-01</td>\n",
       "    </tr>\n",
       "    <tr>\n",
       "      <th>50%</th>\n",
       "      <td>-1.139597e-01</td>\n",
       "      <td>-4.072774e-01</td>\n",
       "      <td>-2.109409e-01</td>\n",
       "      <td>-4.394447e-02</td>\n",
       "      <td>2.551423e-01</td>\n",
       "    </tr>\n",
       "    <tr>\n",
       "      <th>75%</th>\n",
       "      <td>1.602559e-01</td>\n",
       "      <td>3.743119e-01</td>\n",
       "      <td>5.153354e-01</td>\n",
       "      <td>2.663711e-01</td>\n",
       "      <td>7.627412e-01</td>\n",
       "    </tr>\n",
       "    <tr>\n",
       "      <th>max</th>\n",
       "      <td>3.304832e+00</td>\n",
       "      <td>2.890676e+00</td>\n",
       "      <td>2.735542e+00</td>\n",
       "      <td>3.482701e+00</td>\n",
       "      <td>1.850453e+00</td>\n",
       "    </tr>\n",
       "  </tbody>\n",
       "</table>\n",
       "</div>"
      ],
      "text/plain": [
       "              price           tax        ground         floor          year\n",
       "count  2.700000e+01  2.700000e+01  2.700000e+01  2.700000e+01  2.700000e+01\n",
       "mean  -7.195890e-18  4.111937e-17  1.685894e-16 -4.235295e-16  4.913765e-16\n",
       "std    1.019049e+00  1.019049e+00  1.019049e+00  1.019049e+00  1.019049e+00\n",
       "min   -8.974328e-01 -1.185914e+00 -1.726578e+00 -9.803674e-01 -2.427880e+00\n",
       "25%   -6.089723e-01 -7.301389e-01 -6.893098e-01 -5.924729e-01 -4.699990e-01\n",
       "50%   -1.139597e-01 -4.072774e-01 -2.109409e-01 -4.394447e-02  2.551423e-01\n",
       "75%    1.602559e-01  3.743119e-01  5.153354e-01  2.663711e-01  7.627412e-01\n",
       "max    3.304832e+00  2.890676e+00  2.735542e+00  3.482701e+00  1.850453e+00"
      ]
     },
     "execution_count": 12,
     "metadata": {},
     "output_type": "execute_result"
    }
   ],
   "source": [
    "house_s = pd.DataFrame(house_s, columns = house.columns)\n",
    "house_s.describe()"
   ]
  },
  {
   "cell_type": "code",
   "execution_count": null,
   "metadata": {},
   "outputs": [],
   "source": [
    "model_s = smf.ols('price~tax+ground+floor+year', data= house_s).fit()"
   ]
  },
  {
   "cell_type": "code",
   "execution_count": 6,
   "metadata": {},
   "outputs": [
    {
     "data": {
      "text/html": [
       "<table class=\"simpletable\">\n",
       "<tr>\n",
       "      <td></td>         <th>coef</th>     <th>std err</th>      <th>t</th>      <th>P>|t|</th>  <th>[0.025</th>    <th>0.975]</th>  \n",
       "</tr>\n",
       "<tr>\n",
       "  <th>Intercept</th> <td>    1.2187</td> <td>    2.047</td> <td>    0.595</td> <td> 0.558</td> <td>   -3.026</td> <td>    5.463</td>\n",
       "</tr>\n",
       "<tr>\n",
       "  <th>tax</th>       <td>    0.0519</td> <td>    0.014</td> <td>    3.756</td> <td> 0.001</td> <td>    0.023</td> <td>    0.081</td>\n",
       "</tr>\n",
       "<tr>\n",
       "  <th>ground</th>    <td>    0.0116</td> <td>    0.025</td> <td>    0.458</td> <td> 0.652</td> <td>   -0.041</td> <td>    0.064</td>\n",
       "</tr>\n",
       "<tr>\n",
       "  <th>floor</th>     <td>    0.3494</td> <td>    0.073</td> <td>    4.807</td> <td> 0.000</td> <td>    0.199</td> <td>    0.500</td>\n",
       "</tr>\n",
       "<tr>\n",
       "  <th>year</th>      <td>   -0.2189</td> <td>    0.331</td> <td>   -0.660</td> <td> 0.516</td> <td>   -0.906</td> <td>    0.469</td>\n",
       "</tr>\n",
       "</table>"
      ],
      "text/plain": [
       "<class 'statsmodels.iolib.table.SimpleTable'>"
      ]
     },
     "execution_count": 6,
     "metadata": {},
     "output_type": "execute_result"
    }
   ],
   "source": [
    "model.summary().tables[1]"
   ]
  },
  {
   "cell_type": "code",
   "execution_count": 7,
   "metadata": {},
   "outputs": [
    {
     "data": {
      "text/html": [
       "<table class=\"simpletable\">\n",
       "<tr>\n",
       "      <td></td>         <th>coef</th>     <th>std err</th>      <th>t</th>      <th>P>|t|</th>  <th>[0.025</th>    <th>0.975]</th>  \n",
       "</tr>\n",
       "<tr>\n",
       "  <th>Intercept</th> <td>-2.776e-17</td> <td>    0.056</td> <td>-4.97e-16</td> <td> 1.000</td> <td>   -0.116</td> <td>    0.116</td>\n",
       "</tr>\n",
       "<tr>\n",
       "  <th>tax</th>       <td>    0.4186</td> <td>    0.111</td> <td>    3.756</td> <td> 0.001</td> <td>    0.187</td> <td>    0.650</td>\n",
       "</tr>\n",
       "<tr>\n",
       "  <th>ground</th>    <td>    0.0390</td> <td>    0.085</td> <td>    0.458</td> <td> 0.652</td> <td>   -0.138</td> <td>    0.216</td>\n",
       "</tr>\n",
       "<tr>\n",
       "  <th>floor</th>     <td>    0.5453</td> <td>    0.113</td> <td>    4.807</td> <td> 0.000</td> <td>    0.310</td> <td>    0.781</td>\n",
       "</tr>\n",
       "<tr>\n",
       "  <th>year</th>      <td>   -0.0430</td> <td>    0.065</td> <td>   -0.660</td> <td> 0.516</td> <td>   -0.178</td> <td>    0.092</td>\n",
       "</tr>\n",
       "</table>"
      ],
      "text/plain": [
       "<class 'statsmodels.iolib.table.SimpleTable'>"
      ]
     },
     "execution_count": 7,
     "metadata": {},
     "output_type": "execute_result"
    }
   ],
   "source": [
    "model_s.summary().tables[1]"
   ]
  },
  {
   "cell_type": "code",
   "execution_count": 8,
   "metadata": {
    "scrolled": true
   },
   "outputs": [
    {
     "data": {
      "text/html": [
       "<table class=\"simpletable\">\n",
       "<caption>OLS Regression Results</caption>\n",
       "<tr>\n",
       "  <th>Dep. Variable:</th>          <td>price</td>      <th>  R-squared:         </th> <td>   0.931</td>\n",
       "</tr>\n",
       "<tr>\n",
       "  <th>Model:</th>                   <td>OLS</td>       <th>  Adj. R-squared:    </th> <td>   0.919</td>\n",
       "</tr>\n",
       "<tr>\n",
       "  <th>Method:</th>             <td>Least Squares</td>  <th>  F-statistic:       </th> <td>   74.53</td>\n",
       "</tr>\n",
       "<tr>\n",
       "  <th>Date:</th>             <td>Wed, 25 Nov 2020</td> <th>  Prob (F-statistic):</th> <td>1.82e-12</td>\n",
       "</tr>\n",
       "<tr>\n",
       "  <th>Time:</th>                 <td>16:26:49</td>     <th>  Log-Likelihood:    </th> <td> -54.781</td>\n",
       "</tr>\n",
       "<tr>\n",
       "  <th>No. Observations:</th>      <td>    27</td>      <th>  AIC:               </th> <td>   119.6</td>\n",
       "</tr>\n",
       "<tr>\n",
       "  <th>Df Residuals:</th>          <td>    22</td>      <th>  BIC:               </th> <td>   126.0</td>\n",
       "</tr>\n",
       "<tr>\n",
       "  <th>Df Model:</th>              <td>     4</td>      <th>                     </th>     <td> </td>   \n",
       "</tr>\n",
       "<tr>\n",
       "  <th>Covariance Type:</th>      <td>nonrobust</td>    <th>                     </th>     <td> </td>   \n",
       "</tr>\n",
       "</table>"
      ],
      "text/plain": [
       "<class 'statsmodels.iolib.table.SimpleTable'>"
      ]
     },
     "execution_count": 8,
     "metadata": {},
     "output_type": "execute_result"
    }
   ],
   "source": [
    "model.summary().tables[0]"
   ]
  },
  {
   "cell_type": "code",
   "execution_count": 13,
   "metadata": {},
   "outputs": [
    {
     "data": {
      "text/html": [
       "<table class=\"simpletable\">\n",
       "<caption>OLS Regression Results</caption>\n",
       "<tr>\n",
       "  <th>Dep. Variable:</th>          <td>price</td>      <th>  R-squared:         </th> <td>   0.931</td>\n",
       "</tr>\n",
       "<tr>\n",
       "  <th>Model:</th>                   <td>OLS</td>       <th>  Adj. R-squared:    </th> <td>   0.919</td>\n",
       "</tr>\n",
       "<tr>\n",
       "  <th>Method:</th>             <td>Least Squares</td>  <th>  F-statistic:       </th> <td>   74.53</td>\n",
       "</tr>\n",
       "<tr>\n",
       "  <th>Date:</th>             <td>Wed, 25 Nov 2020</td> <th>  Prob (F-statistic):</th> <td>1.82e-12</td>\n",
       "</tr>\n",
       "<tr>\n",
       "  <th>Time:</th>                 <td>18:50:27</td>     <th>  Log-Likelihood:    </th> <td> -2.1639</td>\n",
       "</tr>\n",
       "<tr>\n",
       "  <th>No. Observations:</th>      <td>    27</td>      <th>  AIC:               </th> <td>   14.33</td>\n",
       "</tr>\n",
       "<tr>\n",
       "  <th>Df Residuals:</th>          <td>    22</td>      <th>  BIC:               </th> <td>   20.81</td>\n",
       "</tr>\n",
       "<tr>\n",
       "  <th>Df Model:</th>              <td>     4</td>      <th>                     </th>     <td> </td>   \n",
       "</tr>\n",
       "<tr>\n",
       "  <th>Covariance Type:</th>      <td>nonrobust</td>    <th>                     </th>     <td> </td>   \n",
       "</tr>\n",
       "</table>"
      ],
      "text/plain": [
       "<class 'statsmodels.iolib.table.SimpleTable'>"
      ]
     },
     "execution_count": 13,
     "metadata": {},
     "output_type": "execute_result"
    }
   ],
   "source": [
    "model_s.summary().tables[0]"
   ]
  }
 ],
 "metadata": {
  "kernelspec": {
   "display_name": "Python 3",
   "language": "python",
   "name": "python3"
  },
  "language_info": {
   "codemirror_mode": {
    "name": "ipython",
    "version": 3
   },
   "file_extension": ".py",
   "mimetype": "text/x-python",
   "name": "python",
   "nbconvert_exporter": "python",
   "pygments_lexer": "ipython3",
   "version": "3.7.6"
  }
 },
 "nbformat": 4,
 "nbformat_minor": 4
}
