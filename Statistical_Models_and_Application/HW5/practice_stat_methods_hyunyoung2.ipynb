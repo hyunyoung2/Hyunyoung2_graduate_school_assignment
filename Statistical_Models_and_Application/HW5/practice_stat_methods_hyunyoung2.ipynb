{
 "cells": [
  {
   "cell_type": "markdown",
   "metadata": {},
   "source": [
    "-  한 메이저 리그 야구경기를 마무리하는 데 걸리는 시간에 대한 우려가 팬과 구단주 사이에서 덤차 더 커지고 있다. 이 문제의 심각성을 평가하기 위해서, 한 통계전문가는 5년 전과 금년에 임의표본을 구성하는 경기들을 마무리하는데 걸린 시간을 기록하였다. 한 경기를 마무리하는 데 걸리는 시간이 5년전보다 금년에 더 길다고 결론내릴 수 있는가?"
   ]
  },
  {
   "cell_type": "code",
   "execution_count": 1,
   "metadata": {},
   "outputs": [
    {
     "ename": "SyntaxError",
     "evalue": "invalid syntax (<ipython-input-1-9e5b6970a2a2>, line 1)",
     "output_type": "error",
     "traceback": [
      "\u001b[1;36m  File \u001b[1;32m\"<ipython-input-1-9e5b6970a2a2>\"\u001b[1;36m, line \u001b[1;32m1\u001b[0m\n\u001b[1;33m    one-sample t-test\u001b[0m\n\u001b[1;37m               ^\u001b[0m\n\u001b[1;31mSyntaxError\u001b[0m\u001b[1;31m:\u001b[0m invalid syntax\n"
     ]
    }
   ],
   "source": []
  },
  {
   "cell_type": "markdown",
   "metadata": {},
   "source": [
    "- 주식시장의 변동은 일부 투자자들로 하여금 주식을 팔고 그들의 자금을 더 안전한 투자로 이동시키게 만든다. 최근 주식시장의 변동이 주식소유에 어느 정도 영향을 미쳤는지를 결정하기 위해 주식을 소유하고 있는 170명을 대상으로 서베이가 실시되었다. 제작년 말과 작년 말 현재 주식보유액이 기록되었다. 주식보유액이 감소했다고 추론할 수 있는가?\n"
   ]
  },
  {
   "cell_type": "code",
   "execution_count": null,
   "metadata": {},
   "outputs": [],
   "source": []
  },
  {
   "cell_type": "markdown",
   "metadata": {},
   "source": [
    "- 한 고속도로 순찰원은 모든 운전자 중에서 1/4 미만이 빗속에서 운전할 때 헤드라이트를 켠다고 믿는다. 이것을 검정하기 우히ㅐ 그는 빗속에서 운전하는 200대의 자동차들을 임의로 표본추출하여 헤드라이트를 켰는지 관찰하였다. 그의 예상이 옳은 지 판단할 수 있는가?"
   ]
  },
  {
   "cell_type": "code",
   "execution_count": null,
   "metadata": {},
   "outputs": [],
   "source": []
  },
  {
   "cell_type": "markdown",
   "metadata": {},
   "source": [
    "- 가솔린 가격의 갑작스러운 급등에 대하여 운전자들은 어떻게 반응하는가?이 질문에 대한 답을 얻기 위해서, 한 통계전문가는 운전자들이 대형 주유소를 통과할 때 자동차의 속도를 기록하였다. 그는 또한 이 주유소의 가솔린 가격이 15센트 상승했다는 표시가 내걸린 후에 같은 장소에서 자동차의 속도를 기록하였다. 두 자동차 속도가 다르다고 추론할 수 있는가?"
   ]
  },
  {
   "cell_type": "code",
   "execution_count": null,
   "metadata": {},
   "outputs": [],
   "source": []
  },
  {
   "cell_type": "markdown",
   "metadata": {},
   "source": [
    "- 한 퀵서비스 회사는 지역배달의 경우 평균 인도시간이 6시간 미만이라고 광고한다. 임의로 표본추출된 도시 내의 한 주소로 인도되는 20개의 패키지의 배달시간을 기록하였다. 이 퀵서비스 업체의 광고가 사실인지 판단할 수 있는가? "
   ]
  },
  {
   "cell_type": "code",
   "execution_count": null,
   "metadata": {},
   "outputs": [],
   "source": []
  },
  {
   "cell_type": "markdown",
   "metadata": {},
   "source": [
    " - 한 교수가 부여한 학점은 A 5%, B 25%, C 40%, D 25%, F 5%인 대칭분포를 가지고 있는 것으로 알려져 있다. 금년에 이 교수가 부여한 150개 학점 표본이 추출되었고 각각의 학점이 기록되었다. 금년도의 학점은 과거의 학점과 다르게 분포되어 있다고 결론내릴 수 있는가?"
   ]
  },
  {
   "cell_type": "code",
   "execution_count": null,
   "metadata": {},
   "outputs": [],
   "source": []
  },
  {
   "cell_type": "markdown",
   "metadata": {},
   "source": [
    "- 신용점수는 대출이 누구에게 이루어져야 하는지에 대한 의사결정을 돕기 위해 금융기관에 의해 사용된다. 한 은행에서 이루어진 대출들로 구성된 임의표본 기록을 분석한 결과는 다음과 같다. \n",
    "\n",
    "|   |600점 미만     | 600점 이상     |\n",
    "|---|-----|-----|\n",
    "| 표본크기  | 562 | 804 |\n",
    "| 채무불이행 건수   | 11  | 7   |\n",
    "\n",
    "신용점수가 600점 미만인 사람들이 신용점수가 600점 이상인 사람들보다 채무불이행할 가능성이 더 크다고 결론내릴 수 있는가?"
   ]
  },
  {
   "cell_type": "code",
   "execution_count": null,
   "metadata": {},
   "outputs": [],
   "source": []
  },
  {
   "cell_type": "markdown",
   "metadata": {},
   "source": [
    "- MBA 재무전공자들과 MBA 마케팅전공자들의 성적표를 조사하고 GPA가 3.92와 4 사이에 속하는 재무전공자와 마케팅전공자를 임의표본으로 추출한다. 이어서 GPA가 3.84와 3.92 사이에 속하는 재무전공자와 마케팅전공자를 임의표본으로 추출한다. 이와 같은 표본추출과정을 GPA가 2.0과 2.08 사이에 속하는 재무전공자와 마케팅전공자의 임의표본이 추출될 때까지 계속한다. 이 데이터로부터 재무전공자가 마케팅전녹ㅇㅇ자보다 더 높은 연봉제안을 받는다고 결론내릴 수 있는가?"
   ]
  },
  {
   "cell_type": "code",
   "execution_count": null,
   "metadata": {},
   "outputs": [],
   "source": []
  },
  {
   "cell_type": "markdown",
   "metadata": {},
   "source": [
    "- 학부학위가 MBA 전공의 선택에 영향을 주는가? 이 질문에 답하기 위해 작년의 MBA학생들로 구성된 임의 표본을 추출하였고 선택된 학생의 학부학위와 MBA프로그램 전공을 기록하였다. 이 데이터로 위의 질문에 답할 수 있는가?"
   ]
  },
  {
   "cell_type": "code",
   "execution_count": null,
   "metadata": {},
   "outputs": [],
   "source": []
  }
 ],
 "metadata": {
  "kernelspec": {
   "display_name": "Python 3",
   "language": "python",
   "name": "python3"
  },
  "language_info": {
   "codemirror_mode": {
    "name": "ipython",
    "version": 3
   },
   "file_extension": ".py",
   "mimetype": "text/x-python",
   "name": "python",
   "nbconvert_exporter": "python",
   "pygments_lexer": "ipython3",
   "version": "3.7.6"
  }
 },
 "nbformat": 4,
 "nbformat_minor": 4
}
