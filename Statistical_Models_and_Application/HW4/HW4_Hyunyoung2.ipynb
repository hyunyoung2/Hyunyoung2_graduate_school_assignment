{
 "cells": [
  {
   "cell_type": "markdown",
   "metadata": {},
   "source": [
    "# Homework 4\n"
   ]
  },
  {
   "cell_type": "code",
   "execution_count": 1,
   "metadata": {},
   "outputs": [],
   "source": [
    "# import common\n",
    "import pandas as pd\n",
    "import numpy as np\n",
    "from scipy import stats\n",
    "\n",
    "import seaborn as sns\n",
    "import matplotlib.pylab as plt\n",
    "from statsmodels.stats import weightstats\n",
    "from statsmodels.stats import proportion"
   ]
  },
  {
   "cell_type": "markdown",
   "metadata": {},
   "source": [
    "#### 1. 비행기에서 제공하는 생수가 안전한지 확인하기 위해 환경보호국에서 8월에 조사한 결과 158개의 무작위 비행기 중에서 20개 비행기(12.7%)에서 생수오염원이 발견되었다. 환경보호국은 위생개선을 명령하였고 11월에 다시 조사를 실시하였다.\n",
    "\n",
    "#### (a) 유의수준 0.05하에서 판단하였을 때 전체 비행기의 10% 이상에서 문제가 있는 생수를 제공하고 있다는 증거가 될 수 있는가? 가설검정 절차를 통해 답하시오."
   ]
  },
  {
   "cell_type": "code",
   "execution_count": 2,
   "metadata": {},
   "outputs": [
    {
     "name": "stdout",
     "output_type": "stream",
     "text": [
      "Z-statistics: 1.005, p-value: 0.157\n"
     ]
    }
   ],
   "source": [
    "# one proportion z test\n",
    "# H0 : P = 0.1\n",
    "# H1 : P > 0.1\n",
    "# Be careful : alternative option is by default two-side\n",
    "# option  alternative\n",
    "ztest_result = proportion.proportions_ztest(count=20, nobs=158, value=0.1, alternative=\"larger\")\n",
    "print(\"Z-statistics: %.3f, p-value: %.3f\" % (ztest_result))"
   ]
  },
  {
   "cell_type": "markdown",
   "metadata": {},
   "source": [
    "One proportion z test의 가정 체크로써 np>5는 158*0.1 > 5 이고 n(1-np)는 158(1-0.1) > 5 이다.\n",
    "가정을 만족하므로 One proportion z test를 진행하고 그 결과,\n",
    "\n",
    "위의 one proportion Z test의 p-value는 0.157으로 이는 유의수준(0.05)보다 작지 않으므로 (p-value > 0.05) \n",
    "우리는 귀무 가설(H0: p = 0.1) 기각하지 못함.\n",
    "\n",
    "이는 전체 비행기의 10% 이상에서 문제가 있는 생수를 제공하고 있는 통계적 근거가 없음"
   ]
  },
  {
   "cell_type": "markdown",
   "metadata": {},
   "source": [
    "#### (b) 두번째 조사에서는 169개 비행기 중에서 29개(17.2%)에서 오염된 생수를 발견하였다. 개선이 이루어지지 않고 오히려 악화되었는가? 두 표본에서의 95% 신뢰구간을 사용하여 질문에 답하시오. "
   ]
  },
  {
   "cell_type": "code",
   "execution_count": 3,
   "metadata": {},
   "outputs": [
    {
     "name": "stdout",
     "output_type": "stream",
     "text": [
      "처번째 조사(158, 20)-12.7%를 사용해서 신뢰구간 계산: (0.07473607003121532, 0.17842848693081)\n",
      "두번째 조사(169, 29)-17.2%를 사용해서 신뢰구간 계산: (0.11475410169898637, 0.22844116457320296)\n"
     ]
    }
   ],
   "source": [
    "# 158, 20를 사용해서 신뢰구간 계산\n",
    "# (c,d)의 구간이 0.127를 포함하니 우연히 발생가능#\n",
    "confident_level1 = proportion.proportion_confint(count=20, nobs=158, alpha=0.05)\n",
    "print(\"처번째 조사(158, 20)-12.7%를 사용해서 신뢰구간 계산:\", confident_level1)\n",
    "#print(\"(158, 20)-12.7%의 신뢰구간 차이:\", confident_level1[1]-confident_level1[0])\n",
    "#169, 29를 사용해서 신뢰구간 계산\n",
    "# (a,b)이 구간이 0.172를 포함하니 우연히 발생가능\n",
    "confident_level2 = proportion.proportion_confint(count=29, nobs=169, alpha=0.05)\n",
    "print(\"두번째 조사(169, 29)-17.2%를 사용해서 신뢰구간 계산:\", confident_level2)\n",
    "#print(\"(169, 29)-17.2%의 신뢰구간 차이:\", confident_level2[1]-confident_level2[0])"
   ]
  },
  {
   "cell_type": "markdown",
   "metadata": {},
   "source": [
    "위의 첫번째 조사와 두번째 조사 신뢰구간의 계산 결과:\n",
    "첫번째 조사(158, 20)-12.7%인 경우에 95% 신뢰수준에서 오염된 생수를 제공하는 경우는 0.0747와 0.1784사이이다.  \n",
    "두번째 조사(169, 29)-17.2%인 경우에 95% 신뢰수준에서 오염된 생수를 제공하는 경우는 0.1148과 0.2284사이이다.\n",
    "그 결과 첫번째 조사보다 두번째 조사는 개선이 되기 보다는 악화되었다."
   ]
  },
  {
   "cell_type": "markdown",
   "metadata": {},
   "source": [
    "#### 2. 췌장암에 대한 진단은 제1종 오류가 약 25%이다. 이 말의 의미를 설명하라.  이 경우 제1종 오류와 제2종 오류 중 어느 것이 더 위험한 결과를 초래하는가?"
   ]
  },
  {
   "cell_type": "code",
   "execution_count": 4,
   "metadata": {},
   "outputs": [],
   "source": [
    "# 제 2종 오류가 더 위험한 결과를 초래한다. \n",
    "# 제 1종 오류와 제 2종 오류는 trade-off관계"
   ]
  },
  {
   "cell_type": "markdown",
   "metadata": {},
   "source": [
    "![](./hw4_image.png)"
   ]
  },
  {
   "cell_type": "markdown",
   "metadata": {},
   "source": [
    "췌장암을 진단하는데 있어서 귀무가설(H0: 췌장암이 아니다) 이고 대립가설(H1:췌장암이다)으로 가설을 설정하고 \n",
    "아래의 그림과 같이 제 1종 오류가 약 25%의 의미는 귀뮈가설이 사실인데 귀무가설을 기각하는 경우로 \n",
    "\"H0:췌장암이 아니다\"라는 귀무가설을 기각하고 \"H1:췌장암이다\"라는 대립가설을 채택하므로 즉 제 1종 오류 25%는\n",
    "췌장암이 아닌데 췌장암이라고 오진을 확률이 25%라는 것을 의미한다. 하지만 제 1종 오류와 trade-off관계인 제 2종 오류는 귀무가설이 거짓인데 귀무가설을 채택하는 것으로 췌장암 진단에서는 귀무가설(H0:췌장암이아니다)를 기각하지 못하여 귀무가설(H0:췌장암이아니다)을 채택하는 경우로 제 2종 오류가 췌장암 진단에서 제 1종 오류보다 위험한 결과를 초래한다. 왜냐면 췌장암에 걸렸는데 췌장암이 아니라고 사실을 채택을 할 수 있기때문이다. "
   ]
  },
  {
   "cell_type": "markdown",
   "metadata": {},
   "source": [
    "#### 3. 대한민국의 50원 짜리 동전의 무게는 4.16 그램으로 정해져 있다. 15개의 표본 동전을 선택하여 측정한 결과 평균 무게는 4.02 그램이고 표준편차는 0.040그램이다. (표본 무게의 분포가 대칭의 형태라고 가정하자.) 평균무게가 정해진 기준보다 작다고 5% 유의수준에서 말할 수 있는가? 가설검정 과정을 통해 답하시오."
   ]
  },
  {
   "cell_type": "code",
   "execution_count": 5,
   "metadata": {},
   "outputs": [
    {
     "name": "stdout",
     "output_type": "stream",
     "text": [
      "T statistics: -13.555441711726013\n",
      "P value: 9.639968342159571e-10\n"
     ]
    }
   ],
   "source": [
    "# One-sample t test\n",
    "# H0 : mu = 4.16\n",
    "# H1 : mu < 4.16\n",
    "# t statistic ?\n",
    "t_statistic = (4.02-4.16)/(0.040/np.sqrt(15))\n",
    "print(\"T statistics:\", t_statistic)\n",
    "# p-value\n",
    "# 자유도 14\n",
    "# t.cdf\n",
    "from scipy.stats import t\n",
    "p_value = t.cdf(t_statistic, 14)\n",
    "print(\"P value:\", p_value)"
   ]
  },
  {
   "cell_type": "markdown",
   "metadata": {},
   "source": [
    "위의 결과에 p-value < 0.05보다 작으므로 귀무가설(H0: mu = 4.16)을 기각하고 대립가설(H1:mu<4.16)를 채택한다."
   ]
  }
 ],
 "metadata": {
  "kernelspec": {
   "display_name": "Python 3",
   "language": "python",
   "name": "python3"
  },
  "language_info": {
   "codemirror_mode": {
    "name": "ipython",
    "version": 3
   },
   "file_extension": ".py",
   "mimetype": "text/x-python",
   "name": "python",
   "nbconvert_exporter": "python",
   "pygments_lexer": "ipython3",
   "version": "3.7.6"
  }
 },
 "nbformat": 4,
 "nbformat_minor": 4
}
