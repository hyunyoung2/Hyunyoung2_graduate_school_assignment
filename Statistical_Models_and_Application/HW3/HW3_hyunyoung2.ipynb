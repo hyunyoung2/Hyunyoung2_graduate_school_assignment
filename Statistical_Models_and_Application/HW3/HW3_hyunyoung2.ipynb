{
 "cells": [
  {
   "cell_type": "markdown",
   "metadata": {},
   "source": [
    "# Homework 3\n"
   ]
  },
  {
   "cell_type": "markdown",
   "metadata": {},
   "source": [
    "#### 1. Lecture 3의 중심극한정리 부분에서 지수분포(exponential distribution)을 사용하였다. 지수분포는 아래와 같은 확률밀도함수를 갖는다. \n",
    "<img src=\"https://wikimedia.org/api/rest_v1/media/math/render/svg/5a9fdb86104f54ca275a0c340c25d88afff540ae\">\n",
    "\n",
    "#### Lecture 3에서는 $\\lambda=1$(default; exp(1))를 사용하였고 이 때 지수분포를 따르는 확률변수의 기대값과 분산은 1로 알려져있다. \n",
    "\n",
    "#### (a) 아래의 과정에 따라 표본을 추출하여 저장하시오. \n",
    "- exp(1)에서 100000개의 무작위표본을 추출하여  `pop`의 이름으로 저장하시오. \n",
    "- exp(1)에서 30개의 무작위 표본을 1000번 추출하여 표본평균 1000개를 계산하여 `sample_mean1`으로 저장하시오.\n",
    "- exp(1)에서 100개의 무작위 표본을 1000번 추출하여 표본평균 1000개를 계산하여  `sample_mean2`로 저장하시오."
   ]
  },
  {
   "cell_type": "code",
   "execution_count": 2,
   "metadata": {},
   "outputs": [
    {
     "name": "stdout",
     "output_type": "stream",
     "text": [
      "pop.shape: (100000,)\n",
      "pop[0:3]: [0.79587451 1.25593076 0.92322315]\n"
     ]
    }
   ],
   "source": [
    "# import common\n",
    "import pandas as pd\n",
    "import numpy as np\n",
    "from scipy import stats\n",
    "\n",
    "import seaborn as sns\n",
    "import matplotlib.pylab as plt\n",
    "\n",
    "n=1\n",
    "size = 100000\n",
    "np.random.seed(seed=0)\n",
    "pop = stats.expon.rvs(size=n*size) \n",
    "# exp(1)에서 100000개의 무작위표본을 추출하여 pop의 이름으로 저장하시오.\n",
    "print(\"===== for pop =====\")\n",
    "print(\"pop.shape:\", pop.shape)\n",
    "print(\"pop[0:3]:\", pop[0:3])"
   ]
  },
  {
   "cell_type": "code",
   "execution_count": 3,
   "metadata": {},
   "outputs": [
    {
     "name": "stdout",
     "output_type": "stream",
     "text": [
      "===== for sample_mean1 =====\n",
      "pop1.shape: (30, 1000)\n",
      "pop1: [[0.79587451 1.25593076 0.92322315 ... 2.78728858 0.25960858 1.13054003]\n",
      " [0.89864796 0.01011468 0.64593196 ... 0.65413381 1.0324427  0.69669974]\n",
      " [1.66875526 0.64642389 0.74056586 ... 0.39099093 1.67956545 1.19534473]]\n",
      "sample_mean1: [1.06847616 0.74655422 0.84728796]\n"
     ]
    }
   ],
   "source": [
    "n=30\n",
    "size = 1000\n",
    "np.random.seed(seed=0)\n",
    "pop = stats.expon.rvs(size=n*size)\n",
    "pop1 = np.reshape(pop, [n,size])\n",
    "sample_mean1 = pop1.mean(axis=0)\n",
    "# exp(1)에서 30개의 무작위 표본을 1000번 추출하여 표본평균 1000개를 계산하여 sample_mean1으로 저장하시오.\n",
    "print(\"===== for sample_mean1 =====\")\n",
    "print(\"pop1.shape:\", pop1.shape)\n",
    "print(\"pop1:\", pop1[0:3])\n",
    "print(\"sample_mean1:\", sample_mean1[0:3])"
   ]
  },
  {
   "cell_type": "code",
   "execution_count": 4,
   "metadata": {},
   "outputs": [
    {
     "name": "stdout",
     "output_type": "stream",
     "text": [
      "pop2.shape: (100, 1000)\n",
      "pop2: [[1.41933594 0.69980633 0.19481933 ... 0.65622896 1.08530223 1.09432998]\n",
      " [0.30254162 0.62483176 0.16083749 ... 0.27295705 1.83992398 0.11640151]\n",
      " [0.45599345 0.43176542 0.51477919 ... 1.05367163 1.32382806 3.7509212 ]]\n",
      "sample_mean1: [1.03563942 0.85822687 1.05255538]\n"
     ]
    }
   ],
   "source": [
    "n=100\n",
    "size = 1000\n",
    "pop = stats.expon.rvs(size=n*size)\n",
    "pop2 = np.reshape(pop, [n,size])\n",
    "sample_mean2 = pop2.mean(axis=0)\n",
    "# exp(1)에서 100개의 무작위 표본을 1000번 추출하여 표본평균 1000개를 계산하여 sample_mean2로 저장하시오.\n",
    "print(\"pop2.shape:\", pop2.shape)\n",
    "print(\"pop2:\", pop2[0:3])\n",
    "print(\"sample_mean1:\", sample_mean2[0:3])"
   ]
  },
  {
   "cell_type": "markdown",
   "metadata": {},
   "source": [
    "#### (b) 위에서 저장한 `pop`, `sample_mean1`, `sample_mean2`의 히스토그램을 그려 저장하고 그 모양을 비교서술하시오. "
   ]
  },
  {
   "cell_type": "code",
   "execution_count": 5,
   "metadata": {},
   "outputs": [
    {
     "data": {
      "image/png": "[encoded data removed]",
      "text/plain": [
       "<Figure size 864x360 with 3 Axes>"
      ]
     },
     "metadata": {
      "needs_background": "light"
     },
     "output_type": "display_data"
    }
   ],
   "source": [
    "fig, axes = plt.subplots(ncols=3, figsize=(12, 5))\n",
    "ax = axes[0]\n",
    "x = np.linspace(0, 5, 300)\n",
    "ax.plot(x, stats.expon.pdf(x))\n",
    "ax.hist(pop, bins=30, density=True)\n",
    "#ax.hist(stats.expon.pdf(x), bins=30, density=True)\n",
    "ax.set_xlim(0, 5)\n",
    "ax.set_title('pop')\n",
    "ax = axes[1]\n",
    "ax.hist(sample_mean1, bins=30, density=True)\n",
    "ax.set_xlim(0, 5)\n",
    "ax.set_title('sample_mean1')\n",
    "ax = axes[2]\n",
    "ax.hist(sample_mean2, bins=30, density=True)\n",
    "ax.set_xlim(0, 5)\n",
    "ax.set_title('sample_mean2')\n",
    "ax.set_position\n",
    "plt.show()"
   ]
  },
  {
   "cell_type": "markdown",
   "metadata": {},
   "source": [
    "위의 그림에서 확인할 수 있듯이, 중심극한의 정리를 실험적으로 확인할 수 있었다. \n",
    "즉, \"규모가 큰(n>=30) 단순 무작위 표본을 사용한다면 **모분포가 정규분포가 아니더라도** 표폰 평균의 분포는 **정규분포에 근사한다.**\"라는 중심극한 정리대로 **모분포가 지수분포(exp)**인대로 **표본 평균의 분포인 sample_mean1과 sample_mean2** 정규 분포 모앙인 종모양으로 근사한다는 것을 위의 실험에서 확인 할 수 있었다. 그리고 N의 크기가 크면 점저 표본 평균의 분포의 분산(표준편차)가 작아지는 것을 확인할 수 있다, 그래고 **sample_mean2**는 **sample_mean1** 보다 더 모평균에 가까운 값일 뽑힐 확률이 높다 ($E(\\bar x) = \\mu$). "
   ]
  },
  {
   "cell_type": "markdown",
   "metadata": {},
   "source": [
    "#### (c) 이론적으로 계산했을 때 `pop`, `sample_mean1`, `sample_mean2`의 평균과 분산은 무엇이 될 것이라고 추측하는가?"
   ]
  },
  {
   "cell_type": "code",
   "execution_count": 6,
   "metadata": {
    "scrolled": true
   },
   "outputs": [
    {
     "name": "stdout",
     "output_type": "stream",
     "text": [
      "The mean of pop: 1\n",
      "The variance of pop: 1\n",
      "===========================\n",
      "The mean of sample_mean1: 1\n",
      "The variance of sample_mean1: 0.033333333333333326\n",
      "===========================\n",
      "The mean of sample_mean2: 1\n",
      "The variance of sample_mean2: 0.010000000000000002\n"
     ]
    }
   ],
   "source": [
    "print(\"The mean of pop:\", 1)\n",
    "print(\"The variance of pop:\", 1)\n",
    "print(\"===========================\")\n",
    "print(\"The mean of sample_mean1:\", 1)\n",
    "print(\"The variance of sample_mean1:\", (1/np.sqrt(30))**2)\n",
    "print(\"===========================\")\n",
    "print(\"The mean of sample_mean2:\", 1)\n",
    "print(\"The variance of sample_mean2:\", (1/np.sqrt(100))**2)"
   ]
  },
  {
   "cell_type": "markdown",
   "metadata": {},
   "source": [
    "**Lecture 3에서는  𝜆=1 (default; exp(1))를 사용하였고 이 때 지수분포를 따르는 확률변수의 기대값과 분산은 1로 알려져있다.**와 같은 문제에서 이론적으로 아래의 식을 이용하여 표본평균의 기대값($E(\\bar x)$) 오 표본 평균의 표준편차($\\sigma_{\\bar X}$)를 계산하면 위의 출력된 결과를 얻을 수 있다.\n",
    "\n",
    "$$E(\\bar X) = \\mu$$\n",
    "$$\\sigma_{\\bar X} = \\frac{\\sigma}{\\sqrt n}$$"
   ]
  },
  {
   "cell_type": "markdown",
   "metadata": {},
   "source": [
    "#### (d)  `pop`, `sample_mean1`, `sample_mean2`의 평균과 분산을 계산하여 (c)에서 추측한 값과 가까운 값인지 확인하시오. "
   ]
  },
  {
   "cell_type": "code",
   "execution_count": 29,
   "metadata": {},
   "outputs": [
    {
     "name": "stdout",
     "output_type": "stream",
     "text": [
      "The mean of pop: 0.9954889043544147\n",
      "The variance of pop: 1.0061882457777718\n",
      "===========================\n",
      "The mean of sample_mean1: 0.9954889043544146\n",
      "The variance of sample_mean1: 0.03371049718913247\n",
      "===========================\n",
      "The mean of sample_mean2: 1.0061199306972202\n",
      "The variance of sample_mean2: 0.009085849542480231\n"
     ]
    }
   ],
   "source": [
    "print(\"The mean of pop:\", pop.mean())\n",
    "print(\"The variance of pop:\", pop.var())\n",
    "print(\"===========================\")\n",
    "print(\"The mean of sample_mean1:\", sample_mean1.mean())\n",
    "print(\"The variance of sample_mean1:\", sample_mean1.var())\n",
    "print(\"===========================\")\n",
    "print(\"The mean of sample_mean2:\", sample_mean2.mean())\n",
    "print(\"The variance of sample_mean2:\", sample_mean2.var())"
   ]
  },
  {
   "cell_type": "markdown",
   "metadata": {},
   "source": [
    "실제로 pop, sample_mean1, sample_mean2으로 평균 및 분산을 계산한 결과 **이론적으로 계산한 결과에 근사하는 것**을 확인 할 수 있다. "
   ]
  },
  {
   "cell_type": "markdown",
   "metadata": {},
   "source": [
    "#### 2. \t개인이 지불하는 자동차 보험료의 연간 평균은 687달러이다. 이 값을 모집단 평균으로 하고 모집단의 표준편차가 230달러이다. 45개의 자동차 보험계약을 생각해보자. 45개 보험료의 평균이 모집단 평균의 +-25달러 이내에 있을 확률은 얼마인가?\n"
   ]
  },
  {
   "cell_type": "code",
   "execution_count": 7,
   "metadata": {},
   "outputs": [
    {
     "data": {
      "text/plain": [
       "0.5340916787127394"
      ]
     },
     "execution_count": 7,
     "metadata": {},
     "output_type": "execute_result"
    }
   ],
   "source": [
    "from scipy.stats import norm\n",
    "mean = 687\n",
    "sd = 230/np.sqrt(45)\n",
    "a = norm.cdf(687+25, loc=mean, scale=sd)\n",
    "b = norm.cdf(687-25, loc=mean, scale=sd)\n",
    "a-b"
   ]
  },
  {
   "cell_type": "markdown",
   "metadata": {},
   "source": [
    "위의 확률로 45개의 보험표의 평균이 모집단 평균의 +-25달러 존재한다."
   ]
  },
  {
   "cell_type": "markdown",
   "metadata": {},
   "source": [
    "#### 3. `airbnb.csv` 데이터셋을 사용하여 샌프란시스코 전체 리스팅의 `reviews_per_month`의 평균을 95% 신뢰구간으로 추정하고 해석하시오. "
   ]
  },
  {
   "cell_type": "code",
   "execution_count": 70,
   "metadata": {},
   "outputs": [
    {
     "name": "stdout",
     "output_type": "stream",
     "text": [
      "reviews_per_months' shape: (6105,)\n",
      "reviews_per_months' mean: 1.8882506142506121\n",
      "reviews_per_months' sd: 2.089904214530151\n"
     ]
    }
   ],
   "source": [
    "import pandas as pd\n",
    "import numpy as np\n",
    "from scipy.stats import trim_mean\n",
    "from statsmodels import robust\n",
    "import os \n",
    "\n",
    "import seaborn as sns\n",
    "import matplotlib.pylab as plt\n",
    "#print(\"Current location:\", os.getcwd())\n",
    "# data가 저장되어 있는 경로로 각자 수정 필요\n",
    "data = pd.read_csv(\"C:\\\\Users\\\\nlpla\\\\Downloads\\\\airbnb.csv\")\n",
    "sample = data.reviews_per_month\n",
    "sample_mean = sample.mean()\n",
    "sample_sd = np.sqrt(sample.var())\n",
    "print(\"reviews_per_months' shape:\", sample.shape)\n",
    "print(\"reviews_per_months' mean:\", sample_mean)\n",
    "print(\"reviews_per_months' sd:\", sample_sd)"
   ]
  },
  {
   "cell_type": "code",
   "execution_count": 68,
   "metadata": {},
   "outputs": [],
   "source": [
    "n=6105\n",
    "alpha = 0.05"
   ]
  },
  {
   "cell_type": "code",
   "execution_count": 79,
   "metadata": {},
   "outputs": [
    {
     "data": {
      "text/plain": [
       "1.9603527023808762"
      ]
     },
     "execution_count": 79,
     "metadata": {},
     "output_type": "execute_result"
    }
   ],
   "source": [
    "stats.t.ppf(1-alpha/2, n-1)"
   ]
  },
  {
   "cell_type": "code",
   "execution_count": 80,
   "metadata": {},
   "outputs": [
    {
     "name": "stdout",
     "output_type": "stream",
     "text": [
      "lower bound: 1.835816037911685\n",
      "upper bound: 1.9406851905895393\n"
     ]
    }
   ],
   "source": [
    "ci_lower = sample_mean - stats.t.ppf(1-alpha/2, n-1)*sample_sd/np.sqrt(n)\n",
    "ci_upper = sample_mean + stats.t.ppf(1-alpha/2, n-1)*sample_sd/np.sqrt(n)\n",
    "print(\"lower bound:\", ci_lower)\n",
    "print(\"upper bound:\", ci_upper)"
   ]
  },
  {
   "cell_type": "markdown",
   "metadata": {},
   "source": [
    "유의수준을 0.05로 95%로 신뢰구간 측정한다면 \n",
    "위의 결과로 부터 모평균($\\mu$)이 **lower bound** 와 **upper bound** 사이에 있을 가능성이 **95%** 이다\n",
    "즉, **P(1.835816037911685 < $\\mu$ < 1.9406851905895393) = 0.95**"
   ]
  }
 ],
 "metadata": {
  "kernelspec": {
   "display_name": "Python 3",
   "language": "python",
   "name": "python3"
  },
  "language_info": {
   "codemirror_mode": {
    "name": "ipython",
    "version": 3
   },
   "file_extension": ".py",
   "mimetype": "text/x-python",
   "name": "python",
   "nbconvert_exporter": "python",
   "pygments_lexer": "ipython3",
   "version": "3.7.6"
  }
 },
 "nbformat": 4,
 "nbformat_minor": 4
}
