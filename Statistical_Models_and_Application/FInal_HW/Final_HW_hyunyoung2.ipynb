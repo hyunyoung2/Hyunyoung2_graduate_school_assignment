{
 "cells": [
  {
   "cell_type": "markdown",
   "metadata": {},
   "source": [
    "# <font color=navy> 기말고사 - 통계분석론 2020-2학기"
   ]
  },
  {
   "cell_type": "markdown",
   "metadata": {},
   "source": [
    "<font color=\"blue\"> \n",
    "    \n",
    "- **각 문항에 답을 하기 위해 사용된 그래프, 표, 통계량 등을 반드시 모두 제시하세요.**\n",
    "- **아래의 문제에 답을 채워넣은 뒤 모든 결과물이 프린트 된 상태에서 `File>Download as>HTML(.html)` 형식으로 저장하여 업로드하세요.**\n",
    "- **모든 가설검정은 유의수준($\\alpha$) 0.05 하에서 진행하세요.**"
   ]
  },
  {
   "cell_type": "code",
   "execution_count": 1,
   "metadata": {},
   "outputs": [],
   "source": [
    "import pandas as pd\n",
    "import numpy as np\n",
    "import matplotlib.pylab as plt\n",
    "from scipy import stats\n",
    "import statsmodels.api as sm\n",
    "import statsmodels.formula.api as smf\n",
    "from statsmodels.stats import weightstats\n",
    "from statsmodels.stats.outliers_influence import OLSInfluence\n",
    "\n",
    "data_path = \"C:\\\\Users\\\\nlp\\\\\\Desktop\\\\\\통계학 수업\\\\\\statistic_final_exam\\\\\" # 수정필요 "
   ]
  },
  {
   "cell_type": "markdown",
   "metadata": {},
   "source": [
    "1. 한 연구자는 우울증 치료요법의 효과를 측정하였다(depression.csv). 종속변수 y 는 측정된 치료요법의 효과(클수록 효과가 좋음)을 나타내고, age는 환자의 나이, TRT(A, B, C)는 세 가지 종류의 치료요법을 나타낸다. Y를 age와 TRT로 설명하는 회귀식을 적합하고 아래의 질문에 답하시오."
   ]
  },
  {
   "cell_type": "markdown",
   "metadata": {},
   "source": [
    "(1)\t추정된 회귀식을 쓰고 이 회귀식이 종속변수를 설명하는데 유의한지 가설검정을 진행하시오. (귀무가설, 대립가설 명시)"
   ]
  },
  {
   "cell_type": "code",
   "execution_count": 2,
   "metadata": {},
   "outputs": [],
   "source": [
    "dep = pd.read_csv(data_path + \"depression.csv\")"
   ]
  },
  {
   "cell_type": "code",
   "execution_count": 3,
   "metadata": {},
   "outputs": [
    {
     "data": {
      "text/html": [
       "<div>\n",
       "<style scoped>\n",
       "    .dataframe tbody tr th:only-of-type {\n",
       "        vertical-align: middle;\n",
       "    }\n",
       "\n",
       "    .dataframe tbody tr th {\n",
       "        vertical-align: top;\n",
       "    }\n",
       "\n",
       "    .dataframe thead th {\n",
       "        text-align: right;\n",
       "    }\n",
       "</style>\n",
       "<table border=\"1\" class=\"dataframe\">\n",
       "  <thead>\n",
       "    <tr style=\"text-align: right;\">\n",
       "      <th></th>\n",
       "      <th>y</th>\n",
       "      <th>age</th>\n",
       "      <th>TRT</th>\n",
       "    </tr>\n",
       "  </thead>\n",
       "  <tbody>\n",
       "    <tr>\n",
       "      <th>0</th>\n",
       "      <td>56</td>\n",
       "      <td>21</td>\n",
       "      <td>A</td>\n",
       "    </tr>\n",
       "    <tr>\n",
       "      <th>1</th>\n",
       "      <td>41</td>\n",
       "      <td>23</td>\n",
       "      <td>B</td>\n",
       "    </tr>\n",
       "    <tr>\n",
       "      <th>2</th>\n",
       "      <td>40</td>\n",
       "      <td>30</td>\n",
       "      <td>B</td>\n",
       "    </tr>\n",
       "    <tr>\n",
       "      <th>3</th>\n",
       "      <td>28</td>\n",
       "      <td>19</td>\n",
       "      <td>C</td>\n",
       "    </tr>\n",
       "    <tr>\n",
       "      <th>4</th>\n",
       "      <td>55</td>\n",
       "      <td>28</td>\n",
       "      <td>A</td>\n",
       "    </tr>\n",
       "  </tbody>\n",
       "</table>\n",
       "</div>"
      ],
      "text/plain": [
       "    y  age TRT\n",
       "0  56   21   A\n",
       "1  41   23   B\n",
       "2  40   30   B\n",
       "3  28   19   C\n",
       "4  55   28   A"
      ]
     },
     "execution_count": 3,
     "metadata": {},
     "output_type": "execute_result"
    }
   ],
   "source": [
    "dep.head()"
   ]
  },
  {
   "cell_type": "code",
   "execution_count": 4,
   "metadata": {},
   "outputs": [
    {
     "data": {
      "text/html": [
       "<table class=\"simpletable\">\n",
       "<caption>OLS Regression Results</caption>\n",
       "<tr>\n",
       "  <th>Dep. Variable:</th>            <td>y</td>        <th>  R-squared:         </th> <td>   0.784</td>\n",
       "</tr>\n",
       "<tr>\n",
       "  <th>Model:</th>                   <td>OLS</td>       <th>  Adj. R-squared:    </th> <td>   0.764</td>\n",
       "</tr>\n",
       "<tr>\n",
       "  <th>Method:</th>             <td>Least Squares</td>  <th>  F-statistic:       </th> <td>   38.71</td>\n",
       "</tr>\n",
       "<tr>\n",
       "  <th>Date:</th>             <td>Wed, 16 Dec 2020</td> <th>  Prob (F-statistic):</th> <td>9.29e-11</td>\n",
       "</tr>\n",
       "<tr>\n",
       "  <th>Time:</th>                 <td>19:47:22</td>     <th>  Log-Likelihood:    </th> <td> -113.68</td>\n",
       "</tr>\n",
       "<tr>\n",
       "  <th>No. Observations:</th>      <td>    36</td>      <th>  AIC:               </th> <td>   235.4</td>\n",
       "</tr>\n",
       "<tr>\n",
       "  <th>Df Residuals:</th>          <td>    32</td>      <th>  BIC:               </th> <td>   241.7</td>\n",
       "</tr>\n",
       "<tr>\n",
       "  <th>Df Model:</th>              <td>     3</td>      <th>                     </th>     <td> </td>   \n",
       "</tr>\n",
       "<tr>\n",
       "  <th>Covariance Type:</th>      <td>nonrobust</td>    <th>                     </th>     <td> </td>   \n",
       "</tr>\n",
       "</table>\n",
       "<table class=\"simpletable\">\n",
       "<tr>\n",
       "       <td></td>          <th>coef</th>     <th>std err</th>      <th>t</th>      <th>P>|t|</th>  <th>[0.025</th>    <th>0.975]</th>  \n",
       "</tr>\n",
       "<tr>\n",
       "  <th>Intercept</th>   <td>   32.5433</td> <td>    3.581</td> <td>    9.088</td> <td> 0.000</td> <td>   25.249</td> <td>   39.838</td>\n",
       "</tr>\n",
       "<tr>\n",
       "  <th>C(TRT)[T.B]</th> <td>   -9.8076</td> <td>    2.465</td> <td>   -3.979</td> <td> 0.000</td> <td>  -14.828</td> <td>   -4.787</td>\n",
       "</tr>\n",
       "<tr>\n",
       "  <th>C(TRT)[T.C]</th> <td>  -10.2528</td> <td>    2.465</td> <td>   -4.159</td> <td> 0.000</td> <td>  -15.275</td> <td>   -5.231</td>\n",
       "</tr>\n",
       "<tr>\n",
       "  <th>age</th>         <td>    0.6645</td> <td>    0.070</td> <td>    9.522</td> <td> 0.000</td> <td>    0.522</td> <td>    0.807</td>\n",
       "</tr>\n",
       "</table>\n",
       "<table class=\"simpletable\">\n",
       "<tr>\n",
       "  <th>Omnibus:</th>       <td> 1.212</td> <th>  Durbin-Watson:     </th> <td>   2.214</td>\n",
       "</tr>\n",
       "<tr>\n",
       "  <th>Prob(Omnibus):</th> <td> 0.546</td> <th>  Jarque-Bera (JB):  </th> <td>   1.196</td>\n",
       "</tr>\n",
       "<tr>\n",
       "  <th>Skew:</th>          <td>-0.347</td> <th>  Prob(JB):          </th> <td>   0.550</td>\n",
       "</tr>\n",
       "<tr>\n",
       "  <th>Kurtosis:</th>      <td> 2.438</td> <th>  Cond. No.          </th> <td>    184.</td>\n",
       "</tr>\n",
       "</table><br/><br/>Warnings:<br/>[1] Standard Errors assume that the covariance matrix of the errors is correctly specified."
      ],
      "text/plain": [
       "<class 'statsmodels.iolib.summary.Summary'>\n",
       "\"\"\"\n",
       "                            OLS Regression Results                            \n",
       "==============================================================================\n",
       "Dep. Variable:                      y   R-squared:                       0.784\n",
       "Model:                            OLS   Adj. R-squared:                  0.764\n",
       "Method:                 Least Squares   F-statistic:                     38.71\n",
       "Date:                Wed, 16 Dec 2020   Prob (F-statistic):           9.29e-11\n",
       "Time:                        19:47:22   Log-Likelihood:                -113.68\n",
       "No. Observations:                  36   AIC:                             235.4\n",
       "Df Residuals:                      32   BIC:                             241.7\n",
       "Df Model:                           3                                         \n",
       "Covariance Type:            nonrobust                                         \n",
       "===============================================================================\n",
       "                  coef    std err          t      P>|t|      [0.025      0.975]\n",
       "-------------------------------------------------------------------------------\n",
       "Intercept      32.5433      3.581      9.088      0.000      25.249      39.838\n",
       "C(TRT)[T.B]    -9.8076      2.465     -3.979      0.000     -14.828      -4.787\n",
       "C(TRT)[T.C]   -10.2528      2.465     -4.159      0.000     -15.275      -5.231\n",
       "age             0.6645      0.070      9.522      0.000       0.522       0.807\n",
       "==============================================================================\n",
       "Omnibus:                        1.212   Durbin-Watson:                   2.214\n",
       "Prob(Omnibus):                  0.546   Jarque-Bera (JB):                1.196\n",
       "Skew:                          -0.347   Prob(JB):                        0.550\n",
       "Kurtosis:                       2.438   Cond. No.                         184.\n",
       "==============================================================================\n",
       "\n",
       "Warnings:\n",
       "[1] Standard Errors assume that the covariance matrix of the errors is correctly specified.\n",
       "\"\"\""
      ]
     },
     "execution_count": 4,
     "metadata": {},
     "output_type": "execute_result"
    }
   ],
   "source": [
    "dep_model = smf.ols('y ~ age + C(TRT)', data=dep).fit()\n",
    "dep_model.summary()"
   ]
  },
  {
   "cell_type": "code",
   "execution_count": 5,
   "metadata": {},
   "outputs": [],
   "source": [
    "# 회귀식: y = b_0 + b_1 * C(TRT)[T.B] + b_2 *C(TRT)[T.C] + b_3* age\n",
    "#         y = 32.5433 + (-9.8076)*C(TRT)[T.B] + (-10.2528)*C(TRT)[T.C] + 0.6645* age"
   ]
  },
  {
   "cell_type": "code",
   "execution_count": 6,
   "metadata": {},
   "outputs": [],
   "source": [
    "# F 검정 \n",
    "# H_0 : b_1 = b_2 = b_3 = 0 \n",
    "# H_1 : 적어도 하나의 b_j는 0이 아니다. \n",
    "# F-statistic = 38.71 에 대한 P-value(Prob (F-statistic)=9.29e-11) < 0.005 이므로 귀무 가설 기각"
   ]
  },
  {
   "cell_type": "markdown",
   "metadata": {},
   "source": [
    "(2) 추정된 회귀식은 Y의 변동량의 몇 %를 설명하는가?"
   ]
  },
  {
   "cell_type": "code",
   "execution_count": 7,
   "metadata": {},
   "outputs": [],
   "source": [
    "# R-squared=0.784 이므로\n",
    "# Y의 변동 중 78%가 추정된 회귀식에 의해 설명된다. "
   ]
  },
  {
   "cell_type": "markdown",
   "metadata": {},
   "source": [
    "(3) age에 대한 회귀계수가 유의한지 가설검정을 진행하시오. (귀무가설, 대립가설 제시)"
   ]
  },
  {
   "cell_type": "code",
   "execution_count": 8,
   "metadata": {},
   "outputs": [],
   "source": [
    "# age의 계수 : b_3 \n",
    "# H_0 : b_3 = 0\n",
    "# H_1 : b_3 != 0\n",
    "\n",
    "# age의 p-value < 0.05이므로 귀무가설 기각"
   ]
  },
  {
   "cell_type": "markdown",
   "metadata": {},
   "source": [
    "(4) Age와 trt사이에 교호작용(상호작용)이 존재하는가? 가설검정을 통해 확인하시오."
   ]
  },
  {
   "cell_type": "code",
   "execution_count": 9,
   "metadata": {},
   "outputs": [
    {
     "data": {
      "text/html": [
       "<table class=\"simpletable\">\n",
       "<caption>OLS Regression Results</caption>\n",
       "<tr>\n",
       "  <th>Dep. Variable:</th>            <td>y</td>        <th>  R-squared:         </th> <td>   0.914</td>\n",
       "</tr>\n",
       "<tr>\n",
       "  <th>Model:</th>                   <td>OLS</td>       <th>  Adj. R-squared:    </th> <td>   0.900</td>\n",
       "</tr>\n",
       "<tr>\n",
       "  <th>Method:</th>             <td>Least Squares</td>  <th>  F-statistic:       </th> <td>   64.04</td>\n",
       "</tr>\n",
       "<tr>\n",
       "  <th>Date:</th>             <td>Wed, 16 Dec 2020</td> <th>  Prob (F-statistic):</th> <td>4.26e-15</td>\n",
       "</tr>\n",
       "<tr>\n",
       "  <th>Time:</th>                 <td>19:47:23</td>     <th>  Log-Likelihood:    </th> <td> -97.024</td>\n",
       "</tr>\n",
       "<tr>\n",
       "  <th>No. Observations:</th>      <td>    36</td>      <th>  AIC:               </th> <td>   206.0</td>\n",
       "</tr>\n",
       "<tr>\n",
       "  <th>Df Residuals:</th>          <td>    30</td>      <th>  BIC:               </th> <td>   215.5</td>\n",
       "</tr>\n",
       "<tr>\n",
       "  <th>Df Model:</th>              <td>     5</td>      <th>                     </th>     <td> </td>   \n",
       "</tr>\n",
       "<tr>\n",
       "  <th>Covariance Type:</th>      <td>nonrobust</td>    <th>                     </th>     <td> </td>   \n",
       "</tr>\n",
       "</table>\n",
       "<table class=\"simpletable\">\n",
       "<tr>\n",
       "        <td></td>          <th>coef</th>     <th>std err</th>      <th>t</th>      <th>P>|t|</th>  <th>[0.025</th>    <th>0.975]</th>  \n",
       "</tr>\n",
       "<tr>\n",
       "  <th>Intercept</th>    <td>   47.5156</td> <td>    3.825</td> <td>   12.422</td> <td> 0.000</td> <td>   39.703</td> <td>   55.328</td>\n",
       "</tr>\n",
       "<tr>\n",
       "  <th>TRT[T.B]</th>     <td>  -18.5974</td> <td>    5.416</td> <td>   -3.434</td> <td> 0.002</td> <td>  -29.658</td> <td>   -7.537</td>\n",
       "</tr>\n",
       "<tr>\n",
       "  <th>TRT[T.C]</th>     <td>  -41.3042</td> <td>    5.085</td> <td>   -8.124</td> <td> 0.000</td> <td>  -51.688</td> <td>  -30.920</td>\n",
       "</tr>\n",
       "<tr>\n",
       "  <th>age</th>          <td>    0.3305</td> <td>    0.081</td> <td>    4.056</td> <td> 0.000</td> <td>    0.164</td> <td>    0.497</td>\n",
       "</tr>\n",
       "<tr>\n",
       "  <th>age:TRT[T.B]</th> <td>    0.1932</td> <td>    0.117</td> <td>    1.657</td> <td> 0.108</td> <td>   -0.045</td> <td>    0.431</td>\n",
       "</tr>\n",
       "<tr>\n",
       "  <th>age:TRT[T.C]</th> <td>    0.7029</td> <td>    0.109</td> <td>    6.451</td> <td> 0.000</td> <td>    0.480</td> <td>    0.925</td>\n",
       "</tr>\n",
       "</table>\n",
       "<table class=\"simpletable\">\n",
       "<tr>\n",
       "  <th>Omnibus:</th>       <td> 2.593</td> <th>  Durbin-Watson:     </th> <td>   1.633</td>\n",
       "</tr>\n",
       "<tr>\n",
       "  <th>Prob(Omnibus):</th> <td> 0.273</td> <th>  Jarque-Bera (JB):  </th> <td>   1.475</td>\n",
       "</tr>\n",
       "<tr>\n",
       "  <th>Skew:</th>          <td>-0.183</td> <th>  Prob(JB):          </th> <td>   0.478</td>\n",
       "</tr>\n",
       "<tr>\n",
       "  <th>Kurtosis:</th>      <td> 2.079</td> <th>  Cond. No.          </th> <td>    577.</td>\n",
       "</tr>\n",
       "</table><br/><br/>Warnings:<br/>[1] Standard Errors assume that the covariance matrix of the errors is correctly specified."
      ],
      "text/plain": [
       "<class 'statsmodels.iolib.summary.Summary'>\n",
       "\"\"\"\n",
       "                            OLS Regression Results                            \n",
       "==============================================================================\n",
       "Dep. Variable:                      y   R-squared:                       0.914\n",
       "Model:                            OLS   Adj. R-squared:                  0.900\n",
       "Method:                 Least Squares   F-statistic:                     64.04\n",
       "Date:                Wed, 16 Dec 2020   Prob (F-statistic):           4.26e-15\n",
       "Time:                        19:47:23   Log-Likelihood:                -97.024\n",
       "No. Observations:                  36   AIC:                             206.0\n",
       "Df Residuals:                      30   BIC:                             215.5\n",
       "Df Model:                           5                                         \n",
       "Covariance Type:            nonrobust                                         \n",
       "================================================================================\n",
       "                   coef    std err          t      P>|t|      [0.025      0.975]\n",
       "--------------------------------------------------------------------------------\n",
       "Intercept       47.5156      3.825     12.422      0.000      39.703      55.328\n",
       "TRT[T.B]       -18.5974      5.416     -3.434      0.002     -29.658      -7.537\n",
       "TRT[T.C]       -41.3042      5.085     -8.124      0.000     -51.688     -30.920\n",
       "age              0.3305      0.081      4.056      0.000       0.164       0.497\n",
       "age:TRT[T.B]     0.1932      0.117      1.657      0.108      -0.045       0.431\n",
       "age:TRT[T.C]     0.7029      0.109      6.451      0.000       0.480       0.925\n",
       "==============================================================================\n",
       "Omnibus:                        2.593   Durbin-Watson:                   1.633\n",
       "Prob(Omnibus):                  0.273   Jarque-Bera (JB):                1.475\n",
       "Skew:                          -0.183   Prob(JB):                        0.478\n",
       "Kurtosis:                       2.079   Cond. No.                         577.\n",
       "==============================================================================\n",
       "\n",
       "Warnings:\n",
       "[1] Standard Errors assume that the covariance matrix of the errors is correctly specified.\n",
       "\"\"\""
      ]
     },
     "execution_count": 9,
     "metadata": {},
     "output_type": "execute_result"
    }
   ],
   "source": [
    "model_dep_interaction_effect = smf.ols('y ~ (age + TRT)**2', data=dep).fit()\n",
    "model_dep_interaction_effect.summary()"
   ]
  },
  {
   "cell_type": "code",
   "execution_count": 10,
   "metadata": {},
   "outputs": [],
   "source": [
    "# age:TRT[T.B]의 p-value > 0.05이므로 age와TRT[T.B]의 교호작용이 통계적으로 유의하지 않다. \n",
    "# age:TRT[T.C]의 p-value < 0.05이므로 age와TRT[T.C]의 교호작용이 통계적으로 유의하다."
   ]
  },
  {
   "cell_type": "markdown",
   "metadata": {},
   "source": [
    "(5) 치료요법 A,B,C 중 어느 것이 효과가 좋다고 할 수 있는가? (4)의 결과를 사용하여 서술하시오."
   ]
  },
  {
   "cell_type": "code",
   "execution_count": 11,
   "metadata": {},
   "outputs": [],
   "source": [
    "# 회귀식: y = b_0 + b_1 * C(TRT)[T.B] + b_2 *C(TRT)[T.C] + b_3* age + b_4*(age:TRT[T.B]) +  b_5*(age:TRT[T.C])\n",
    "\n",
    "\n",
    "# For A,  y = b_0 + b_3 * age\n",
    "#         y = 47.5156 + 0.3305 * age\n",
    "\n",
    "# For B,  y = b_0 + b_1 * C(TRT)[T.B] + b_3* age + b_4*(age:TRT[T.B])\n",
    "#         y = b_0 + (b_1 + b_4*age) * C(TRT)[T.B] + b_3 * age\n",
    "#         y = 47.5156 + (-18.5974 + 0.1932 * age) * C(TRT)[T.B] + 0.3305 * age\n",
    "\n",
    "# For C,  y = b_0 + b_2 *C(TRT)[T.C] + b_3* age + b_5*(age:TRT[T.C])\n",
    "#         y = b_0 + (b_2 + b_5*age)*C(TRT)[T.C] + b_3 * age \n",
    "#         y = 47.5156  + (-41.3042 + 0.7029 * age)*C(TRT)[T.C] + 0.3305 * age"
   ]
  },
  {
   "cell_type": "code",
   "execution_count": 12,
   "metadata": {},
   "outputs": [
    {
     "name": "stdout",
     "output_type": "stream",
     "text": [
      "96.25983436853002\n"
     ]
    }
   ],
   "source": [
    "# for B,  -18.5974 + 0.1932 * age = 0\n",
    "age_b = 18.5974/0.1932\n",
    "print(age_b)"
   ]
  },
  {
   "cell_type": "code",
   "execution_count": 13,
   "metadata": {},
   "outputs": [
    {
     "name": "stdout",
     "output_type": "stream",
     "text": [
      "58.76255512875232\n"
     ]
    }
   ],
   "source": [
    "# for C, -41.3042 + 0.7029 * age = 0 \n",
    "age_c = 41.3042 / 0.7029\n",
    "print(age_c)"
   ]
  },
  {
   "cell_type": "code",
   "execution_count": 14,
   "metadata": {},
   "outputs": [],
   "source": [
    "# 위의 추정된 회귀식 및 (4)의 결과로 부터 \n",
    "# age가 충분히 높다면 C가 A 보다 효과가 좋다."
   ]
  },
  {
   "cell_type": "markdown",
   "metadata": {},
   "source": [
    "2\\. 한 연구자는 대학원 지원자의 GRE(graduate record exam; gre) 점수, 학점(gpa), 학부 졸업대학의 랭킹(rank)이 합격여부(admit=1:합격, 0:불합격)에 미치는 영향을 알아보고자 하였다. 데이터는 `admission.csv`에 저장되어 있다. `admit`을 종속변수로, 나머지 변수를 설명변수로 사용하여 로지스틱 회귀모형을 적합하고 그 결과를 사용하여 아래 문항에 답하시오. "
   ]
  },
  {
   "cell_type": "code",
   "execution_count": 15,
   "metadata": {},
   "outputs": [],
   "source": [
    "admit = pd.read_csv(data_path + \"admission.csv\")"
   ]
  },
  {
   "cell_type": "code",
   "execution_count": 16,
   "metadata": {},
   "outputs": [
    {
     "data": {
      "text/html": [
       "<div>\n",
       "<style scoped>\n",
       "    .dataframe tbody tr th:only-of-type {\n",
       "        vertical-align: middle;\n",
       "    }\n",
       "\n",
       "    .dataframe tbody tr th {\n",
       "        vertical-align: top;\n",
       "    }\n",
       "\n",
       "    .dataframe thead th {\n",
       "        text-align: right;\n",
       "    }\n",
       "</style>\n",
       "<table border=\"1\" class=\"dataframe\">\n",
       "  <thead>\n",
       "    <tr style=\"text-align: right;\">\n",
       "      <th></th>\n",
       "      <th>admit</th>\n",
       "      <th>gre</th>\n",
       "      <th>gpa</th>\n",
       "      <th>rank</th>\n",
       "    </tr>\n",
       "  </thead>\n",
       "  <tbody>\n",
       "    <tr>\n",
       "      <th>0</th>\n",
       "      <td>0</td>\n",
       "      <td>380</td>\n",
       "      <td>3.61</td>\n",
       "      <td>3</td>\n",
       "    </tr>\n",
       "    <tr>\n",
       "      <th>1</th>\n",
       "      <td>1</td>\n",
       "      <td>660</td>\n",
       "      <td>3.67</td>\n",
       "      <td>3</td>\n",
       "    </tr>\n",
       "    <tr>\n",
       "      <th>2</th>\n",
       "      <td>1</td>\n",
       "      <td>800</td>\n",
       "      <td>4.00</td>\n",
       "      <td>1</td>\n",
       "    </tr>\n",
       "    <tr>\n",
       "      <th>3</th>\n",
       "      <td>1</td>\n",
       "      <td>640</td>\n",
       "      <td>3.19</td>\n",
       "      <td>4</td>\n",
       "    </tr>\n",
       "    <tr>\n",
       "      <th>4</th>\n",
       "      <td>0</td>\n",
       "      <td>520</td>\n",
       "      <td>2.93</td>\n",
       "      <td>4</td>\n",
       "    </tr>\n",
       "  </tbody>\n",
       "</table>\n",
       "</div>"
      ],
      "text/plain": [
       "   admit  gre   gpa  rank\n",
       "0      0  380  3.61     3\n",
       "1      1  660  3.67     3\n",
       "2      1  800  4.00     1\n",
       "3      1  640  3.19     4\n",
       "4      0  520  2.93     4"
      ]
     },
     "execution_count": 16,
     "metadata": {},
     "output_type": "execute_result"
    }
   ],
   "source": [
    "admit.head()"
   ]
  },
  {
   "cell_type": "code",
   "execution_count": 17,
   "metadata": {},
   "outputs": [
    {
     "data": {
      "text/plain": [
       "4"
      ]
     },
     "execution_count": 17,
     "metadata": {},
     "output_type": "execute_result"
    }
   ],
   "source": [
    "admit['rank'].max()"
   ]
  },
  {
   "cell_type": "code",
   "execution_count": 18,
   "metadata": {},
   "outputs": [
    {
     "data": {
      "text/html": [
       "<table class=\"simpletable\">\n",
       "<caption>Generalized Linear Model Regression Results</caption>\n",
       "<tr>\n",
       "  <th>Dep. Variable:</th>         <td>admit</td>      <th>  No. Observations:  </th>  <td>   400</td> \n",
       "</tr>\n",
       "<tr>\n",
       "  <th>Model:</th>                  <td>GLM</td>       <th>  Df Residuals:      </th>  <td>   394</td> \n",
       "</tr>\n",
       "<tr>\n",
       "  <th>Model Family:</th>        <td>Binomial</td>     <th>  Df Model:          </th>  <td>     5</td> \n",
       "</tr>\n",
       "<tr>\n",
       "  <th>Link Function:</th>         <td>logit</td>      <th>  Scale:             </th> <td>  1.0000</td>\n",
       "</tr>\n",
       "<tr>\n",
       "  <th>Method:</th>                <td>IRLS</td>       <th>  Log-Likelihood:    </th> <td> -229.26</td>\n",
       "</tr>\n",
       "<tr>\n",
       "  <th>Date:</th>            <td>Wed, 16 Dec 2020</td> <th>  Deviance:          </th> <td>  458.52</td>\n",
       "</tr>\n",
       "<tr>\n",
       "  <th>Time:</th>                <td>19:47:23</td>     <th>  Pearson chi2:      </th>  <td>  397.</td> \n",
       "</tr>\n",
       "<tr>\n",
       "  <th>No. Iterations:</th>          <td>4</td>        <th>                     </th>     <td> </td>   \n",
       "</tr>\n",
       "<tr>\n",
       "  <th>Covariance Type:</th>     <td>nonrobust</td>    <th>                     </th>     <td> </td>   \n",
       "</tr>\n",
       "</table>\n",
       "<table class=\"simpletable\">\n",
       "<tr>\n",
       "        <td></td>          <th>coef</th>     <th>std err</th>      <th>z</th>      <th>P>|z|</th>  <th>[0.025</th>    <th>0.975]</th>  \n",
       "</tr>\n",
       "<tr>\n",
       "  <th>Intercept</th>    <td>   -3.9900</td> <td>    1.140</td> <td>   -3.500</td> <td> 0.000</td> <td>   -6.224</td> <td>   -1.756</td>\n",
       "</tr>\n",
       "<tr>\n",
       "  <th>C(rank)[T.2]</th> <td>   -0.6754</td> <td>    0.316</td> <td>   -2.134</td> <td> 0.033</td> <td>   -1.296</td> <td>   -0.055</td>\n",
       "</tr>\n",
       "<tr>\n",
       "  <th>C(rank)[T.3]</th> <td>   -1.3402</td> <td>    0.345</td> <td>   -3.881</td> <td> 0.000</td> <td>   -2.017</td> <td>   -0.663</td>\n",
       "</tr>\n",
       "<tr>\n",
       "  <th>C(rank)[T.4]</th> <td>   -1.5515</td> <td>    0.418</td> <td>   -3.713</td> <td> 0.000</td> <td>   -2.370</td> <td>   -0.733</td>\n",
       "</tr>\n",
       "<tr>\n",
       "  <th>gre</th>          <td>    0.0023</td> <td>    0.001</td> <td>    2.070</td> <td> 0.038</td> <td>    0.000</td> <td>    0.004</td>\n",
       "</tr>\n",
       "<tr>\n",
       "  <th>gpa</th>          <td>    0.8040</td> <td>    0.332</td> <td>    2.423</td> <td> 0.015</td> <td>    0.154</td> <td>    1.454</td>\n",
       "</tr>\n",
       "</table>"
      ],
      "text/plain": [
       "<class 'statsmodels.iolib.summary.Summary'>\n",
       "\"\"\"\n",
       "                 Generalized Linear Model Regression Results                  \n",
       "==============================================================================\n",
       "Dep. Variable:                  admit   No. Observations:                  400\n",
       "Model:                            GLM   Df Residuals:                      394\n",
       "Model Family:                Binomial   Df Model:                            5\n",
       "Link Function:                  logit   Scale:                          1.0000\n",
       "Method:                          IRLS   Log-Likelihood:                -229.26\n",
       "Date:                Wed, 16 Dec 2020   Deviance:                       458.52\n",
       "Time:                        19:47:23   Pearson chi2:                     397.\n",
       "No. Iterations:                     4                                         \n",
       "Covariance Type:            nonrobust                                         \n",
       "================================================================================\n",
       "                   coef    std err          z      P>|z|      [0.025      0.975]\n",
       "--------------------------------------------------------------------------------\n",
       "Intercept       -3.9900      1.140     -3.500      0.000      -6.224      -1.756\n",
       "C(rank)[T.2]    -0.6754      0.316     -2.134      0.033      -1.296      -0.055\n",
       "C(rank)[T.3]    -1.3402      0.345     -3.881      0.000      -2.017      -0.663\n",
       "C(rank)[T.4]    -1.5515      0.418     -3.713      0.000      -2.370      -0.733\n",
       "gre              0.0023      0.001      2.070      0.038       0.000       0.004\n",
       "gpa              0.8040      0.332      2.423      0.015       0.154       1.454\n",
       "================================================================================\n",
       "\"\"\""
      ]
     },
     "execution_count": 18,
     "metadata": {},
     "output_type": "execute_result"
    }
   ],
   "source": [
    "model1 = smf.glm(\"admit~gre+gpa+C(rank)\", data=admit, family=sm.families.Binomial()).fit()\n",
    "model1.summary()"
   ]
  },
  {
   "cell_type": "markdown",
   "metadata": {},
   "source": [
    "(1) 이미 GRE점수를 받아놓은 한 지원자가 있다. 현재 학점이 3.5인데 계절학기 재수강을 하면 학점을 3.7로 올릴 수 있다. 만일 학점을 3.7로 올린다면 이 학생이 합격할 odds는 몇 % 상승하는가? "
   ]
  },
  {
   "cell_type": "code",
   "execution_count": 19,
   "metadata": {},
   "outputs": [
    {
     "data": {
      "text/plain": [
       "Intercept      -3.989979\n",
       "C(rank)[T.2]   -0.675443\n",
       "C(rank)[T.3]   -1.340204\n",
       "C(rank)[T.4]   -1.551464\n",
       "gre             0.002264\n",
       "gpa             0.804038\n",
       "dtype: float64"
      ]
     },
     "execution_count": 19,
     "metadata": {},
     "output_type": "execute_result"
    }
   ],
   "source": [
    "model1.params"
   ]
  },
  {
   "cell_type": "code",
   "execution_count": 20,
   "metadata": {},
   "outputs": [
    {
     "data": {
      "text/plain": [
       "0.8040375492802219"
      ]
     },
     "execution_count": 20,
     "metadata": {},
     "output_type": "execute_result"
    }
   ],
   "source": [
    "model1.params[5]"
   ]
  },
  {
   "cell_type": "code",
   "execution_count": 21,
   "metadata": {},
   "outputs": [
    {
     "data": {
      "text/plain": [
       "2.2345448242712247"
      ]
     },
     "execution_count": 21,
     "metadata": {},
     "output_type": "execute_result"
    }
   ],
   "source": [
    "np.exp(model1.params[5]) "
   ]
  },
  {
   "cell_type": "code",
   "execution_count": 22,
   "metadata": {},
   "outputs": [
    {
     "data": {
      "text/plain": [
       "1.174458875296207"
      ]
     },
     "execution_count": 22,
     "metadata": {},
     "output_type": "execute_result"
    }
   ],
   "source": [
    "np.exp(model1.params[5]*0.2) # 3.5점에서 3.7점으로 증가시 ---> 17.45% 증가"
   ]
  },
  {
   "cell_type": "markdown",
   "metadata": {},
   "source": [
    "(2) 만일 학점과 GRE점수가 동일한 두 학생이 각기 rank2 의 대학과 rank3의 대학을 졸업했다고 하자. Rank3에 속한 대학을 졸업한 학생에 비해 rank2에 속한 대학을 졸업한 학생의 합격 odds는 몇 % 증가하는가? "
   ]
  },
  {
   "cell_type": "code",
   "execution_count": 23,
   "metadata": {},
   "outputs": [],
   "source": [
    "admit[\"rank\"]=admit[\"rank\"].astype(\"category\")"
   ]
  },
  {
   "cell_type": "code",
   "execution_count": 24,
   "metadata": {},
   "outputs": [
    {
     "data": {
      "text/html": [
       "<table class=\"simpletable\">\n",
       "<caption>Generalized Linear Model Regression Results</caption>\n",
       "<tr>\n",
       "  <th>Dep. Variable:</th>         <td>admit</td>      <th>  No. Observations:  </th>  <td>   400</td> \n",
       "</tr>\n",
       "<tr>\n",
       "  <th>Model:</th>                  <td>GLM</td>       <th>  Df Residuals:      </th>  <td>   394</td> \n",
       "</tr>\n",
       "<tr>\n",
       "  <th>Model Family:</th>        <td>Binomial</td>     <th>  Df Model:          </th>  <td>     5</td> \n",
       "</tr>\n",
       "<tr>\n",
       "  <th>Link Function:</th>         <td>logit</td>      <th>  Scale:             </th> <td>  1.0000</td>\n",
       "</tr>\n",
       "<tr>\n",
       "  <th>Method:</th>                <td>IRLS</td>       <th>  Log-Likelihood:    </th> <td> -229.26</td>\n",
       "</tr>\n",
       "<tr>\n",
       "  <th>Date:</th>            <td>Wed, 16 Dec 2020</td> <th>  Deviance:          </th> <td>  458.52</td>\n",
       "</tr>\n",
       "<tr>\n",
       "  <th>Time:</th>                <td>19:47:23</td>     <th>  Pearson chi2:      </th>  <td>  397.</td> \n",
       "</tr>\n",
       "<tr>\n",
       "  <th>No. Iterations:</th>          <td>4</td>        <th>                     </th>     <td> </td>   \n",
       "</tr>\n",
       "<tr>\n",
       "  <th>Covariance Type:</th>     <td>nonrobust</td>    <th>                     </th>     <td> </td>   \n",
       "</tr>\n",
       "</table>\n",
       "<table class=\"simpletable\">\n",
       "<tr>\n",
       "        <td></td>          <th>coef</th>     <th>std err</th>      <th>z</th>      <th>P>|z|</th>  <th>[0.025</th>    <th>0.975]</th>  \n",
       "</tr>\n",
       "<tr>\n",
       "  <th>Intercept</th>    <td>   -3.9900</td> <td>    1.140</td> <td>   -3.500</td> <td> 0.000</td> <td>   -6.224</td> <td>   -1.756</td>\n",
       "</tr>\n",
       "<tr>\n",
       "  <th>C(rank)[T.2]</th> <td>   -0.6754</td> <td>    0.316</td> <td>   -2.134</td> <td> 0.033</td> <td>   -1.296</td> <td>   -0.055</td>\n",
       "</tr>\n",
       "<tr>\n",
       "  <th>C(rank)[T.3]</th> <td>   -1.3402</td> <td>    0.345</td> <td>   -3.881</td> <td> 0.000</td> <td>   -2.017</td> <td>   -0.663</td>\n",
       "</tr>\n",
       "<tr>\n",
       "  <th>C(rank)[T.4]</th> <td>   -1.5515</td> <td>    0.418</td> <td>   -3.713</td> <td> 0.000</td> <td>   -2.370</td> <td>   -0.733</td>\n",
       "</tr>\n",
       "<tr>\n",
       "  <th>gre</th>          <td>    0.0023</td> <td>    0.001</td> <td>    2.070</td> <td> 0.038</td> <td>    0.000</td> <td>    0.004</td>\n",
       "</tr>\n",
       "<tr>\n",
       "  <th>gpa</th>          <td>    0.8040</td> <td>    0.332</td> <td>    2.423</td> <td> 0.015</td> <td>    0.154</td> <td>    1.454</td>\n",
       "</tr>\n",
       "</table>"
      ],
      "text/plain": [
       "<class 'statsmodels.iolib.summary.Summary'>\n",
       "\"\"\"\n",
       "                 Generalized Linear Model Regression Results                  \n",
       "==============================================================================\n",
       "Dep. Variable:                  admit   No. Observations:                  400\n",
       "Model:                            GLM   Df Residuals:                      394\n",
       "Model Family:                Binomial   Df Model:                            5\n",
       "Link Function:                  logit   Scale:                          1.0000\n",
       "Method:                          IRLS   Log-Likelihood:                -229.26\n",
       "Date:                Wed, 16 Dec 2020   Deviance:                       458.52\n",
       "Time:                        19:47:23   Pearson chi2:                     397.\n",
       "No. Iterations:                     4                                         \n",
       "Covariance Type:            nonrobust                                         \n",
       "================================================================================\n",
       "                   coef    std err          z      P>|z|      [0.025      0.975]\n",
       "--------------------------------------------------------------------------------\n",
       "Intercept       -3.9900      1.140     -3.500      0.000      -6.224      -1.756\n",
       "C(rank)[T.2]    -0.6754      0.316     -2.134      0.033      -1.296      -0.055\n",
       "C(rank)[T.3]    -1.3402      0.345     -3.881      0.000      -2.017      -0.663\n",
       "C(rank)[T.4]    -1.5515      0.418     -3.713      0.000      -2.370      -0.733\n",
       "gre              0.0023      0.001      2.070      0.038       0.000       0.004\n",
       "gpa              0.8040      0.332      2.423      0.015       0.154       1.454\n",
       "================================================================================\n",
       "\"\"\""
      ]
     },
     "execution_count": 24,
     "metadata": {},
     "output_type": "execute_result"
    }
   ],
   "source": [
    "model2 = smf.glm(\"admit~gre+gpa+C(rank)\", data=admit, family=sm.families.Binomial()).fit()\n",
    "model2.summary()"
   ]
  },
  {
   "cell_type": "code",
   "execution_count": 25,
   "metadata": {},
   "outputs": [
    {
     "data": {
      "text/html": [
       "<div>\n",
       "<style scoped>\n",
       "    .dataframe tbody tr th:only-of-type {\n",
       "        vertical-align: middle;\n",
       "    }\n",
       "\n",
       "    .dataframe tbody tr th {\n",
       "        vertical-align: top;\n",
       "    }\n",
       "\n",
       "    .dataframe thead th {\n",
       "        text-align: right;\n",
       "    }\n",
       "</style>\n",
       "<table border=\"1\" class=\"dataframe\">\n",
       "  <thead>\n",
       "    <tr style=\"text-align: right;\">\n",
       "      <th></th>\n",
       "      <th>admit</th>\n",
       "      <th>gre</th>\n",
       "      <th>gpa</th>\n",
       "      <th>rank</th>\n",
       "    </tr>\n",
       "  </thead>\n",
       "  <tbody>\n",
       "    <tr>\n",
       "      <th>0</th>\n",
       "      <td>0</td>\n",
       "      <td>380</td>\n",
       "      <td>3.61</td>\n",
       "      <td>3</td>\n",
       "    </tr>\n",
       "    <tr>\n",
       "      <th>1</th>\n",
       "      <td>1</td>\n",
       "      <td>660</td>\n",
       "      <td>3.67</td>\n",
       "      <td>3</td>\n",
       "    </tr>\n",
       "    <tr>\n",
       "      <th>2</th>\n",
       "      <td>1</td>\n",
       "      <td>800</td>\n",
       "      <td>4.00</td>\n",
       "      <td>1</td>\n",
       "    </tr>\n",
       "    <tr>\n",
       "      <th>3</th>\n",
       "      <td>1</td>\n",
       "      <td>640</td>\n",
       "      <td>3.19</td>\n",
       "      <td>4</td>\n",
       "    </tr>\n",
       "    <tr>\n",
       "      <th>4</th>\n",
       "      <td>0</td>\n",
       "      <td>520</td>\n",
       "      <td>2.93</td>\n",
       "      <td>4</td>\n",
       "    </tr>\n",
       "  </tbody>\n",
       "</table>\n",
       "</div>"
      ],
      "text/plain": [
       "   admit  gre   gpa rank\n",
       "0      0  380  3.61    3\n",
       "1      1  660  3.67    3\n",
       "2      1  800  4.00    1\n",
       "3      1  640  3.19    4\n",
       "4      0  520  2.93    4"
      ]
     },
     "execution_count": 25,
     "metadata": {},
     "output_type": "execute_result"
    }
   ],
   "source": [
    "admit.head()"
   ]
  },
  {
   "cell_type": "code",
   "execution_count": 26,
   "metadata": {},
   "outputs": [],
   "source": [
    "admit[\"rank\"] = admit[\"rank\"].cat.rename_categories(['one', 'two', 'tree', 'four'])"
   ]
  },
  {
   "cell_type": "code",
   "execution_count": 27,
   "metadata": {},
   "outputs": [
    {
     "data": {
      "text/html": [
       "<div>\n",
       "<style scoped>\n",
       "    .dataframe tbody tr th:only-of-type {\n",
       "        vertical-align: middle;\n",
       "    }\n",
       "\n",
       "    .dataframe tbody tr th {\n",
       "        vertical-align: top;\n",
       "    }\n",
       "\n",
       "    .dataframe thead th {\n",
       "        text-align: right;\n",
       "    }\n",
       "</style>\n",
       "<table border=\"1\" class=\"dataframe\">\n",
       "  <thead>\n",
       "    <tr style=\"text-align: right;\">\n",
       "      <th></th>\n",
       "      <th>admit</th>\n",
       "      <th>gre</th>\n",
       "      <th>gpa</th>\n",
       "      <th>rank</th>\n",
       "    </tr>\n",
       "  </thead>\n",
       "  <tbody>\n",
       "    <tr>\n",
       "      <th>0</th>\n",
       "      <td>0</td>\n",
       "      <td>380</td>\n",
       "      <td>3.61</td>\n",
       "      <td>tree</td>\n",
       "    </tr>\n",
       "    <tr>\n",
       "      <th>1</th>\n",
       "      <td>1</td>\n",
       "      <td>660</td>\n",
       "      <td>3.67</td>\n",
       "      <td>tree</td>\n",
       "    </tr>\n",
       "    <tr>\n",
       "      <th>2</th>\n",
       "      <td>1</td>\n",
       "      <td>800</td>\n",
       "      <td>4.00</td>\n",
       "      <td>one</td>\n",
       "    </tr>\n",
       "    <tr>\n",
       "      <th>3</th>\n",
       "      <td>1</td>\n",
       "      <td>640</td>\n",
       "      <td>3.19</td>\n",
       "      <td>four</td>\n",
       "    </tr>\n",
       "    <tr>\n",
       "      <th>4</th>\n",
       "      <td>0</td>\n",
       "      <td>520</td>\n",
       "      <td>2.93</td>\n",
       "      <td>four</td>\n",
       "    </tr>\n",
       "  </tbody>\n",
       "</table>\n",
       "</div>"
      ],
      "text/plain": [
       "   admit  gre   gpa  rank\n",
       "0      0  380  3.61  tree\n",
       "1      1  660  3.67  tree\n",
       "2      1  800  4.00   one\n",
       "3      1  640  3.19  four\n",
       "4      0  520  2.93  four"
      ]
     },
     "execution_count": 27,
     "metadata": {},
     "output_type": "execute_result"
    }
   ],
   "source": [
    "admit.head()"
   ]
  },
  {
   "cell_type": "code",
   "execution_count": 28,
   "metadata": {},
   "outputs": [
    {
     "data": {
      "text/html": [
       "<table class=\"simpletable\">\n",
       "<caption>Generalized Linear Model Regression Results</caption>\n",
       "<tr>\n",
       "  <th>Dep. Variable:</th>         <td>admit</td>      <th>  No. Observations:  </th>  <td>   400</td> \n",
       "</tr>\n",
       "<tr>\n",
       "  <th>Model:</th>                  <td>GLM</td>       <th>  Df Residuals:      </th>  <td>   394</td> \n",
       "</tr>\n",
       "<tr>\n",
       "  <th>Model Family:</th>        <td>Binomial</td>     <th>  Df Model:          </th>  <td>     5</td> \n",
       "</tr>\n",
       "<tr>\n",
       "  <th>Link Function:</th>         <td>logit</td>      <th>  Scale:             </th> <td>  1.0000</td>\n",
       "</tr>\n",
       "<tr>\n",
       "  <th>Method:</th>                <td>IRLS</td>       <th>  Log-Likelihood:    </th> <td> -229.26</td>\n",
       "</tr>\n",
       "<tr>\n",
       "  <th>Date:</th>            <td>Wed, 16 Dec 2020</td> <th>  Deviance:          </th> <td>  458.52</td>\n",
       "</tr>\n",
       "<tr>\n",
       "  <th>Time:</th>                <td>19:47:23</td>     <th>  Pearson chi2:      </th>  <td>  397.</td> \n",
       "</tr>\n",
       "<tr>\n",
       "  <th>No. Iterations:</th>          <td>4</td>        <th>                     </th>     <td> </td>   \n",
       "</tr>\n",
       "<tr>\n",
       "  <th>Covariance Type:</th>     <td>nonrobust</td>    <th>                     </th>     <td> </td>   \n",
       "</tr>\n",
       "</table>\n",
       "<table class=\"simpletable\">\n",
       "<tr>\n",
       "         <td></td>            <th>coef</th>     <th>std err</th>      <th>z</th>      <th>P>|z|</th>  <th>[0.025</th>    <th>0.975]</th>  \n",
       "</tr>\n",
       "<tr>\n",
       "  <th>Intercept</th>       <td>   -3.9900</td> <td>    1.140</td> <td>   -3.500</td> <td> 0.000</td> <td>   -6.224</td> <td>   -1.756</td>\n",
       "</tr>\n",
       "<tr>\n",
       "  <th>C(rank)[T.two]</th>  <td>   -0.6754</td> <td>    0.316</td> <td>   -2.134</td> <td> 0.033</td> <td>   -1.296</td> <td>   -0.055</td>\n",
       "</tr>\n",
       "<tr>\n",
       "  <th>C(rank)[T.tree]</th> <td>   -1.3402</td> <td>    0.345</td> <td>   -3.881</td> <td> 0.000</td> <td>   -2.017</td> <td>   -0.663</td>\n",
       "</tr>\n",
       "<tr>\n",
       "  <th>C(rank)[T.four]</th> <td>   -1.5515</td> <td>    0.418</td> <td>   -3.713</td> <td> 0.000</td> <td>   -2.370</td> <td>   -0.733</td>\n",
       "</tr>\n",
       "<tr>\n",
       "  <th>gre</th>             <td>    0.0023</td> <td>    0.001</td> <td>    2.070</td> <td> 0.038</td> <td>    0.000</td> <td>    0.004</td>\n",
       "</tr>\n",
       "<tr>\n",
       "  <th>gpa</th>             <td>    0.8040</td> <td>    0.332</td> <td>    2.423</td> <td> 0.015</td> <td>    0.154</td> <td>    1.454</td>\n",
       "</tr>\n",
       "</table>"
      ],
      "text/plain": [
       "<class 'statsmodels.iolib.summary.Summary'>\n",
       "\"\"\"\n",
       "                 Generalized Linear Model Regression Results                  \n",
       "==============================================================================\n",
       "Dep. Variable:                  admit   No. Observations:                  400\n",
       "Model:                            GLM   Df Residuals:                      394\n",
       "Model Family:                Binomial   Df Model:                            5\n",
       "Link Function:                  logit   Scale:                          1.0000\n",
       "Method:                          IRLS   Log-Likelihood:                -229.26\n",
       "Date:                Wed, 16 Dec 2020   Deviance:                       458.52\n",
       "Time:                        19:47:23   Pearson chi2:                     397.\n",
       "No. Iterations:                     4                                         \n",
       "Covariance Type:            nonrobust                                         \n",
       "===================================================================================\n",
       "                      coef    std err          z      P>|z|      [0.025      0.975]\n",
       "-----------------------------------------------------------------------------------\n",
       "Intercept          -3.9900      1.140     -3.500      0.000      -6.224      -1.756\n",
       "C(rank)[T.two]     -0.6754      0.316     -2.134      0.033      -1.296      -0.055\n",
       "C(rank)[T.tree]    -1.3402      0.345     -3.881      0.000      -2.017      -0.663\n",
       "C(rank)[T.four]    -1.5515      0.418     -3.713      0.000      -2.370      -0.733\n",
       "gre                 0.0023      0.001      2.070      0.038       0.000       0.004\n",
       "gpa                 0.8040      0.332      2.423      0.015       0.154       1.454\n",
       "===================================================================================\n",
       "\"\"\""
      ]
     },
     "execution_count": 28,
     "metadata": {},
     "output_type": "execute_result"
    }
   ],
   "source": [
    "model3 = smf.glm(\"admit~gre+gpa+C(rank)\", data=admit, family=sm.families.Binomial()).fit()\n",
    "model3.summary()"
   ]
  },
  {
   "cell_type": "code",
   "execution_count": 29,
   "metadata": {},
   "outputs": [
    {
     "data": {
      "text/html": [
       "<table class=\"simpletable\">\n",
       "<caption>Generalized Linear Model Regression Results</caption>\n",
       "<tr>\n",
       "  <th>Dep. Variable:</th>         <td>admit</td>      <th>  No. Observations:  </th>  <td>   400</td> \n",
       "</tr>\n",
       "<tr>\n",
       "  <th>Model:</th>                  <td>GLM</td>       <th>  Df Residuals:      </th>  <td>   394</td> \n",
       "</tr>\n",
       "<tr>\n",
       "  <th>Model Family:</th>        <td>Binomial</td>     <th>  Df Model:          </th>  <td>     5</td> \n",
       "</tr>\n",
       "<tr>\n",
       "  <th>Link Function:</th>         <td>logit</td>      <th>  Scale:             </th> <td>  1.0000</td>\n",
       "</tr>\n",
       "<tr>\n",
       "  <th>Method:</th>                <td>IRLS</td>       <th>  Log-Likelihood:    </th> <td> -229.26</td>\n",
       "</tr>\n",
       "<tr>\n",
       "  <th>Date:</th>            <td>Wed, 16 Dec 2020</td> <th>  Deviance:          </th> <td>  458.52</td>\n",
       "</tr>\n",
       "<tr>\n",
       "  <th>Time:</th>                <td>19:47:23</td>     <th>  Pearson chi2:      </th>  <td>  397.</td> \n",
       "</tr>\n",
       "<tr>\n",
       "  <th>No. Iterations:</th>          <td>4</td>        <th>                     </th>     <td> </td>   \n",
       "</tr>\n",
       "<tr>\n",
       "  <th>Covariance Type:</th>     <td>nonrobust</td>    <th>                     </th>     <td> </td>   \n",
       "</tr>\n",
       "</table>\n",
       "<table class=\"simpletable\">\n",
       "<tr>\n",
       "                        <td></td>                          <th>coef</th>     <th>std err</th>      <th>z</th>      <th>P>|z|</th>  <th>[0.025</th>    <th>0.975]</th>  \n",
       "</tr>\n",
       "<tr>\n",
       "  <th>Intercept</th>                                    <td>   -5.3302</td> <td>    1.150</td> <td>   -4.637</td> <td> 0.000</td> <td>   -7.583</td> <td>   -3.077</td>\n",
       "</tr>\n",
       "<tr>\n",
       "  <th>C(rank, Treatment(reference='tree'))[T.one]</th>  <td>    1.3402</td> <td>    0.345</td> <td>    3.881</td> <td> 0.000</td> <td>    0.663</td> <td>    2.017</td>\n",
       "</tr>\n",
       "<tr>\n",
       "  <th>C(rank, Treatment(reference='tree'))[T.two]</th>  <td>    0.6648</td> <td>    0.283</td> <td>    2.346</td> <td> 0.019</td> <td>    0.109</td> <td>    1.220</td>\n",
       "</tr>\n",
       "<tr>\n",
       "  <th>C(rank, Treatment(reference='tree'))[T.four]</th> <td>   -0.2113</td> <td>    0.393</td> <td>   -0.538</td> <td> 0.591</td> <td>   -0.981</td> <td>    0.559</td>\n",
       "</tr>\n",
       "<tr>\n",
       "  <th>gre</th>                                          <td>    0.0023</td> <td>    0.001</td> <td>    2.070</td> <td> 0.038</td> <td>    0.000</td> <td>    0.004</td>\n",
       "</tr>\n",
       "<tr>\n",
       "  <th>gpa</th>                                          <td>    0.8040</td> <td>    0.332</td> <td>    2.423</td> <td> 0.015</td> <td>    0.154</td> <td>    1.454</td>\n",
       "</tr>\n",
       "</table>"
      ],
      "text/plain": [
       "<class 'statsmodels.iolib.summary.Summary'>\n",
       "\"\"\"\n",
       "                 Generalized Linear Model Regression Results                  \n",
       "==============================================================================\n",
       "Dep. Variable:                  admit   No. Observations:                  400\n",
       "Model:                            GLM   Df Residuals:                      394\n",
       "Model Family:                Binomial   Df Model:                            5\n",
       "Link Function:                  logit   Scale:                          1.0000\n",
       "Method:                          IRLS   Log-Likelihood:                -229.26\n",
       "Date:                Wed, 16 Dec 2020   Deviance:                       458.52\n",
       "Time:                        19:47:23   Pearson chi2:                     397.\n",
       "No. Iterations:                     4                                         \n",
       "Covariance Type:            nonrobust                                         \n",
       "================================================================================================================\n",
       "                                                   coef    std err          z      P>|z|      [0.025      0.975]\n",
       "----------------------------------------------------------------------------------------------------------------\n",
       "Intercept                                       -5.3302      1.150     -4.637      0.000      -7.583      -3.077\n",
       "C(rank, Treatment(reference='tree'))[T.one]      1.3402      0.345      3.881      0.000       0.663       2.017\n",
       "C(rank, Treatment(reference='tree'))[T.two]      0.6648      0.283      2.346      0.019       0.109       1.220\n",
       "C(rank, Treatment(reference='tree'))[T.four]    -0.2113      0.393     -0.538      0.591      -0.981       0.559\n",
       "gre                                              0.0023      0.001      2.070      0.038       0.000       0.004\n",
       "gpa                                              0.8040      0.332      2.423      0.015       0.154       1.454\n",
       "================================================================================================================\n",
       "\"\"\""
      ]
     },
     "execution_count": 29,
     "metadata": {},
     "output_type": "execute_result"
    }
   ],
   "source": [
    "model4 = smf.glm(\"admit~gre+gpa+C(rank, Treatment(reference='tree') )\", data=admit, family=sm.families.Binomial()).fit()\n",
    "model4.summary()"
   ]
  },
  {
   "cell_type": "code",
   "execution_count": 30,
   "metadata": {},
   "outputs": [
    {
     "data": {
      "text/plain": [
       "Intercept                                      -5.330183\n",
       "C(rank, Treatment(reference='tree'))[T.one]     1.340204\n",
       "C(rank, Treatment(reference='tree'))[T.two]     0.664761\n",
       "C(rank, Treatment(reference='tree'))[T.four]   -0.211260\n",
       "gre                                             0.002264\n",
       "gpa                                             0.804038\n",
       "dtype: float64"
      ]
     },
     "execution_count": 30,
     "metadata": {},
     "output_type": "execute_result"
    }
   ],
   "source": [
    "model4.params"
   ]
  },
  {
   "cell_type": "code",
   "execution_count": 31,
   "metadata": {},
   "outputs": [
    {
     "data": {
      "text/plain": [
       "0.6647609885043277"
      ]
     },
     "execution_count": 31,
     "metadata": {},
     "output_type": "execute_result"
    }
   ],
   "source": [
    "# Rank3에 속한 대학을 졸업한 학생에 비해 rank2에 속한 대학을 졸업한 학생의 합격 odds는 몇 % 증가하는가? \n",
    "model4.params[2]"
   ]
  },
  {
   "cell_type": "code",
   "execution_count": 32,
   "metadata": {},
   "outputs": [
    {
     "data": {
      "text/plain": [
       "1.944025821285545"
      ]
     },
     "execution_count": 32,
     "metadata": {},
     "output_type": "execute_result"
    }
   ],
   "source": [
    "np.exp(model4.params[2]) # 94.40% 증가"
   ]
  },
  {
   "cell_type": "markdown",
   "metadata": {},
   "source": [
    "3\\. 한 연구자는 혈압(blood pressure)에 영향을 주는 요인을 파악하기 위해 20명으로부터 아래의 변수를 측정하였다. (`bloodpress.csv`)\n",
    "\n",
    "|  변수명      |   내용                                |\n",
    "|--------|-----------------------------------|\n",
    "| BP     | Blood pressure in mm Hg           |\n",
    "| Age    | age in years                      |\n",
    "| Weight | weight in kg                      |\n",
    "| BSA    | body surface area in sq m         |\n",
    "| Dur    | duration of hypertension in years |\n",
    "| Pulse  | basal pulse in beats per minute   |\n",
    "| Stress | stress index                      |"
   ]
  },
  {
   "cell_type": "code",
   "execution_count": 33,
   "metadata": {},
   "outputs": [],
   "source": [
    "bp = pd.read_csv(data_path+\"bloodpress.csv\", index_col=0)"
   ]
  },
  {
   "cell_type": "code",
   "execution_count": 34,
   "metadata": {},
   "outputs": [
    {
     "data": {
      "text/html": [
       "<div>\n",
       "<style scoped>\n",
       "    .dataframe tbody tr th:only-of-type {\n",
       "        vertical-align: middle;\n",
       "    }\n",
       "\n",
       "    .dataframe tbody tr th {\n",
       "        vertical-align: top;\n",
       "    }\n",
       "\n",
       "    .dataframe thead th {\n",
       "        text-align: right;\n",
       "    }\n",
       "</style>\n",
       "<table border=\"1\" class=\"dataframe\">\n",
       "  <thead>\n",
       "    <tr style=\"text-align: right;\">\n",
       "      <th></th>\n",
       "      <th>BP</th>\n",
       "      <th>Age</th>\n",
       "      <th>Weight</th>\n",
       "      <th>BSA</th>\n",
       "      <th>Dur</th>\n",
       "      <th>Pulse</th>\n",
       "      <th>Stress</th>\n",
       "    </tr>\n",
       "    <tr>\n",
       "      <th>Pt</th>\n",
       "      <th></th>\n",
       "      <th></th>\n",
       "      <th></th>\n",
       "      <th></th>\n",
       "      <th></th>\n",
       "      <th></th>\n",
       "      <th></th>\n",
       "    </tr>\n",
       "  </thead>\n",
       "  <tbody>\n",
       "    <tr>\n",
       "      <th>1</th>\n",
       "      <td>105</td>\n",
       "      <td>47</td>\n",
       "      <td>85.4</td>\n",
       "      <td>1.75</td>\n",
       "      <td>5.1</td>\n",
       "      <td>63</td>\n",
       "      <td>33</td>\n",
       "    </tr>\n",
       "    <tr>\n",
       "      <th>2</th>\n",
       "      <td>115</td>\n",
       "      <td>49</td>\n",
       "      <td>94.2</td>\n",
       "      <td>2.10</td>\n",
       "      <td>3.8</td>\n",
       "      <td>70</td>\n",
       "      <td>14</td>\n",
       "    </tr>\n",
       "    <tr>\n",
       "      <th>3</th>\n",
       "      <td>116</td>\n",
       "      <td>49</td>\n",
       "      <td>95.3</td>\n",
       "      <td>1.98</td>\n",
       "      <td>8.2</td>\n",
       "      <td>72</td>\n",
       "      <td>10</td>\n",
       "    </tr>\n",
       "    <tr>\n",
       "      <th>4</th>\n",
       "      <td>117</td>\n",
       "      <td>50</td>\n",
       "      <td>94.7</td>\n",
       "      <td>2.01</td>\n",
       "      <td>5.8</td>\n",
       "      <td>73</td>\n",
       "      <td>99</td>\n",
       "    </tr>\n",
       "    <tr>\n",
       "      <th>5</th>\n",
       "      <td>112</td>\n",
       "      <td>51</td>\n",
       "      <td>89.4</td>\n",
       "      <td>1.89</td>\n",
       "      <td>7.0</td>\n",
       "      <td>72</td>\n",
       "      <td>95</td>\n",
       "    </tr>\n",
       "  </tbody>\n",
       "</table>\n",
       "</div>"
      ],
      "text/plain": [
       "     BP  Age  Weight   BSA  Dur  Pulse  Stress\n",
       "Pt                                            \n",
       "1   105   47    85.4  1.75  5.1     63      33\n",
       "2   115   49    94.2  2.10  3.8     70      14\n",
       "3   116   49    95.3  1.98  8.2     72      10\n",
       "4   117   50    94.7  2.01  5.8     73      99\n",
       "5   112   51    89.4  1.89  7.0     72      95"
      ]
     },
     "execution_count": 34,
     "metadata": {},
     "output_type": "execute_result"
    }
   ],
   "source": [
    "bp.head()"
   ]
  },
  {
   "cell_type": "markdown",
   "metadata": {},
   "source": [
    "(1) BP를 종속변수로 하고 나머지 6개의 변수를 설명변수로 하는 선형회귀모형을 적합하고 VIF를 통해 다중공선성이 존재하는지 판단하시오. "
   ]
  },
  {
   "cell_type": "code",
   "execution_count": 35,
   "metadata": {},
   "outputs": [
    {
     "data": {
      "text/html": [
       "<table class=\"simpletable\">\n",
       "<caption>OLS Regression Results</caption>\n",
       "<tr>\n",
       "  <th>Dep. Variable:</th>           <td>BP</td>        <th>  R-squared:         </th> <td>   0.996</td>\n",
       "</tr>\n",
       "<tr>\n",
       "  <th>Model:</th>                   <td>OLS</td>       <th>  Adj. R-squared:    </th> <td>   0.994</td>\n",
       "</tr>\n",
       "<tr>\n",
       "  <th>Method:</th>             <td>Least Squares</td>  <th>  F-statistic:       </th> <td>   560.6</td>\n",
       "</tr>\n",
       "<tr>\n",
       "  <th>Date:</th>             <td>Wed, 16 Dec 2020</td> <th>  Prob (F-statistic):</th> <td>6.40e-15</td>\n",
       "</tr>\n",
       "<tr>\n",
       "  <th>Time:</th>                 <td>19:47:23</td>     <th>  Log-Likelihood:    </th> <td> -6.1033</td>\n",
       "</tr>\n",
       "<tr>\n",
       "  <th>No. Observations:</th>      <td>    20</td>      <th>  AIC:               </th> <td>   26.21</td>\n",
       "</tr>\n",
       "<tr>\n",
       "  <th>Df Residuals:</th>          <td>    13</td>      <th>  BIC:               </th> <td>   33.18</td>\n",
       "</tr>\n",
       "<tr>\n",
       "  <th>Df Model:</th>              <td>     6</td>      <th>                     </th>     <td> </td>   \n",
       "</tr>\n",
       "<tr>\n",
       "  <th>Covariance Type:</th>      <td>nonrobust</td>    <th>                     </th>     <td> </td>   \n",
       "</tr>\n",
       "</table>\n",
       "<table class=\"simpletable\">\n",
       "<tr>\n",
       "      <td></td>         <th>coef</th>     <th>std err</th>      <th>t</th>      <th>P>|t|</th>  <th>[0.025</th>    <th>0.975]</th>  \n",
       "</tr>\n",
       "<tr>\n",
       "  <th>Intercept</th> <td>  -12.8705</td> <td>    2.557</td> <td>   -5.034</td> <td> 0.000</td> <td>  -18.394</td> <td>   -7.347</td>\n",
       "</tr>\n",
       "<tr>\n",
       "  <th>Age</th>       <td>    0.7033</td> <td>    0.050</td> <td>   14.177</td> <td> 0.000</td> <td>    0.596</td> <td>    0.810</td>\n",
       "</tr>\n",
       "<tr>\n",
       "  <th>Weight</th>    <td>    0.9699</td> <td>    0.063</td> <td>   15.369</td> <td> 0.000</td> <td>    0.834</td> <td>    1.106</td>\n",
       "</tr>\n",
       "<tr>\n",
       "  <th>BSA</th>       <td>    3.7765</td> <td>    1.580</td> <td>    2.390</td> <td> 0.033</td> <td>    0.363</td> <td>    7.190</td>\n",
       "</tr>\n",
       "<tr>\n",
       "  <th>Dur</th>       <td>    0.0684</td> <td>    0.048</td> <td>    1.412</td> <td> 0.182</td> <td>   -0.036</td> <td>    0.173</td>\n",
       "</tr>\n",
       "<tr>\n",
       "  <th>Pulse</th>     <td>   -0.0845</td> <td>    0.052</td> <td>   -1.637</td> <td> 0.126</td> <td>   -0.196</td> <td>    0.027</td>\n",
       "</tr>\n",
       "<tr>\n",
       "  <th>Stress</th>    <td>    0.0056</td> <td>    0.003</td> <td>    1.633</td> <td> 0.126</td> <td>   -0.002</td> <td>    0.013</td>\n",
       "</tr>\n",
       "</table>\n",
       "<table class=\"simpletable\">\n",
       "<tr>\n",
       "  <th>Omnibus:</th>       <td> 7.219</td> <th>  Durbin-Watson:     </th> <td>   2.249</td>\n",
       "</tr>\n",
       "<tr>\n",
       "  <th>Prob(Omnibus):</th> <td> 0.027</td> <th>  Jarque-Bera (JB):  </th> <td>   4.643</td>\n",
       "</tr>\n",
       "<tr>\n",
       "  <th>Skew:</th>          <td>-1.050</td> <th>  Prob(JB):          </th> <td>  0.0981</td>\n",
       "</tr>\n",
       "<tr>\n",
       "  <th>Kurtosis:</th>      <td> 4.076</td> <th>  Cond. No.          </th> <td>4.02e+03</td>\n",
       "</tr>\n",
       "</table><br/><br/>Warnings:<br/>[1] Standard Errors assume that the covariance matrix of the errors is correctly specified.<br/>[2] The condition number is large, 4.02e+03. This might indicate that there are<br/>strong multicollinearity or other numerical problems."
      ],
      "text/plain": [
       "<class 'statsmodels.iolib.summary.Summary'>\n",
       "\"\"\"\n",
       "                            OLS Regression Results                            \n",
       "==============================================================================\n",
       "Dep. Variable:                     BP   R-squared:                       0.996\n",
       "Model:                            OLS   Adj. R-squared:                  0.994\n",
       "Method:                 Least Squares   F-statistic:                     560.6\n",
       "Date:                Wed, 16 Dec 2020   Prob (F-statistic):           6.40e-15\n",
       "Time:                        19:47:23   Log-Likelihood:                -6.1033\n",
       "No. Observations:                  20   AIC:                             26.21\n",
       "Df Residuals:                      13   BIC:                             33.18\n",
       "Df Model:                           6                                         \n",
       "Covariance Type:            nonrobust                                         \n",
       "==============================================================================\n",
       "                 coef    std err          t      P>|t|      [0.025      0.975]\n",
       "------------------------------------------------------------------------------\n",
       "Intercept    -12.8705      2.557     -5.034      0.000     -18.394      -7.347\n",
       "Age            0.7033      0.050     14.177      0.000       0.596       0.810\n",
       "Weight         0.9699      0.063     15.369      0.000       0.834       1.106\n",
       "BSA            3.7765      1.580      2.390      0.033       0.363       7.190\n",
       "Dur            0.0684      0.048      1.412      0.182      -0.036       0.173\n",
       "Pulse         -0.0845      0.052     -1.637      0.126      -0.196       0.027\n",
       "Stress         0.0056      0.003      1.633      0.126      -0.002       0.013\n",
       "==============================================================================\n",
       "Omnibus:                        7.219   Durbin-Watson:                   2.249\n",
       "Prob(Omnibus):                  0.027   Jarque-Bera (JB):                4.643\n",
       "Skew:                          -1.050   Prob(JB):                       0.0981\n",
       "Kurtosis:                       4.076   Cond. No.                     4.02e+03\n",
       "==============================================================================\n",
       "\n",
       "Warnings:\n",
       "[1] Standard Errors assume that the covariance matrix of the errors is correctly specified.\n",
       "[2] The condition number is large, 4.02e+03. This might indicate that there are\n",
       "strong multicollinearity or other numerical problems.\n",
       "\"\"\""
      ]
     },
     "execution_count": 35,
     "metadata": {},
     "output_type": "execute_result"
    }
   ],
   "source": [
    "model_bp = smf.ols('BP~Age+Weight+BSA+Dur+Pulse+Stress', data = bp).fit()\n",
    "model_bp.summary()"
   ]
  },
  {
   "cell_type": "code",
   "execution_count": 36,
   "metadata": {},
   "outputs": [],
   "source": [
    "import patsy\n",
    "y, _X = patsy.dmatrices('BP~Age+Weight+BSA+Dur+Pulse+Stress', bp, return_type='matrix')"
   ]
  },
  {
   "cell_type": "code",
   "execution_count": 37,
   "metadata": {},
   "outputs": [
    {
     "name": "stdout",
     "output_type": "stream",
     "text": [
      "VIF of Intercept : 788.3076923918795\n",
      "VIF of Age : 1.7628067217672179\n",
      "VIF of Weight : 8.417035029633078\n",
      "VIF of BSA : 5.328751470118894\n",
      "VIF of Dur : 1.2373094205198356\n",
      "VIF of Pulse : 4.4135751655972655\n",
      "VIF of Stress : 1.8348453242645877\n"
     ]
    }
   ],
   "source": [
    "from statsmodels.stats.outliers_influence import variance_inflation_factor\n",
    "for i, x in enumerate(_X.design_info.column_names):\n",
    "    print( 'VIF of', x, ':', variance_inflation_factor(_X, i))"
   ]
  },
  {
   "cell_type": "code",
   "execution_count": 38,
   "metadata": {},
   "outputs": [],
   "source": [
    "# VIF 5 를 기준으로 하면 \n",
    "# BSA의 VIF(5.328751470118894)가 5를 초과, Weight의 VIF(8.417035029633078)가 5를 초과하여\n",
    "# 공선성이 존재한다고 경혐적으로 판단"
   ]
  },
  {
   "cell_type": "markdown",
   "metadata": {},
   "source": [
    "(2) 설명변수 중 Age는 반드시 모형에 포함되어야 한다고 가정하자. Age와 또 다른 하나의 변수를 포함한 **설명변수가 2개**인 모든 모형들을 비교하여 BIC를 기준으로 최적의 모형을 찾고 적합된 결과물을 프린트하시오. "
   ]
  },
  {
   "cell_type": "code",
   "execution_count": 39,
   "metadata": {},
   "outputs": [],
   "source": [
    "y, X = patsy.dmatrices('BP~Age+Weight+BSA+Dur+Pulse+Stress', data=bp, return_type='dataframe')"
   ]
  },
  {
   "cell_type": "code",
   "execution_count": 40,
   "metadata": {},
   "outputs": [],
   "source": [
    "import itertools\n",
    "import time\n",
    "import statsmodels.api as sm\n",
    "\n",
    "def processSubset(feature_set):\n",
    "    # Fit model on feature_set and calculate RSS\n",
    "    # X_model = sm.add_constant(X[list(feature_set)])\n",
    "    X_model = X[list(('Intercept',)+feature_set)]\n",
    "    model = sm.OLS(y, X_model)\n",
    "    regr = model.fit()\n",
    "    RSS = (regr.resid ** 2).sum()\n",
    "    return {\"model\":regr, \"RSS\":RSS, \"AIC\": regr.aic,\n",
    "            \"BIC\": regr.bic, \"adj_r2\": regr.rsquared_adj,\"r2\":regr.rsquared }\n",
    "\n",
    "def getBest(k, best = \"AIC\"):\n",
    "    tic = time.time()\n",
    "    results = []\n",
    "    for combo in itertools.combinations(X.columns[1:], k):\n",
    "        results.append(processSubset(combo))\n",
    "    # Wrap evrything up in a nice dataframe\n",
    "    models = pd.DataFrame(results)\n",
    "    # Choose the model with the highest RSS\n",
    "    if best==\"adj_r2\" or best==\"r2\":\n",
    "        best_model = models.loc[models[best].argmax()]\n",
    "    else:\n",
    "        best_model = models.loc[models[best].argmin()]\n",
    "    toc = time.time()\n",
    "    print(\"Processed\", models.shape[0], \"models on\", k, \"predictors in\", (toc-tic), \"seconds.\")\n",
    "    \n",
    "    # Return the best model, along with some other useful information about the model\n",
    "    return best_model"
   ]
  },
  {
   "cell_type": "code",
   "execution_count": 41,
   "metadata": {},
   "outputs": [
    {
     "name": "stdout",
     "output_type": "stream",
     "text": [
      "Processed 6 models on 1 predictors in 0.019943952560424805 seconds.\n",
      "Processed 15 models on 2 predictors in 0.032914161682128906 seconds.\n",
      "Processed 20 models on 3 predictors in 0.05086636543273926 seconds.\n",
      "Processed 15 models on 4 predictors in 0.03589892387390137 seconds.\n",
      "Processed 6 models on 5 predictors in 0.009973764419555664 seconds.\n",
      "Processed 1 models on 6 predictors in 0.001994609832763672 seconds.\n"
     ]
    }
   ],
   "source": [
    "models_best = pd.DataFrame(columns=[\"model\", \"RSS\",\"AIC\",\"BIC\",\"adj_r2\", \"r2\",])\n",
    "\n",
    "for i in range(1,X.shape[1]):\n",
    "        models_best.loc[i] = getBest(i, best = \"BIC\")    "
   ]
  },
  {
   "cell_type": "code",
   "execution_count": 42,
   "metadata": {},
   "outputs": [
    {
     "data": {
      "text/html": [
       "<div>\n",
       "<style scoped>\n",
       "    .dataframe tbody tr th:only-of-type {\n",
       "        vertical-align: middle;\n",
       "    }\n",
       "\n",
       "    .dataframe tbody tr th {\n",
       "        vertical-align: top;\n",
       "    }\n",
       "\n",
       "    .dataframe thead th {\n",
       "        text-align: right;\n",
       "    }\n",
       "</style>\n",
       "<table border=\"1\" class=\"dataframe\">\n",
       "  <thead>\n",
       "    <tr style=\"text-align: right;\">\n",
       "      <th></th>\n",
       "      <th>model</th>\n",
       "      <th>RSS</th>\n",
       "      <th>AIC</th>\n",
       "      <th>BIC</th>\n",
       "      <th>adj_r2</th>\n",
       "      <th>r2</th>\n",
       "    </tr>\n",
       "  </thead>\n",
       "  <tbody>\n",
       "    <tr>\n",
       "      <th>1</th>\n",
       "      <td>&lt;statsmodels.regression.linear_model.Regressio...</td>\n",
       "      <td>54.528016</td>\n",
       "      <td>80.817188</td>\n",
       "      <td>82.808653</td>\n",
       "      <td>0.897219</td>\n",
       "      <td>0.902629</td>\n",
       "    </tr>\n",
       "    <tr>\n",
       "      <th>2</th>\n",
       "      <td>&lt;statsmodels.regression.linear_model.Regressio...</td>\n",
       "      <td>4.823927</td>\n",
       "      <td>34.314661</td>\n",
       "      <td>37.301858</td>\n",
       "      <td>0.990372</td>\n",
       "      <td>0.991386</td>\n",
       "    </tr>\n",
       "    <tr>\n",
       "      <th>3</th>\n",
       "      <td>&lt;statsmodels.regression.linear_model.Regressio...</td>\n",
       "      <td>3.056142</td>\n",
       "      <td>27.185964</td>\n",
       "      <td>31.168893</td>\n",
       "      <td>0.993519</td>\n",
       "      <td>0.994543</td>\n",
       "    </tr>\n",
       "    <tr>\n",
       "      <th>4</th>\n",
       "      <td>&lt;statsmodels.regression.linear_model.Regressio...</td>\n",
       "      <td>2.721038</td>\n",
       "      <td>26.863167</td>\n",
       "      <td>31.841828</td>\n",
       "      <td>0.993845</td>\n",
       "      <td>0.995141</td>\n",
       "    </tr>\n",
       "    <tr>\n",
       "      <th>5</th>\n",
       "      <td>&lt;statsmodels.regression.linear_model.Regressio...</td>\n",
       "      <td>2.486333</td>\n",
       "      <td>27.059072</td>\n",
       "      <td>33.033466</td>\n",
       "      <td>0.993974</td>\n",
       "      <td>0.995560</td>\n",
       "    </tr>\n",
       "    <tr>\n",
       "      <th>6</th>\n",
       "      <td>&lt;statsmodels.regression.linear_model.Regressio...</td>\n",
       "      <td>2.155858</td>\n",
       "      <td>26.206669</td>\n",
       "      <td>33.176795</td>\n",
       "      <td>0.994373</td>\n",
       "      <td>0.996150</td>\n",
       "    </tr>\n",
       "  </tbody>\n",
       "</table>\n",
       "</div>"
      ],
      "text/plain": [
       "                                               model        RSS        AIC  \\\n",
       "1  <statsmodels.regression.linear_model.Regressio...  54.528016  80.817188   \n",
       "2  <statsmodels.regression.linear_model.Regressio...   4.823927  34.314661   \n",
       "3  <statsmodels.regression.linear_model.Regressio...   3.056142  27.185964   \n",
       "4  <statsmodels.regression.linear_model.Regressio...   2.721038  26.863167   \n",
       "5  <statsmodels.regression.linear_model.Regressio...   2.486333  27.059072   \n",
       "6  <statsmodels.regression.linear_model.Regressio...   2.155858  26.206669   \n",
       "\n",
       "         BIC    adj_r2        r2  \n",
       "1  82.808653  0.897219  0.902629  \n",
       "2  37.301858  0.990372  0.991386  \n",
       "3  31.168893  0.993519  0.994543  \n",
       "4  31.841828  0.993845  0.995141  \n",
       "5  33.033466  0.993974  0.995560  \n",
       "6  33.176795  0.994373  0.996150  "
      ]
     },
     "execution_count": 42,
     "metadata": {},
     "output_type": "execute_result"
    }
   ],
   "source": [
    "models_best"
   ]
  },
  {
   "cell_type": "code",
   "execution_count": 43,
   "metadata": {},
   "outputs": [
    {
     "data": {
      "text/plain": [
       "model     <statsmodels.regression.linear_model.Regressio...\n",
       "RSS                                                 3.05614\n",
       "AIC                                                  27.186\n",
       "BIC                                                 31.1689\n",
       "adj_r2                                             0.993519\n",
       "r2                                                 0.994543\n",
       "Name: 3, dtype: object"
      ]
     },
     "execution_count": 43,
     "metadata": {},
     "output_type": "execute_result"
    }
   ],
   "source": [
    "models_best.loc[3]"
   ]
  },
  {
   "cell_type": "code",
   "execution_count": 44,
   "metadata": {},
   "outputs": [
    {
     "data": {
      "text/html": [
       "<table class=\"simpletable\">\n",
       "<caption>OLS Regression Results</caption>\n",
       "<tr>\n",
       "  <th>Dep. Variable:</th>           <td>BP</td>        <th>  R-squared:         </th> <td>   0.995</td>\n",
       "</tr>\n",
       "<tr>\n",
       "  <th>Model:</th>                   <td>OLS</td>       <th>  Adj. R-squared:    </th> <td>   0.994</td>\n",
       "</tr>\n",
       "<tr>\n",
       "  <th>Method:</th>             <td>Least Squares</td>  <th>  F-statistic:       </th> <td>   971.9</td>\n",
       "</tr>\n",
       "<tr>\n",
       "  <th>Date:</th>             <td>Wed, 16 Dec 2020</td> <th>  Prob (F-statistic):</th> <td>2.62e-18</td>\n",
       "</tr>\n",
       "<tr>\n",
       "  <th>Time:</th>                 <td>19:47:23</td>     <th>  Log-Likelihood:    </th> <td> -9.5930</td>\n",
       "</tr>\n",
       "<tr>\n",
       "  <th>No. Observations:</th>      <td>    20</td>      <th>  AIC:               </th> <td>   27.19</td>\n",
       "</tr>\n",
       "<tr>\n",
       "  <th>Df Residuals:</th>          <td>    16</td>      <th>  BIC:               </th> <td>   31.17</td>\n",
       "</tr>\n",
       "<tr>\n",
       "  <th>Df Model:</th>              <td>     3</td>      <th>                     </th>     <td> </td>   \n",
       "</tr>\n",
       "<tr>\n",
       "  <th>Covariance Type:</th>      <td>nonrobust</td>    <th>                     </th>     <td> </td>   \n",
       "</tr>\n",
       "</table>\n",
       "<table class=\"simpletable\">\n",
       "<tr>\n",
       "      <td></td>         <th>coef</th>     <th>std err</th>      <th>t</th>      <th>P>|t|</th>  <th>[0.025</th>    <th>0.975]</th>  \n",
       "</tr>\n",
       "<tr>\n",
       "  <th>Intercept</th> <td>  -13.6672</td> <td>    2.647</td> <td>   -5.164</td> <td> 0.000</td> <td>  -19.278</td> <td>   -8.057</td>\n",
       "</tr>\n",
       "<tr>\n",
       "  <th>Age</th>       <td>    0.7016</td> <td>    0.044</td> <td>   15.961</td> <td> 0.000</td> <td>    0.608</td> <td>    0.795</td>\n",
       "</tr>\n",
       "<tr>\n",
       "  <th>Weight</th>    <td>    0.9058</td> <td>    0.049</td> <td>   18.490</td> <td> 0.000</td> <td>    0.802</td> <td>    1.010</td>\n",
       "</tr>\n",
       "<tr>\n",
       "  <th>BSA</th>       <td>    4.6274</td> <td>    1.521</td> <td>    3.042</td> <td> 0.008</td> <td>    1.403</td> <td>    7.852</td>\n",
       "</tr>\n",
       "</table>\n",
       "<table class=\"simpletable\">\n",
       "<tr>\n",
       "  <th>Omnibus:</th>       <td> 1.164</td> <th>  Durbin-Watson:     </th> <td>   1.896</td>\n",
       "</tr>\n",
       "<tr>\n",
       "  <th>Prob(Omnibus):</th> <td> 0.559</td> <th>  Jarque-Bera (JB):  </th> <td>   1.011</td>\n",
       "</tr>\n",
       "<tr>\n",
       "  <th>Skew:</th>          <td>-0.363</td> <th>  Prob(JB):          </th> <td>   0.603</td>\n",
       "</tr>\n",
       "<tr>\n",
       "  <th>Kurtosis:</th>      <td> 2.172</td> <th>  Cond. No.          </th> <td>2.93e+03</td>\n",
       "</tr>\n",
       "</table><br/><br/>Warnings:<br/>[1] Standard Errors assume that the covariance matrix of the errors is correctly specified.<br/>[2] The condition number is large, 2.93e+03. This might indicate that there are<br/>strong multicollinearity or other numerical problems."
      ],
      "text/plain": [
       "<class 'statsmodels.iolib.summary.Summary'>\n",
       "\"\"\"\n",
       "                            OLS Regression Results                            \n",
       "==============================================================================\n",
       "Dep. Variable:                     BP   R-squared:                       0.995\n",
       "Model:                            OLS   Adj. R-squared:                  0.994\n",
       "Method:                 Least Squares   F-statistic:                     971.9\n",
       "Date:                Wed, 16 Dec 2020   Prob (F-statistic):           2.62e-18\n",
       "Time:                        19:47:23   Log-Likelihood:                -9.5930\n",
       "No. Observations:                  20   AIC:                             27.19\n",
       "Df Residuals:                      16   BIC:                             31.17\n",
       "Df Model:                           3                                         \n",
       "Covariance Type:            nonrobust                                         \n",
       "==============================================================================\n",
       "                 coef    std err          t      P>|t|      [0.025      0.975]\n",
       "------------------------------------------------------------------------------\n",
       "Intercept    -13.6672      2.647     -5.164      0.000     -19.278      -8.057\n",
       "Age            0.7016      0.044     15.961      0.000       0.608       0.795\n",
       "Weight         0.9058      0.049     18.490      0.000       0.802       1.010\n",
       "BSA            4.6274      1.521      3.042      0.008       1.403       7.852\n",
       "==============================================================================\n",
       "Omnibus:                        1.164   Durbin-Watson:                   1.896\n",
       "Prob(Omnibus):                  0.559   Jarque-Bera (JB):                1.011\n",
       "Skew:                          -0.363   Prob(JB):                        0.603\n",
       "Kurtosis:                       2.172   Cond. No.                     2.93e+03\n",
       "==============================================================================\n",
       "\n",
       "Warnings:\n",
       "[1] Standard Errors assume that the covariance matrix of the errors is correctly specified.\n",
       "[2] The condition number is large, 2.93e+03. This might indicate that there are\n",
       "strong multicollinearity or other numerical problems.\n",
       "\"\"\""
      ]
     },
     "execution_count": 44,
     "metadata": {},
     "output_type": "execute_result"
    }
   ],
   "source": [
    "models_best.loc[3][\"model\"].summary()"
   ]
  }
 ],
 "metadata": {
  "kernelspec": {
   "display_name": "Python 3",
   "language": "python",
   "name": "python3"
  },
  "language_info": {
   "codemirror_mode": {
    "name": "ipython",
    "version": 3
   },
   "file_extension": ".py",
   "mimetype": "text/x-python",
   "name": "python",
   "nbconvert_exporter": "python",
   "pygments_lexer": "ipython3",
   "version": "3.7.6"
  }
 },
 "nbformat": 4,
 "nbformat_minor": 4
}
