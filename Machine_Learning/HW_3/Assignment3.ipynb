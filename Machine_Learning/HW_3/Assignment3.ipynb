{
 "cells": [
  {
   "cell_type": "markdown",
   "metadata": {},
   "source": [
    "기계학습 숙제 4"
   ]
  },
  {
   "cell_type": "markdown",
   "metadata": {},
   "source": [
    "1. [SVM; 40p] 선형적으로 분리가 가능한 경우, 다음을 증명하세요."
   ]
  },
  {
   "cell_type": "markdown",
   "metadata": {},
   "source": [
    "A. SVM의 원시 형태 (primal form) 해를 구하는 방법"
   ]
  },
  {
   "cell_type": "markdown",
   "metadata": {},
   "source": [
    "선형적으로 분리가 가능한 이진 분류를 하는 경우 hyperplane으로부터 상대적인 거리를 구하면 \n",
    "\n",
    "$g(x_{t})= w^{T}x_{t}+b >= +1$ 이면 $y_{t} = +1$\n",
    "\n",
    "그리고\n",
    "\n",
    "$g(x_{t})= w^{T}x_{t}+b <= -1$ 이면 $y_{t} = -1$\n",
    "\n",
    "위의 두 식을 하나로 합치면 \n",
    "\n",
    "$y_{t}(w^{T}x_{t}+b) >= +1$\n",
    "\n",
    "SVM은 support vector와 hyperplane의 margin을 최대화는 방식이기 때문에\n",
    "\n",
    "support vector와 hyperplane의 margin는 \n",
    "\n",
    "$margin= |\\frac{+1}{||w||}-\\frac{-1}{||w||}|$\n",
    "\n",
    "위의 margindmf 최대화하는 것은 $||w||$를 최소화 하는 것이다. \n",
    "\n",
    "SVM primal의 해를 구하는 것은 \n",
    "\n",
    "$minimize_{w} \\frac{1}{2}||w||^2$\n",
    "\n",
    "subject to $y_{t}(w^{T}x_{t}+b) >= +1, \\forall t \\in [1,N]$\n",
    "\n",
    "이는 convex한 문제 이므로 아래의 quadratic programming에 의해서 \n",
    "\n",
    "$minimize_{z} \\frac{1}{2}z^{T}Qz+c^{T}z$\n",
    "\n",
    "subject to $Az >= a$\n",
    "\n",
    "quadratic programming으로 SVM primal을 풀면 다음과 같다. \n",
    "\n",
    "\n",
    "$z = \\begin{bmatrix} \n",
    "    b \\\\\n",
    "    w \n",
    "\\end{bmatrix} \\in R^{d+1}$\n",
    "\n",
    "$\\frac{1}{2}= \\begin{bmatrix} \n",
    "    b \\\\\n",
    "    w^{T} \n",
    "\\end{bmatrix} \\begin{bmatrix} \n",
    "    0 && 0\\\\\n",
    "    0 && I\n",
    "\\end{bmatrix} \\begin{bmatrix} \n",
    "    b \\\\\n",
    "    w^{T} \n",
    "\\end{bmatrix} = z^{T}\\begin{bmatrix} \n",
    "    0 && 0\\\\\n",
    "    0 && I\n",
    "\\end{bmatrix}z$\n",
    "\n",
    "따라서\n",
    "\n",
    "$Q = \\begin{bmatrix} \n",
    "    0 && 0\\\\\n",
    "    0 && I\n",
    "\\end{bmatrix}, c = 0$\n",
    "\n",
    "\n",
    "$y_{n}(w^{T}x_{n}+b) >= +1 = \\begin{bmatrix} \n",
    "    y_{n} && y_{n}x_{n}^{T}\n",
    "\\end{bmatrix}z >= 1$\n",
    "\n",
    "\n",
    "위의 식에서 $\\begin{bmatrix} \n",
    "    y_{n} && y_{n}x_{n}^{T}\n",
    "\\end{bmatrix}$을 solver에게 전달하면 SVM의 해를 구하게 된다. "
   ]
  },
  {
   "cell_type": "markdown",
   "metadata": {},
   "source": [
    "B. SVM의 이중 형태 (dual form) 해를 구하는 방법"
   ]
  },
  {
   "cell_type": "markdown",
   "metadata": {},
   "source": [
    "dual form으로 해를 구하기 위해서는 \n",
    "\n",
    "step 1: compute Lagrangian\n",
    "\n",
    "primal form이 아래와 같이 주어진다면 \n",
    "\n",
    "$minimize_{w} \\frac{1}{2}||w||^2$\n",
    "\n",
    "subject to $y_{t}(w^{T}x_{t}+b) >= +1, \\forall t \\in [1,N]$\n",
    "\n",
    "Lagrangian function을 사용하여 아래의 식으로 변경한다. \n",
    "\n",
    "$L(w,b,\\alpha) = \\frac{1}{2}||w||^{2}- \\sum_{t=1}^{N}\\alpha_{t}[y_{t}(w^{T}x_{t} + b -1)]$\n",
    "\n",
    "where $\\alpha >= 0$\n",
    "\n",
    "위의 식에서 dual form을 구하기 위해 아래의 세개의 KKT conditionds을 만족하게 하면 \n",
    "\n",
    "1. $\\frac{\\partial L(w^{*},b^{*}, \\alpha^{*})}{\\partial w} = 0$\n",
    "\n",
    "2. $\\frac{\\partial L(w^{*},b^{*}, \\alpha^{*})}{\\partial b} = 0$\n",
    "\n",
    "3. $\\alpha_{t}^{*}[y_{t}(w^{*T}x_{t} + b^{*} -1)]=0, \\forall t \\in [1,N]$\n",
    "\n",
    "\n",
    "우선 1번과 2번의 의해서 \n",
    "\n",
    "$\\frac{\\partial L}{\\partial w} =w - \\sum_{t=1}^{N}\\alpha_{t}y_{t}x_{t} = 0$\n",
    "\n",
    "$w = \\sum_{t=1}^{N}\\alpha_{t}y_{t}x_{t}$\n",
    "\n",
    "\n",
    "$\\frac{\\partial L}{\\partial b} = -\\sum_{t=1}^{N}\\alpha_{t}y_{t}= 0$\n",
    "\n",
    "$\\sum_{t=1}^{N}\\alpha_{t}y_{t}= 0$\n",
    "\n",
    "그리고 3번에 의해서 아래와 같은 의미를 내포한다. \n",
    "\n",
    "if $\\alpha > 0$, $\\alpha_{t}^{*}[y_{t}(w^{*T}x_{t} + b^{*} -1)]=1$\n",
    "\n",
    "if $\\alpha_{t}^{*}[y_{t}(w^{*T}x_{t} + b^{*} -1)]>1$, $\\alpha > 0$\n",
    "\n",
    "그리고 Lagrangian function을 이용하여 구한 식에 KKT 조건 1번과 2번을 이용하여 식을 변경하면 아래와 같은 dual form이 된다. \n",
    "\n",
    "$maximize_{\\alpha} \\sum_{t=1}{N}\\alpha - \\frac{1}{2}\\sum_{s=1}^{N}\\sum_{t=1}^{N}\\alpha_{s}\\alpha_{t}y_{s}y_{t}x_{s}^{T}x_{t}$\n",
    "\n",
    "subject to \n",
    "\n",
    "$\\sum_{t=0}^{N}\\alpha_{t}y_{t}= 0$\n",
    "\n",
    "$\\alpha_{t}>=0, \\forall t \\in [1, N]$\n",
    "\n",
    "\n",
    "이제 dual form을 quadaratic  programming을 이용하여 풀면 \n",
    "\n",
    "$QP = minmize_{x} \\frac{1}{2}x^{T}Qx + c^{T}x$\n",
    "\n",
    "subject to \n",
    "\n",
    "$Ax <= b$\n",
    "\n",
    "$Ex = d$\n",
    "\n",
    "dual form은 아래와 같이 변한다. \n",
    "\n",
    "$minmize_{\\alpha} \\frac{1}{2}\\alpha^{T}Q\\alpha + 1^{T}\\alpha$\n",
    "\n",
    "subject to \n",
    "\n",
    "$-\\alpha <= 0$\n",
    "\n",
    "$y^{T}\\alpha = 0$\n",
    "\n",
    "$Q,1^{T},y^{T}$를 solver에게 주어 계산하면 된다. \n"
   ]
  },
  {
   "cell_type": "markdown",
   "metadata": {},
   "source": [
    "2. [Kernel; 20p] 다음의 함수가 valid kernel임을 보이세요. "
   ]
  },
  {
   "cell_type": "markdown",
   "metadata": {},
   "source": [
    "A. 임의의 행렬 A 에 대한 K(x,z) = $x^{T}A^{T}Az$"
   ]
  },
  {
   "cell_type": "markdown",
   "metadata": {},
   "source": [
    "$\\Phi(x)= Ax$라고하면 \n",
    "\n",
    "K(x,z) = $\\Phi(x)^{T}\\Phi(z)$ = $(Ax)^{T}Az$ = $x^{T}A^{T}Az$이므로 valid kernel이다. "
   ]
  },
  {
   "cell_type": "markdown",
   "metadata": {},
   "source": [
    "B. K(x,z) = $(x^{T}z + C)^{2}$"
   ]
  },
  {
   "cell_type": "markdown",
   "metadata": {},
   "source": [
    "K(x, z) = $C^{2}+Cx_{1}z_{1}+Cx_{2}z_{2}+ Cx_{1}z_{1} + x_{1}^{2}z_{1}^{2} + x_{1}z_{1}x_{2}z_{2} + Cx_{2}z_{2} + x_{1}z_{1}x_{2}z_{2} + x_{2}^{2}z_{2}^{2}$ = $C^{2}+2Cx_{1}z_{1}+2Cx_{2}z_{2}+ x_{1}^{2}z_{1}^{2} + 2x_{1}z_{1}x_{2}z_{2} + x_{2}^{2}z_{2}^{2}$ = $\\Phi(x)^{T}\\Phi(z)$\n",
    "\n",
    "where \n",
    "\n",
    "$\\Phi(x)= (C, x_{1}^{2}, x_{2}^{2}, \\sqrt{2C} x_{1}, \\sqrt{2C} x_{2}, \\sqrt2 x_{1}x_{2} )$\n",
    "\n",
    "$\\Phi(z)$를 구한다면\n",
    "\n",
    "$\\Phi(z)= (C, z_{1}^{2}, z_{2}^{2}, \\sqrt{2C} z_{1}, \\sqrt{2C} z_{2}, \\sqrt2 z_{1}z_{2} )$\n",
    "\n",
    "따라서 \n",
    "\n",
    "$\\Phi(x)^{T}\\Phi(z)$ = K(x, z)와 같아 valid kernel이다.\n",
    "\n"
   ]
  },
  {
   "cell_type": "markdown",
   "metadata": {},
   "source": [
    "3. [HMM; 40p] It is well known that a DNA sequence is a series of components from {A, C, G, T}. Now let's assume there is one hidden variable S that controls the generation of DNA sequence. S takes 2 possible states {S1, S2}. Assume the following transition probabilities for HMM M. \n",
    "\n",
    "$$P(S1|S1)=0.8, P(S2|S1) = 0.2, P(S1|S2) = 0.2, P(S2|S2)=0.8$$\n",
    "\n",
    "emission probabilities as following\n",
    "\n",
    "$$P(A|S1)=0.4, P(C|S1) = 0.1, P(G|S1) = 0.4, P(T|S1)=0.1$$\n",
    "\n",
    "$$P(A|S2)=0.1, P(C|S2) = 0.4, P(G|S2) = 0.1, P(T|S2)=0.4$$\n",
    "\n",
    "and starting probabilities as following\n",
    "\n",
    "$$P(S1)= 0.5, P(S2) = 0.5$$\n",
    "\n",
    "Assume the obserbed sequence is x = CGTCAG, calculate:"
   ]
  },
  {
   "cell_type": "markdown",
   "metadata": {},
   "source": [
    "A. Draw the state diagram of this HMM M and mark the transition probabilities "
   ]
  },
  {
   "cell_type": "markdown",
   "metadata": {},
   "source": [
    "![](figure/hidden_markov.PNG)"
   ]
  },
  {
   "cell_type": "markdown",
   "metadata": {},
   "source": [
    "B. P(x|M) using the forward algorithm. show your work to get full credit."
   ]
  },
  {
   "cell_type": "markdown",
   "metadata": {},
   "source": [
    "$$\\forall S_{k} \\in \\{S_{1}, S_{2}\\}, \\alpha_{1}^{k}=P(x_{1}|\\pi_{1}=S_{k})P(\\pi_{1} = S_{k})$$\n",
    "\n",
    "$$\\forall S_{k} \\in \\{S_{1}, S_{2}\\}, t \\in \\{2,3,4,5,6\\}$$\n",
    "\n",
    "$$\\alpha_{t}^{k}=P(x_{t}|\\pi_{t}=S_{k})\\sum_{i\\in\\{1,2\\}}\\alpha_{t-1}^{i}A_{i,k}$$"
   ]
  },
  {
   "cell_type": "markdown",
   "metadata": {},
   "source": [
    "|$\\alpha$|$S_{k}=S_{1}$|$S_{k}=S_{2}$|\n",
    "|---|---|---|\n",
    "|$\\alpha_{1}^{k}$| 0.05  | 0.2 |\n",
    "|$\\alpha_{2}^{k}$| 0.032 | 0.017 |\n",
    "|$\\alpha_{3}^{k}$| 0.0029| 0.008 |\n",
    "|$\\alpha_{4}^{k}$| 3.9200e-04 | 0.0028 |\n",
    "|$\\alpha_{5}^{k}$| 3.4880e-04 | 2.3120e-04 |\n",
    "|$\\alpha_{6}^{k}$| 1.3011e-04 | 2.5472e-05 |"
   ]
  },
  {
   "cell_type": "markdown",
   "metadata": {},
   "source": [
    "C. The posterior probabilities P($\\pi_{i}$ = S1|x, M) for i = 1,...6. show your work to get full credit."
   ]
  },
  {
   "cell_type": "markdown",
   "metadata": {},
   "source": [
    "$$\\forall S_{k} \\in \\{S_{1}, S_{2}\\}, \\beta_{6}^{k}=1$$\n",
    "\n",
    "$$\\forall S_{k} \\in \\{S_{1}, S_{2}\\}, t \\in \\{1,2,3,4,5\\}$$\n",
    "\n",
    "$$\\beta_{t}^{k}=\\sum_{j\\in\\{1,2\\}}A_{k,j}P(x_{t+1}|\\pi_{t+1}=S_{k})\\beta_{t+1}^{j}$$"
   ]
  },
  {
   "cell_type": "markdown",
   "metadata": {},
   "source": [
    "|$\\beta$|$S_{k}=S_{1}$|$S_{k}=S_{2}$|\n",
    "|---|---|---|\n",
    "|$\\beta_{1}^{k}$| 7.9744e-04| 5.7856e-04 |\n",
    "|$\\beta_{2}^{k}$| 0.0022 | 0.0051 |\n",
    "|$\\beta_{3}^{k}$| 0.0122 | 0.0150 |\n",
    "|$\\beta_{4}^{k}$| 0.1120 | 0.0400 |\n",
    "|$\\beta_{5}^{k}$| 0.3400 | 0.1600 |\n",
    "|$\\beta_{6}^{k}$| 1 | 1 |"
   ]
  },
  {
   "cell_type": "markdown",
   "metadata": {},
   "source": [
    "$$P(\\pi_{i} = S1|x, M) = \\frac{\\alpha_{i}^{1}\\beta_{i}^{1}}{\\sum_{k \\in \\{1,2\\}}\\alpha_{i}^{k}\\beta_{i}^{k}}$$"
   ]
  },
  {
   "cell_type": "markdown",
   "metadata": {},
   "source": [
    "|$P(\\pi_{i} = S1|x, M)$|$S_{k}=S_{1}$|\n",
    "|------|------|\n",
    "|$P(\\pi_{1} = S1|x, M)$| 0.2563|\n",
    "|$P(\\pi_{2} = S1|x, M)$| 0.4476 |\n",
    "|$P(\\pi_{3} = S1|x, M)$| 0.4476 |\n",
    "|$P(\\pi_{4} = S1|x, M)$| 0.2822 |\n",
    "|$P(\\pi_{5} = S1|x, M)$| 0.7622 |\n",
    "|$P(\\pi_{6} = S1|x, M)$| 0.8363 |"
   ]
  },
  {
   "cell_type": "markdown",
   "metadata": {},
   "source": [
    "D. The most likely path of hidden states using the Viterbi Algorithm. Show your work to get full credit."
   ]
  },
  {
   "cell_type": "markdown",
   "metadata": {},
   "source": [
    "$$b_{t}^{j}= argmax_{i=1}^{n}[v_{t-1}*A_{ij}*P(x_{t}|\\pi_{t}=S_{j})]$$"
   ]
  },
  {
   "cell_type": "markdown",
   "metadata": {},
   "source": [
    "|$V_{i}^{k}$|$S_{k}=S_{1}$|$S_{k}=S_{2}$|\n",
    "|---|---|---|\n",
    "|$V_{i}^{k}$|0.0500| 0.2000|\n",
    "|$V_{i}^{k}$|0.0160| 0.0160 |\n",
    "|$V_{i}^{k}$|0.0013| 0.0013 |\n",
    "|$V_{i}^{k}$|1.0240e-04| 0.016 |\n",
    "|$V_{i}^{k}$|1.3107e-04| 1.3107e-04 |\n",
    "|$V_{i}^{k}$|4.1943e-05| 1.0486e-05 |"
   ]
  },
  {
   "cell_type": "markdown",
   "metadata": {},
   "source": [
    "thus, the most likely path is S2, S2, S2, S2, S1, S1"
   ]
  }
 ],
 "metadata": {
  "kernelspec": {
   "display_name": "Python 3",
   "language": "python",
   "name": "python3"
  },
  "language_info": {
   "codemirror_mode": {
    "name": "ipython",
    "version": 3
   },
   "file_extension": ".py",
   "mimetype": "text/x-python",
   "name": "python",
   "nbconvert_exporter": "python",
   "pygments_lexer": "ipython3",
   "version": "3.5.2"
  }
 },
 "nbformat": 4,
 "nbformat_minor": 2
}
