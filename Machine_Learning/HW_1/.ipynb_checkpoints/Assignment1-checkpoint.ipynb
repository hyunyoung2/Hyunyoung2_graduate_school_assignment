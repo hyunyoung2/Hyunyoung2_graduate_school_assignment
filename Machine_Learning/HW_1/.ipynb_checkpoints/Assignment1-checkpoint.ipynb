{
 "cells": [
  {
   "cell_type": "markdown",
   "metadata": {},
   "source": [
    "기계학습 숙제 1"
   ]
  },
  {
   "cell_type": "markdown",
   "metadata": {},
   "source": [
    "1. \\[linear algebra; 10p\\] 훈련집합이 $$ x_1=(2,1)^T, x_2=(2,4)^T, x_3=(4,1)^T, x_4=(4,3)^T $$ 이다."
   ]
  },
  {
   "cell_type": "markdown",
   "metadata": {},
   "source": [
    "A. 훈련집합을 축 $$(0,1)^T $$과 축 $$ (1,1)^T $$으로 투영하고, 각 축에 투영된 훈련집합의 분산들을 구하세요.\n"
   ]
  },
  {
   "cell_type": "markdown",
   "metadata": {},
   "source": [
    "sol> if projection **b** onto **a** is  **p**,"
   ]
  },
  {
   "cell_type": "markdown",
   "metadata": {},
   "source": [
    "$$p = \\frac{aa^T}{a^Ta}{b}$$"
   ]
  },
  {
   "cell_type": "markdown",
   "metadata": {},
   "source": [
    "- 훈련집합 $X = \\{ x_1, x_2, x_3, x_4 \\}$를 축 $(0,1)^T$으로 투영한 훈련집합은 $P = \\{ p_1, p_2, p_3, p_4 \\}$이라 위의 식으로 계산하면 다음과 같다."
   ]
  },
  {
   "cell_type": "markdown",
   "metadata": {},
   "source": [
    "$$p = \\frac{(0,1)(0,1)^T}{(0,1)^T(0,1)} x$$"
   ]
  },
  {
   "cell_type": "markdown",
   "metadata": {},
   "source": [
    "$a = (0,1)(0,1)^T = \\begin{pmatrix} 0\\\\1 \\end{pmatrix}\\begin{pmatrix} 0 && 1 \\end{pmatrix} = \\begin{pmatrix} 0 && 0 \\\\ 0 && 1\\end{pmatrix}$\n",
    "\n",
    "$$ b = (0,1)^T(0,1) = \\begin{pmatrix} 0 && 1 \\end{pmatrix}\\begin{pmatrix} 0\\\\1 \\end{pmatrix} = 1 $$\n",
    "\n",
    "$$ \\frac{a}{b} = \\frac{(0,1)(0,1)^T}{(0,1)^T(0,1)} = \\begin{pmatrix} 0 && 0 \\\\ 0 && 1\\end{pmatrix} $$"
   ]
  },
  {
   "cell_type": "markdown",
   "metadata": {},
   "source": [
    "$$ p_1 =  \\begin{pmatrix} 0 && 0 \\\\ 0 && 1\\end{pmatrix}x_1 =  \\begin{pmatrix} 0 && 0 \\\\ 0 && 1\\end{pmatrix} \\begin{pmatrix} 2 \\\\ 1 \\end{pmatrix} = \\begin{pmatrix} 0 \\\\ 1 \\end{pmatrix} $$\n",
    "\n",
    "$$ p_2 =  \\begin{pmatrix} 0 && 0 \\\\ 0 && 1\\end{pmatrix}x_2 =  \\begin{pmatrix} 0 && 0 \\\\ 0 && 1\\end{pmatrix} \\begin{pmatrix} 2  \\\\ 4 \\end{pmatrix} = \\begin{pmatrix} 0 \\\\ 4 \\end{pmatrix} $$"
   ]
  },
  {
   "cell_type": "markdown",
   "metadata": {},
   "source": [
    "$$ p_3 =  \\begin{pmatrix} 0 && 0 \\\\ 0 && 1\\end{pmatrix}x_3 =  \\begin{pmatrix} 0 && 0 \\\\ 0 && 1\\end{pmatrix} \\begin{pmatrix} 4 \\\\ 1 \\end{pmatrix} = \\begin{pmatrix} 0 \\\\ 1\\end{pmatrix} $$\n",
    "\n",
    "$$ p_4 =  \\begin{pmatrix} 0 && 0 \\\\ 0 && 1\\end{pmatrix}x_4 =  \\begin{pmatrix} 0 && 0 \\\\ 0 && 1\\end{pmatrix} \\begin{pmatrix} 4 \\\\ 3\\end{pmatrix} = \\begin{pmatrix} 0 \\\\ 3\\end{pmatrix} $$"
   ]
  },
  {
   "cell_type": "markdown",
   "metadata": {},
   "source": [
    "위의 투영된 벡터를 기반으로 분산을 구하기 위해 공분산 행렬을 구하면 \n",
    "\n",
    "sol> $$ \\mathrm{Cov}[X, X] = \\mathrm{E}[(x-\\mu)(x-\\mu)^T] $$"
   ]
  },
  {
   "cell_type": "markdown",
   "metadata": {},
   "source": [
    "- 훈련집합 $$X = \\{ p_1, p_2, p_3, p_4 \\}$$의 평균 벡터를 구하면\n",
    "\n",
    "$$ \\mu = \\frac{1}{4}(p_1 + p_2 + p_3 + p_4) $$\n",
    "\n",
    "$$ a = p_1 + p_2 + p_3 + p_4 = \\begin{pmatrix} 0 \\\\ 1\\end{pmatrix} + \\begin{pmatrix} 0 \\\\ 4\\end{pmatrix} + \\begin{pmatrix} 0 \\\\ 1\\end{pmatrix} + \\begin{pmatrix} 0 \\\\ 3\\end{pmatrix} = \\begin{pmatrix} 0 \\\\ 9\\end{pmatrix} $$\n",
    "\n",
    "\n",
    "$$ \\therefore \\mu = \\frac{1}{4}\\begin{pmatrix} 0 \\\\ 9\\end{pmatrix} = \\begin{pmatrix} 0 \\\\ 9/4\\end{pmatrix} $$"
   ]
  },
  {
   "cell_type": "markdown",
   "metadata": {},
   "source": [
    "- 위의 평균 벡터를 가지고 공분산 벡터를 구하려면 $$ (p-\\mu)(p-\\mu)^T $$의 계산을 아래와 같이 해야한다. \n",
    "\n",
    "$$ (p_1-\\mu) = \\begin{pmatrix} 0 \\\\ 1\\end{pmatrix} - \\begin{pmatrix} 0 \\\\ 9/4\\end{pmatrix} = \\begin{pmatrix} 0 \\\\ -5/4\\end{pmatrix} $$\n",
    "\n",
    "$$ \\therefore (p_1-\\mu)(p_1-\\mu)^T = \\begin{pmatrix} 0 \\\\ -5/4\\end{pmatrix}\\begin{pmatrix} 0 && -5/4\\end{pmatrix} = \\begin{pmatrix} 0 && 0 \\\\ 0 && (-5/4)^2 \\end{pmatrix}$$\n",
    "\n",
    "$$ (p_2-\\mu) = \\begin{pmatrix} 0 \\\\ 4\\end{pmatrix} - \\begin{pmatrix} 0 \\\\ 9/4\\end{pmatrix} = \\begin{pmatrix} 0 \\\\ 7/4\\end{pmatrix} $$\n",
    "\n",
    "$$ \\therefore (p_2-\\mu)(p_2-\\mu)^T = \\begin{pmatrix} 0 \\\\ 7/4\\end{pmatrix}\\begin{pmatrix} 0 && 7/4\\end{pmatrix} = \\begin{pmatrix} 0 && 0 \\\\ 0 && (7/4)^2 \\end{pmatrix}$$"
   ]
  },
  {
   "cell_type": "markdown",
   "metadata": {},
   "source": [
    "$$ (p_3-\\mu) = \\begin{pmatrix} 0 \\\\ 1\\end{pmatrix} - \\begin{pmatrix} 0 \\\\ 9/4\\end{pmatrix} = \\begin{pmatrix} 0 \\\\ -5/4\\end{pmatrix} $$\n",
    "\n",
    "$$ \\therefore (p_3-\\mu)(p_3-\\mu)^T = \\begin{pmatrix} 0 \\\\ -5/4\\end{pmatrix}\\begin{pmatrix} 0 && -5/4\\end{pmatrix} = \\begin{pmatrix} 0 && 0 \\\\ 0 && (-5/4)^2 \\end{pmatrix}$$\n",
    "\n",
    "$$ (p_4-\\mu) = \\begin{pmatrix} 0 \\\\ 3\\end{pmatrix} - \\begin{pmatrix} 0 \\\\ 9/4\\end{pmatrix} = \\begin{pmatrix} 0 \\\\ 3/4\\end{pmatrix} $$\n",
    "\n",
    "$$ \\therefore (p_4-\\mu)(p_4-\\mu)^T = \\begin{pmatrix} 0 \\\\ 3/4\\end{pmatrix}\\begin{pmatrix} 0 && 3/4\\end{pmatrix} = \\begin{pmatrix} 0 && 0 \\\\ 0 && (3/4)^2 \\end{pmatrix}$$"
   ]
  },
  {
   "cell_type": "markdown",
   "metadata": {},
   "source": [
    "$$ \\mathrm{Cov}[X, X] = \\frac{1}{3}\\sum_{i=1}^{4} (p_i-\\mu)(p_i-\\mu)^T $$\n",
    "\n",
    "$$ a = \\sum_{i=1}^{4} (p_i-\\mu)(p_i-\\mu)^T = \\begin{pmatrix} 0 && 0 \\\\ 0 && (-5/4)^2 \\end{pmatrix} + \\begin{pmatrix} 0 && 0 \\\\ 0 && (7/4)^2 \\end{pmatrix}+\\begin{pmatrix} 0 && 0 \\\\ 0 && (-5/4)^2 \\end{pmatrix} + \\begin{pmatrix} 0 && 0 \\\\ 0 && (3/4)^2 \\end{pmatrix}$$\n",
    "$$ = \\begin{pmatrix} 0 && 0 \\\\ 0 &&  108/16 \\end{pmatrix}$$\n",
    "\n",
    "$$ \\therefore \\mathrm{Cov}[X, X] = \\frac{1}{3}a = \\begin{pmatrix} 0 && 0 \\\\ 0 &&  9/4 \\end{pmatrix} = \\begin{pmatrix} 0 && 0 \\\\ 0 &&  2.25 \\end{pmatrix}$$\n",
    "\n",
    "\n",
    "위의 시그마 연산 후에 4 개의 sample 공분산을 계산을 하는데 3으로 하는 이유는 모수 기대값은 모르기 때문에 그것으로 계산을 한다.\n",
    "\n",
    "하지만 모수의 기대값을 알고 있다면 공분산을 구하면 아래와 같다\n",
    "\n",
    "$$ \\therefore \\mathrm{Cov}[X, X] = \\frac{1}{4}a = \\begin{pmatrix} 0 && 0 \\\\ 0 &&  27/16 \\end{pmatrix} = \\begin{pmatrix} 0 && 0 \\\\ 0 &&  1.6875 \\end{pmatrix}$$\n",
    "\n",
    "\n",
    "covariance wikipedia의 [Calculating the sampel covariance](https://en.wikipedia.org/wiki/Sample_mean_and_covariance) 참조\n",
    "\n",
    "위의 공분산 행렬 값을 Numpy로 구하면 다음과 같다. "
   ]
  },
  {
   "cell_type": "code",
   "execution_count": 1,
   "metadata": {},
   "outputs": [
    {
     "name": "stdout",
     "output_type": "stream",
     "text": [
      "mean vector projected onto (1,1)^T: \n",
      "[0.   2.25]\n",
      "transpose:\n",
      "[[0 0 0 0]\n",
      " [1 4 1 3]]\n",
      "covariance vector projected onto (1,1)^T: \n",
      "[[0.   0.  ]\n",
      " [0.   2.25]]\n"
     ]
    }
   ],
   "source": [
    "import numpy as np\n",
    "\n",
    "p1 = np.array([0,1])\n",
    "p2 = np.array([0,4])\n",
    "p3 = np.array([0,1])\n",
    "p4 = np.array([0,3])\n",
    "\n",
    "mean_vector = (p1+p2+p3+p4)/4\n",
    "\n",
    "print(\"mean vector projected onto (1,1)^T: \\n{}\".format(mean_vector))\n",
    "total_vector = np.array([p1, p2, p3, p4])\n",
    "t = total_vector.T\n",
    "print(\"transpose:\\n{}\".format(total_vector.T))\n",
    "cov = np.cov(t)\n",
    "print(\"covariance vector projected onto (1,1)^T: \\n{}\".format(cov))"
   ]
  },
  {
   "cell_type": "markdown",
   "metadata": {},
   "source": [
    "reply) (0,1)^T의 축으로 투영한 벡터들은 위의 공분산 결과에서 확인 할수 있듯이 (x, y)의 이차원 벡터라고 할때, x축의 정보는 사라지고 y 축 정보만 남아 y축으로만 분산이 형성된다."
   ]
  },
  {
   "cell_type": "markdown",
   "metadata": {},
   "source": [
    "- 훈련집합 $X = \\{ x_1, x_2, x_3, x_4 \\}$를 축 $ (1,1)^T $ 으로 투영한 훈련집합은 $P = \\{ p_1, p_2, p_3, p_4 \\}$이라 위의 식으로 계산하면 다음과 같다."
   ]
  },
  {
   "cell_type": "markdown",
   "metadata": {},
   "source": [
    "$$ p = \\frac{(1,1)(1,1)^T}{(1,1)^T(1,1)}{x} $$"
   ]
  },
  {
   "cell_type": "markdown",
   "metadata": {},
   "source": [
    "$$ a = (1,1)(1,1)^T = \\begin{pmatrix} 1 \\\\ 1 \\end{pmatrix}\\begin{pmatrix} 1 && 1 \\end{pmatrix} = \\begin{pmatrix} 1 && 1 \\\\ 1 && 1\\end{pmatrix} $$\n",
    "\n",
    "$$ b = (1,1)^T(1,1) = \\begin{pmatrix} 1 && 1 \\end{pmatrix}\\begin{pmatrix} 1 \\\\ 1 \\end{pmatrix} = 2 $$\n",
    "\n",
    "$$ \\frac{a}{b} = \\frac{(1,1)(1,1)^T}{(1,1)^T(1,1)} = \\frac{1}{2}\\begin{pmatrix} 1 && 1 \\\\ 1 && 1\\end{pmatrix} $$\n",
    "\n",
    "$$ p_1 =  \\frac{1}{2}\\begin{pmatrix} 1 && 1 \\\\ 1 && 1\\end{pmatrix}{x_1} =  \\frac{1}{2}\\begin{pmatrix} 1 && 1 \\\\ 1 && 1\\end{pmatrix} \\begin{pmatrix} 2 \\\\ 1 \\end{pmatrix} = \\frac{1}{2}\\begin{pmatrix} 3 \\\\ 3\\end{pmatrix} $$\n",
    "\n",
    "$$ p_2 =  \\frac{1}{2}\\begin{pmatrix} 1 && 1 \\\\ 1 && 1\\end{pmatrix}{x_2} = \\frac{1}{2}\\begin{pmatrix} 1 && 1 \\\\ 1 && 1\\end{pmatrix} \\begin{pmatrix} 2  \\\\ 4 \\end{pmatrix} = \\frac{1}{2}\\begin{pmatrix} 6 \\\\ 6\\end{pmatrix} $$\n",
    "\n",
    "$$ p_3 =  \\frac{1}{2}\\begin{pmatrix} 1 && 1 \\\\ 1 && 1\\end{pmatrix}{x_3} =  \\frac{1}{2}\\begin{pmatrix} 1 && 1 \\\\ 1 && 1\\end{pmatrix}\\begin{pmatrix} 4 \\\\ 1 \\end{pmatrix} =\\frac{1}{2} \\begin{pmatrix} 5 \\\\ 5\\end{pmatrix} $$\n",
    "\n",
    "$$ p_4 =  \\frac{1}{2}\\begin{pmatrix} 1 && 1 \\\\ 1 && 1\\end{pmatrix}{x_4} =  \\frac{1}{2}\\begin{pmatrix} 1 && 1 \\\\ 1 && 1\\end{pmatrix} \\begin{pmatrix} 4 \\\\ 3\\end{pmatrix} = \\frac{1}{2}\\begin{pmatrix} 7 \\\\ 7\\end{pmatrix} $$"
   ]
  },
  {
   "cell_type": "markdown",
   "metadata": {},
   "source": [
    "위의 투영된 벡터를 기반으로 분산을 구하기 위해 공분산 행렬을 구하면 \n",
    "\n",
    "sol> $$ \\mathrm{Cov}[X, X] = \\mathrm{E}[(x-\\mu)(x-\\mu)^T] $$"
   ]
  },
  {
   "cell_type": "markdown",
   "metadata": {},
   "source": [
    "- 훈련집합 $X = \\{ p_1, p_2, p_3, p_4 \\}$의 평균 벡터를 구하면\n",
    "\n",
    "$$ \\mu = \\frac{1}{4}(p_1 + p_2 + p_3 + p_4) $$\n",
    "\n",
    "$$ a = p_1 + p_2 + p_3 + p_4 = \\frac{1}{2}\\begin{pmatrix} 3 \\\\ 3\\end{pmatrix} + \\frac{1}{2}\\begin{pmatrix} 6 \\\\ 6\\end{pmatrix} + \\frac{1}{2}\\begin{pmatrix} 5 \\\\ 5\\end{pmatrix} + \\frac{1}{2}\\begin{pmatrix} 7 \\\\ 7\\end{pmatrix} = \\frac{1}{2}\\begin{pmatrix} 21 \\\\ 21\\end{pmatrix} $$\n",
    "\n",
    "$$ \\therefore \\mu = \\frac{1}{4}\\times\\frac{1}{2}\\begin{pmatrix} 21 \\\\ 21\\end{pmatrix} = \\frac{1}{8}\\begin{pmatrix} 21 \\\\ 21\\end{pmatrix} $$"
   ]
  },
  {
   "cell_type": "markdown",
   "metadata": {},
   "source": [
    "- 위의 평균 벡터를 가지고 공분산 벡터를 구하려면 $$ (p-\\mu)(p-\\mu)^T $$의 계산을 아래와 같이 해야한다. \n",
    "\n",
    "$$ (p_1-\\mu) = \\frac{1}{2}\\begin{pmatrix} 3 \\\\ 3\\end{pmatrix} - \\frac{1}{8}\\begin{pmatrix} 21 \\\\ 21\\end{pmatrix} = \\begin{pmatrix}  -9/8\\\\ -9/8\\end{pmatrix} $$\n",
    "\n",
    "$$ \\therefore (p_1-\\mu)(p_1-\\mu)^T = \\begin{pmatrix} -9/8 \\\\ -9/8\\end{pmatrix}\\begin{pmatrix} -9/8 && -9/8\\end{pmatrix} = \\begin{pmatrix} (-9/8)^2 && (-9/8)^2 \\\\ (-9/8)^2 && (-9/8)^2 \\end{pmatrix}$$\n",
    "\n",
    "$$ (p_2-\\mu) = \\frac{1}{2}\\begin{pmatrix} 6 \\\\ 6\\end{pmatrix} - \\frac{1}{8}\\begin{pmatrix} 21 \\\\ 21\\end{pmatrix} = \\begin{pmatrix} 3/8 \\\\ 3/8\\end{pmatrix} $$\n",
    "\n",
    "$$ \\therefore (p_2-\\mu)(p_2-\\mu)^T = \\begin{pmatrix} 3/8 \\\\ 3/8\\end{pmatrix}\\begin{pmatrix} 3/8 && 3/8\\end{pmatrix} = \\begin{pmatrix} (3/8)^2 && (3/8)^2 \\\\ (3/8)^2 && (3/8)^2 \\end{pmatrix}$$\n",
    "\n",
    "$$ (p_3-\\mu) = \\frac{1}{2}\\begin{pmatrix} 5 \\\\ 5\\end{pmatrix} - \\frac{1}{8}\\begin{pmatrix} 21 \\\\ 21\\end{pmatrix} = \\begin{pmatrix} -1/8 \\\\ -1/8\\end{pmatrix} $$\n",
    "\n",
    "$$ \\therefore (p_3-\\mu)(p_3-\\mu)^T = \\begin{pmatrix} -1/8 \\\\ -1/8\\end{pmatrix}\\begin{pmatrix} -1/8 && -1/8\\end{pmatrix} = \\begin{pmatrix} (-1/8)^2 && (-1/8)^2 \\\\ (-1/8)^2 && (-1/8)^2 \\end{pmatrix}$$\n",
    "\n",
    "$$ (p_4-\\mu) = \\frac{1}{2}\\begin{pmatrix} 7 \\\\ 7\\end{pmatrix} - \\frac{1}{8}\\begin{pmatrix} 21 \\\\ 21\\end{pmatrix} = \\begin{pmatrix} 7/8 \\\\ 7/8\\end{pmatrix} $$\n",
    "\n",
    "$$ \\therefore (p_4-\\mu)(p_4-\\mu)^T = \\begin{pmatrix} 7/8 \\\\ 7/8\\end{pmatrix}\\begin{pmatrix} 7/8 && 7/8\\end{pmatrix} = \\begin{pmatrix} (7/8)^2 && (7/8)^2 \\\\ (7/8)^2 && (7/8)^2 \\end{pmatrix}$$"
   ]
  },
  {
   "cell_type": "markdown",
   "metadata": {},
   "source": [
    "$$ \\mathrm{Cov}[X, X] = \\frac{1}{3}\\sum_{i=1}^{4} (p_i-\\mu)(p_i-\\mu)^T $$\n",
    "\n",
    "$$ a = \\sum_{i=1}^{4} (p_i-\\mu)(p_i-\\mu)^T = $$\n",
    "$$\\begin{pmatrix} (-9/8)^2 && (-9/8)^2 \\\\ (-9/8)^2 && (-9/8)^2 \\end{pmatrix} + \\begin{pmatrix} (3/8)^2 && (3/8)^2 \\\\ (3/8)^2 && (3/8)^2 \\end{pmatrix} + \\begin{pmatrix} (-1/8)^2 && (-1/8)^2 \\\\ (-1/8)^2 && (-1/8)^2 \\end{pmatrix} + \\begin{pmatrix} (7/8)^2 && (7/8)^2 \\\\ (7/8)^2 && (7/8)^2 \\end{pmatrix}$$\n",
    "\n",
    "$$= \\begin{pmatrix} 140/64 && 140/64 \\\\ 140/64 &&  140/64 \\end{pmatrix}$$\n",
    "\n",
    "$$ \\therefore \\mathrm{Cov}[X, X] = \\frac{1}{3}a = \\begin{pmatrix} 35/48 && 35/48 \\\\ 35/48 &&  35/48 \\end{pmatrix} = \\begin{pmatrix} 0.7291666 && 0.7291666 \\\\ 0.7291666 &&  0.7291666 \\end{pmatrix}$$\n",
    "\n",
    "\n",
    "위의 시그마 연산 후에 4 개의 sample 공분산을 계산을 하는데 3으로 하는 이유는 모수 기대값은 모르기 때문에 그것으로 계산을 한다.\n",
    "\n",
    "하지만 모수의 기대값을 알고 있다면 공분산을 구하면 아래와 같다\n",
    "\n",
    "$$ \\therefore \\mathrm{Cov}[X, X] = \\frac{1}{4}a = \\begin{pmatrix} 35/64 && 35/64 \\\\ 35/64 &&  35/64 \\end{pmatrix} = \\begin{pmatrix} 0.546875 && 0.546875 \\\\ 0.546875 &&  0.546875 \\end{pmatrix}$$\n",
    "\n",
    "\n",
    "covariance wikipedia의 [Calculating the sampel covariance](https://en.wikipedia.org/wiki/Sample_mean_and_covariance) 참조\n",
    "\n",
    "위의 공분산 행렬 값을 Numpy로 구하면 다음과 같다. "
   ]
  },
  {
   "cell_type": "code",
   "execution_count": 2,
   "metadata": {},
   "outputs": [
    {
     "name": "stdout",
     "output_type": "stream",
     "text": [
      "mean vector projected onto (1,1)^T: \n",
      "[2.625 2.625]\n",
      "transpose:\n",
      "[[1.5 3.  2.5 3.5]\n",
      " [1.5 3.  2.5 3.5]]\n",
      "covariance vector projected onto (1,1)^T: \n",
      "[[0.72916667 0.72916667]\n",
      " [0.72916667 0.72916667]]\n"
     ]
    }
   ],
   "source": [
    "import numpy as np\n",
    "\n",
    "p1 = np.array([3/2,3/2])\n",
    "p2 = np.array([3,3])\n",
    "p3 = np.array([5/2,5/2])\n",
    "p4 = np.array([7/2,7/2])\n",
    "\n",
    "mean_vector = (p1+p2+p3+p4)/4\n",
    "\n",
    "print(\"mean vector projected onto (1,1)^T: \\n{}\".format(mean_vector))\n",
    "total_vector = np.array([p1, p2, p3, p4])\n",
    "t = total_vector.T\n",
    "print(\"transpose:\\n{}\".format(total_vector.T))\n",
    "cov = np.cov(t)\n",
    "print(\"covariance vector projected onto (1,1)^T: \\n{}\".format(cov))"
   ]
  },
  {
   "cell_type": "markdown",
   "metadata": {},
   "source": [
    "reply) 위의 공분산 결과에서 확인 할수 있듯이 (x, y)의 이차원 벡터라고 할때, x=y의 선인 (1,1)^T로 투영한 벡터들은 일직선상에 존재하기 때문에 분산 값이 일정하다"
   ]
  },
  {
   "cell_type": "markdown",
   "metadata": {},
   "source": [
    "B. 해당 훈련집합의 공분산 행렬을 구하세요. "
   ]
  },
  {
   "cell_type": "markdown",
   "metadata": {},
   "source": [
    "sol> $$ \\mathrm{Cov}[X, X] = \\mathrm{E}[(x-\\mu)(x-\\mu)^T] $$"
   ]
  },
  {
   "cell_type": "markdown",
   "metadata": {},
   "source": [
    "- 훈련집합 $X = \\{ x_1, x_2, x_3, x_4 \\}$의 평균 벡터를 구하면\n",
    "\n",
    "$$ \\mu = \\frac{1}{4}({x_1} + {x_2} + {x_3} + {x_4}) $$\n",
    "\n",
    "$$ a = {x_1} + {x_2} + {x_3} + {x_4} = \\begin{pmatrix} 2 \\\\ 1\\end{pmatrix} + \\begin{pmatrix} 2 \\\\ 4\\end{pmatrix} + \\begin{pmatrix} 4 \\\\ 1\\end{pmatrix} + \\begin{pmatrix} 4 \\\\ 3\\end{pmatrix} = \\begin{pmatrix} 12 \\\\ 9\\end{pmatrix} $$\n",
    "\n",
    "$$ \\therefore \\mu = \\frac{1}{4}\\begin{pmatrix} 12 \\\\ 9\\end{pmatrix} = \\begin{pmatrix} 3 \\\\ 9/4\\end{pmatrix} $$"
   ]
  },
  {
   "cell_type": "markdown",
   "metadata": {},
   "source": [
    "- 위의 평균 벡터를 가지고 공분산 벡터를 구하려면 $$ (x-\\mu)(x-\\mu)^T$$의 계산을 아래와 같이 해야한다. \n",
    "\n",
    "$$ (x_1-\\mu) = \\begin{pmatrix} 2 \\\\ 1\\end{pmatrix} - \\begin{pmatrix} 3 \\\\ 9/4\\end{pmatrix} = \\begin{pmatrix} -1 \\\\ -5/4\\end{pmatrix} $$\n",
    "\n",
    "$$ \\therefore (x_1-\\mu)(x_1-\\mu)^T = \\begin{pmatrix} -1 \\\\ -5/4\\end{pmatrix}\\begin{pmatrix} -1 && -5/4\\end{pmatrix} = \\begin{pmatrix} 1 && 5/4 \\\\ 5/4 && (5/4)^2 \\end{pmatrix}$$\n",
    "\n",
    "$$ (x_2-\\mu) = \\begin{pmatrix} 2 \\\\ 4\\end{pmatrix} - \\begin{pmatrix} 3 \\\\ 9/4\\end{pmatrix} = \\begin{pmatrix} -1 \\\\ 7/4\\end{pmatrix} $$\n",
    "\n",
    "$$ \\therefore (x_2-\\mu)(x_2-\\mu)^T = \\begin{pmatrix} -1 \\\\ 7/4\\end{pmatrix}\\begin{pmatrix} -1 && 7/4\\end{pmatrix} = \\begin{pmatrix} 1 && -7/4 \\\\ -7/4 && (7/4)^2 \\end{pmatrix}$$\n",
    "\n",
    "$$ (x_3-\\mu) = \\begin{pmatrix} 4 \\\\ 1\\end{pmatrix} - \\begin{pmatrix} 3 \\\\ 9/4\\end{pmatrix} = \\begin{pmatrix} 1 \\\\ -5/4\\end{pmatrix} $$\n",
    "\n",
    "$$ \\therefore (x_3-\\vec{\\mu})(x_3-\\mu)^T = \\begin{pmatrix} 1 \\\\ -5/4\\end{pmatrix}\\begin{pmatrix} 1 && -5/4\\end{pmatrix} = \\begin{pmatrix} 1 && -5/4 \\\\ -5/4 && (-5/4)^2 \\end{pmatrix}$$\n",
    "\n",
    "$$ (x_4-\\mu) = \\begin{pmatrix} 4 \\\\ 3\\end{pmatrix} - \\begin{pmatrix} 3 \\\\ 9/4\\end{pmatrix} = \\begin{pmatrix} 1 \\\\ 3/4\\end{pmatrix} $$\n",
    "\n",
    "$$ \\therefore (x_4-\\mu)(x_4-\\mu)^T = \\begin{pmatrix} 1 \\\\ 3/4\\end{pmatrix}\\begin{pmatrix} 1 && 3/4\\end{pmatrix} = \\begin{pmatrix} 1 && 3/4 \\\\ 3/4 && (3/4)^2 \\end{pmatrix}$$"
   ]
  },
  {
   "cell_type": "markdown",
   "metadata": {},
   "source": [
    "$$ \\mathrm{Cov}[X, X] = \\frac{1}{3}\\sum_{i=1}^{4} (x_i-\\mu)(x_i-\\mu)^T $$\n",
    "\n",
    "$$ a = \\sum_{i=1}^{4} (x_i-\\mu)(x_i-\\mu)^T = \\begin{pmatrix} 1 && 5/4 \\\\ 5/4 && (5/4)^2 \\end{pmatrix} + \\begin{pmatrix} 1 && -7/4 \\\\ -7/4 && (7/4)^2 \\end{pmatrix} + \\begin{pmatrix} 1 && -5/4 \\\\ -5/4 && (-5/4)^2 \\end{pmatrix} + \\begin{pmatrix} 1 && 3/4 \\\\ 3/4 && (3/4)^2 \\end{pmatrix}$$\n",
    "$$= \\begin{pmatrix} 4 && -1 \\\\ -1 &&  108/16 \\end{pmatrix}$$\n",
    "\n",
    "$$ \\therefore \\mathrm{Cov}[X, X] = \\frac{1}{3}a = \\begin{pmatrix} 4/3 && -1/3 \\\\ -1/3 &&  9/4 \\end{pmatrix} = \\begin{pmatrix} 1.3333333 && -0.33333 \\\\ -0.333333 &&  2.25 \\end{pmatrix}$$\n",
    "\n",
    "위의 시그마 연산 후에 4 개의 sample 공분산을 계산을 하는데 3으로 하는 이유는 모수 기대값은 모르기 때문에 그것으로 계산을 한다.\n",
    "\n",
    "하지만 모수의 기대값을 알고 있다면 공분산을 구하면 아래와 같다\n",
    "\n",
    "$$ \\therefore \\mathrm{Cov}[X, X] = \\frac{1}{4}a = \\begin{pmatrix} 1 && -1/4 \\\\ -1/4 &&  27/16 \\end{pmatrix} = \\begin{pmatrix} 1 && -0.25 \\\\ -0.25 &&  1.6875 \\end{pmatrix}$$\n",
    "\n",
    "\n",
    "covariance wikipedia의 [Calculating the sampel covariance](https://en.wikipedia.org/wiki/Sample_mean_and_covariance) 참조\n",
    "\n",
    "위의 공분산 행렬 값을 Numpy로 구하면 다음과 같다. "
   ]
  },
  {
   "cell_type": "code",
   "execution_count": 3,
   "metadata": {},
   "outputs": [
    {
     "name": "stdout",
     "output_type": "stream",
     "text": [
      "mean vector: \n",
      "[3.   2.25]\n",
      "transpose:\n",
      "[[2 2 4 4]\n",
      " [1 4 1 3]]\n",
      "covariance vector:\n",
      "[[ 1.33333333 -0.33333333]\n",
      " [-0.33333333  2.25      ]]\n"
     ]
    }
   ],
   "source": [
    "import numpy as np\n",
    "\n",
    "p1 = np.array([2,1])\n",
    "p2 = np.array([2,4])\n",
    "p3 = np.array([4,1])\n",
    "p4 = np.array([4,3])\n",
    "\n",
    "mean_vector = (p1+p2+p3+p4)/4\n",
    "\n",
    "print(\"mean vector: \\n{}\".format(mean_vector))\n",
    "total_vector = np.array([p1, p2, p3, p4])\n",
    "t = total_vector.T\n",
    "print(\"transpose:\\n{}\".format(total_vector.T))\n",
    "cov = np.cov(t)\n",
    "print(\"covariance vector:\\n{}\".format(cov))"
   ]
  },
  {
   "cell_type": "markdown",
   "metadata": {},
   "source": [
    "reply) 훈련집합이 $$ x_1=(2,1)^T, x_2=(2,4)^T, x_3=(4,1)^T, x_4=(4,3)^T $$의 공분산 행렬로부터 분포는 x축으로 분포보다 y축으로 넓게 분포하고 x=y 의 선상에서 적게 분포되어 있다."
   ]
  },
  {
   "cell_type": "markdown",
   "metadata": {},
   "source": [
    "C. 구한 공분산 행렬을 고유분해를 구하세요. "
   ]
  },
  {
   "cell_type": "markdown",
   "metadata": {},
   "source": [
    "sol> $$ Ax-\\lambda x = (A-\\lambda I)x = 0 $$"
   ]
  },
  {
   "cell_type": "markdown",
   "metadata": {},
   "source": [
    "- 위에서 구한 모수의 기대값을 알고 있는 공분산 행렬를 이용하여 고유벡터(eigenvector)와 고유값(eigenvalue)를 계산해보자.(we don't know the population but we only know Sample mean and covariance - [wikipedia](https://en.wikipedia.org/wiki/Sample_mean_and_covariance)) "
   ]
  },
  {
   "cell_type": "markdown",
   "metadata": {},
   "source": [
    "$$\\begin{pmatrix} 1 && -1/4 \\\\ -1/4 &&  27/16 \\end{pmatrix}\\begin{pmatrix} x_1 \\\\ x_2 \\end{pmatrix} = \\lambda\\begin{pmatrix} x_1 \\\\ x_2 \\end{pmatrix}$$\n",
    "\n",
    "$$\\begin{pmatrix} 1 && -1/4 \\\\ -1/4 &&  27/16 \\end{pmatrix}\\begin{pmatrix} x_1 \\\\ x_2 \\end{pmatrix} - \\lambda\\begin{pmatrix} x_1 \\\\ x_2 \\end{pmatrix} = 0$$\n",
    "\n",
    "$$\\begin{pmatrix}\\begin{pmatrix} 1 && -1/4 \\\\ -1/4 &&  27/16 \\end{pmatrix} - \\lambda\\begin{pmatrix} 1 && 0 \\\\ 0 &&  1\\end{pmatrix}\\end{pmatrix} \\begin{pmatrix} x_1 \\\\ x_2 \\end{pmatrix} = 0$$\n",
    "\n",
    "$$\\begin{pmatrix} 1-\\lambda && -1/4\\\\ -1/4 &&  27/16-\\lambda \\end{pmatrix}\\begin{pmatrix} x_1 \\\\ x_2 \\end{pmatrix} = 0$$\n",
    "\n",
    "위의 $$A-\\lambda I$$인 "
   ]
  },
  {
   "cell_type": "markdown",
   "metadata": {},
   "source": [
    "2차 행렬의 determinant식을 세우면 아래와 같다.\n",
    "\n",
    "$$ \\begin{vmatrix} 1-\\lambda && -1/4\\\\ -1/4 && 27/16-\\lambda \\end{vmatrix}  = 0$$\n",
    "\n",
    "$$(1-\\lambda)(27/16-\\lambda)-(-1/4)(-1/4) = 0 $$\n",
    "\n",
    "위의 식을 전개하면 \n",
    "\n",
    "$$ \\lambda^2 - 43/16\\lambda + 26/16 = 0$$\n",
    "\n",
    "위의 식 양변에 16을 곱하면 \n",
    "\n",
    "$$ 16\\lambda^2 - 43\\lambda + 26 = 0$$\n",
    "\n",
    "위의 식에서 람다를 위해 아래의 근의 공식(quadratic formula)으로 구하면 \n",
    "\n",
    "$$ quadratic = \\frac{-b\\pm \\sqrt{b^2-4ac}}{2a} $$\n",
    "\n",
    "$$ \\lambda = \\frac{43\\pm\\sqrt{43^2-4*16*26}}{2*16} = \\frac{43\\pm\\sqrt{1849-1664}}{2*16} = \\frac{43\\pm\\sqrt{185}}{32} \n",
    "$$\n",
    "\n",
    "$$ \\therefore \\lambda_1 = \\frac{43+\\sqrt{185}}{32}, \\lambda_2 = \\frac{43-\\sqrt{185}}{32}$$\n",
    "\n",
    "이 고유값으로 다시 \n",
    "\n",
    "$$A-\\lambda I$$\n",
    "\n",
    "에 대하여 "
   ]
  },
  {
   "cell_type": "markdown",
   "metadata": {},
   "source": [
    "$$\\lambda_1$$을 대입한다. \n",
    "\n",
    "$$\\lambda_1$$의 경우에는 아래와 같다 \n",
    "\n",
    "$$\\begin{pmatrix} 1-\\lambda_1 && -1/4\\\\ -1/4 &&  27/16-\\lambda_1 \\end{pmatrix}\\begin{pmatrix} x_1 \\\\ x_2 \\end{pmatrix} = \\begin{pmatrix} 1-\\frac{43+\\sqrt{185}}{32} && -1/4\\\\ -1/4 &&  27/16-\\frac{43+\\sqrt{185}}{32} \\end{pmatrix}\\begin{pmatrix} x_1 \\\\ x_2 \\end{pmatrix}$$\n",
    "$$=\\begin{pmatrix} -\\frac{11+\\sqrt{185}}{32} && -1/4\\\\ -1/4 &&  \\frac{11+\\sqrt{185}}{32} \\end{pmatrix}\\begin{pmatrix} x_1 \\\\ x_2 \\end{pmatrix}=0$$\n",
    "\n",
    "$$\\lambda_2$$의 경우에는 아래와 같다 \n",
    "\n",
    "$$\\begin{pmatrix} 1-\\lambda_2 && -1/4\\\\ -1/4 &&  27/16-\\lambda_2 \\end{pmatrix}\\begin{pmatrix} x_1 \\\\ x_2 \\end{pmatrix} = \\begin{pmatrix} 1-\\frac{43-\\sqrt{185}}{32} && -1/4\\\\ -1/4 &&  27/16-\\frac{43-\\sqrt{185}}{32} \\end{pmatrix}\\begin{pmatrix} x_1 \\\\ x_2 \\end{pmatrix}$$\n",
    "$$=\\begin{pmatrix} -\\frac{11-\\sqrt{185}}{32} && -1/4\\\\ -1/4 &&  \\frac{11-\\sqrt{185}}{32} \\end{pmatrix}\\begin{pmatrix} x_1 \\\\ x_2 \\end{pmatrix}=0$$"
   ]
  },
  {
   "cell_type": "markdown",
   "metadata": {},
   "source": [
    "- $$\\lambda_1$$\n",
    "\n",
    "인 경우로 계산을 해보면\n",
    "\n",
    "$$\\begin{pmatrix} 1-\\lambda_1 && -1/4\\\\ -1/4 &&  27/16-\\lambda_1 \\end{pmatrix}\\begin{pmatrix} x_1 \\\\ x_2 \\end{pmatrix} = \\begin{pmatrix} 1-\\frac{43+\\sqrt{185}}{32} && -1/4\\\\ -1/4 &&  27/16-\\frac{43+\\sqrt{185}}{32} \\end{pmatrix}\\begin{pmatrix} x_1 \\\\ x_2 \\end{pmatrix}$$\n",
    "$$=\\begin{pmatrix} -\\frac{11+\\sqrt{185}}{32} && -1/4\\\\ -1/4 &&  \\frac{11+\\sqrt{185}}{32} \\end{pmatrix}\\begin{pmatrix} x_1 \\\\ x_2 \\end{pmatrix}=0$$\n",
    "\n",
    "양면에 먼저 -4를 곱한다. \n",
    "\n",
    "$$\n",
    "\\begin{pmatrix} \\frac{11+\\sqrt{185}}{8} && 1\\\\ 1 &&  -\\frac{11+\\sqrt{185}}{8} \\end{pmatrix}\\begin{pmatrix} x_1 \\\\ x_2 \\end{pmatrix}=0\n",
    "$$\n",
    "\n",
    "위의 행렬의 Null space를 구하기 위해 가우스 소거(Gauss Elimination)을 하면 \n",
    "\n",
    "$$ row2 = row2 - \\frac{8}{11+\\sqrt{185}}row1$$를 적용하면 \n",
    "\n",
    "$$\n",
    "\\begin{pmatrix} 1 && \\frac{8}{11+\\sqrt{185}}\\\\ 0 && \\frac{185+11\\sqrt{185}}{44+4\\sqrt{185}} \\end{pmatrix}\\begin{pmatrix} x_1 \\\\ x_2 \\end{pmatrix}=0\n",
    "$$\n",
    "\n",
    "$$ x_1 + \\frac{8}{11+\\sqrt{185}}x_2 = 0$$\n",
    "\n",
    "역시 $$x_2$$는 free variable이므로 임의값 1을 넣으면 \n",
    "\n",
    "$$\\lambda_1$$에 대한 고유(eigenvevtor)는 아래와 같다. \n",
    "\n",
    "$$ X_{\\lambda_1} = \\begin{pmatrix} -\\frac{8}{11+\\sqrt{185}} \\\\ 1 \\end{pmatrix}\n",
    "$$"
   ]
  },
  {
   "cell_type": "markdown",
   "metadata": {},
   "source": [
    "- $$\\lambda_2$$인 경우에도 동일한 계산 과정이 나온다. \n",
    "\n",
    "\n",
    "\n",
    "$$\\begin{pmatrix} 1-\\lambda_2 && -1/4\\\\ -1/4 &&  27/16-\\lambda_2 \\end{pmatrix}\\begin{pmatrix} x_1 \\\\ x_2 \\end{pmatrix} = \\begin{pmatrix} 1-\\frac{43-\\sqrt{185}}{32} && -1/4\\\\ -1/4 &&  27/16-\\frac{43-\\sqrt{185}}{32} \\end{pmatrix}\\begin{pmatrix} x_1 \\\\ x_2 \\end{pmatrix}$$\n",
    "$$=\\begin{pmatrix} -\\frac{11-\\sqrt{185}}{32} && -1/4\\\\ -1/4 &&  \\frac{11-\\sqrt{185}}{32} \\end{pmatrix}\\begin{pmatrix} x_1 \\\\ x_2 \\end{pmatrix}=0$$\n",
    "\n",
    "양면에 먼저 -4를 곱한다. \n",
    "\n",
    "$$\n",
    "\\begin{pmatrix} \\frac{11-\\sqrt{185}}{8} && \\frac{8}{11-\\sqrt{185}} \\\\ 1 &&  -\\frac{11-\\sqrt{185}}{8} \\end{pmatrix}\\begin{pmatrix} x_1 \\\\ x_2 \\end{pmatrix}=0\n",
    "$$\n",
    "\n",
    "위의 행렬의 Null space를 구하기 위해 가우스 소거(Gauss Elimination)을 하면 \n",
    "\n",
    "$$ row2 = row2 - \\frac{8}{11-\\sqrt{185}}row1$$를 적용하면 \n",
    "\n",
    "$$\n",
    "\\begin{pmatrix} 1 && 1\\\\ 0 && \\frac{185-11\\sqrt{185}}{44-4\\sqrt{185}} \\end{pmatrix}\\begin{pmatrix} x_1 \\\\ x_2 \\end{pmatrix}=0\n",
    "$$\n",
    "\n",
    "$$x_1 + \\frac{8}{11-\\sqrt{185}}x_2 = 0$$\n",
    "\n",
    "역시 $$X_2$$는 free variable이므로 임의값 1을 넣으면 \n",
    "\n",
    "$$\\lambda_1$$에 대한 고유(eigenvevtor)는 아래와 같다. \n",
    "\n",
    "$$ X_{\\lambda_2} = \\begin{pmatrix} -\\frac{8}{11-\\sqrt{185}} \\\\ 1 \\end{pmatrix}$$"
   ]
  },
  {
   "cell_type": "markdown",
   "metadata": {},
   "source": [
    "$$ \\therefore \\mathrm{Cov}[X,X] $$의 고유분해를 하면 \n",
    "\n",
    "\n",
    "$$ \\mathrm{Cov}[X,X] = \\begin{pmatrix}X_{\\lambda_1}, X_{\\lambda_2}\\end{pmatrix}\\begin{pmatrix} \\frac{11+\\sqrt{185}}{8} && 0 \\\\ 0 &&  \\frac{11-\\sqrt{185}}{8} \\end{pmatrix}\\begin{pmatrix}X_{\\lambda_1}, X_{\\lambda_2}\\end{pmatrix}^T$$\n",
    "\n",
    "\n",
    "$$ \\mathrm{Cov}[X,X] = \\begin{pmatrix}-\\frac{8}{11+\\sqrt{185}} &&-\\frac{8}{11-\\sqrt{185}} \\\\ 1 && 1 \\end{pmatrix}\\begin{pmatrix} \\frac{11+\\sqrt{185}}{8} && 0 \\\\ 0 &&  \\frac{11-\\sqrt{185}}{8} \\end{pmatrix}\\begin{pmatrix}-\\frac{8}{11+\\sqrt{185}} && 1 \\\\ -\\frac{8}{11-\\sqrt{185}}&& 1 \\end{pmatrix}$$\n",
    "$$= \\begin{pmatrix} -1 && -1 \\\\ \\frac{11+\\sqrt{185}}{8} &&  \\frac{11-\\sqrt{185}}{8} \\end{pmatrix}\\begin{pmatrix}-\\frac{8}{11+\\sqrt{185}} && 1 \\\\ -\\frac{8}{11-\\sqrt{185}}&& 1 \\end{pmatrix} = \\begin{pmatrix}-11/4 && -2 \\\\ -2 && 11/4 \\end{pmatrix}\n",
    "$$"
   ]
  },
  {
   "cell_type": "markdown",
   "metadata": {},
   "source": [
    "- 위의 과정 처럼 고유분해를 하게 되면 복잡하여 지금부터는 python의 Numpy를 이용한다. "
   ]
  },
  {
   "cell_type": "code",
   "execution_count": 4,
   "metadata": {},
   "outputs": [
    {
     "name": "stdout",
     "output_type": "stream",
     "text": [
      "Cov(X,X): \n",
      "[[ 1.     -0.25  ]\n",
      " [-0.25    1.6875]]\n",
      "After decomposition into eigenvalue and eigenvector\n",
      "eigenvalue_1 : 0.9187040466020173, eigenvalue_2: 1.7687959533979827\n",
      "eigenvector_1: \n",
      "[-0.95098267  0.30924417]\n",
      "eigenvector_2: \n",
      "[-0.30924417 -0.95098267]\n"
     ]
    }
   ],
   "source": [
    "import numpy as np\n",
    "\n",
    "cov = np.array([[1, -1/4],[-1/4, 27/16]])\n",
    "print(\"Cov(X,X): \\n{}\".format(cov))\n",
    "\n",
    "w, v  = np.linalg.eig(cov)\n",
    "print(\"After decomposition into eigenvalue and eigenvector\")\n",
    "print(\"eigenvalue_1 : {}, eigenvalue_2: {}\".format(w[0], w[1]))\n",
    "print(\"eigenvector_1: \\n{}\\neigenvector_2: \\n{}\".format(v[0], v[1]))"
   ]
  },
  {
   "cell_type": "markdown",
   "metadata": {},
   "source": [
    "D. 고유분해의 가장 큰 고유값을 가지는 고유벡터를 축으로 훈련집합을 투영한 결과를 그리고, 투영된 훈련 집합의 분산을 구하세요."
   ]
  },
  {
   "cell_type": "code",
   "execution_count": 5,
   "metadata": {},
   "outputs": [
    {
     "name": "stdout",
     "output_type": "stream",
     "text": [
      "mean vector: \n",
      "[3.   2.25]\n",
      "transpose:\n",
      "[[2 2 4 4]\n",
      " [1 4 1 3]]\n",
      "covariance vector:\n",
      "[[ 1.33333333 -0.33333333]\n",
      " [-0.33333333  2.25      ]]\n",
      "the eigenvector which has the bigest eigenvalue: 1\n",
      "[-0.30924417 -0.95098267]\n"
     ]
    }
   ],
   "source": [
    "x1 = np.array([2,1])\n",
    "x2 = np.array([2,4])\n",
    "x3 = np.array([4,1])\n",
    "x4 = np.array([4,3])\n",
    "\n",
    "mean_vector = (x1+x2+x3+x4)/4\n",
    "\n",
    "print(\"mean vector: \\n{}\".format(mean_vector))\n",
    "total_vector = np.array([p1, p2, p3, p4])\n",
    "t = total_vector.T\n",
    "print(\"transpose:\\n{}\".format(total_vector.T))\n",
    "cov = np.cov(t)\n",
    "print(\"covariance vector:\\n{}\".format(cov))\n",
    "\n",
    "bigone = None\n",
    "\n",
    "if w[0] > w[1]:\n",
    "    bigone = 0\n",
    "else:\n",
    "    bigone = 1\n",
    "\n",
    "print(\"the eigenvector which has the bigest eigenvalue: {}\".format(bigone))\n",
    "print(v[bigone])"
   ]
  },
  {
   "cell_type": "markdown",
   "metadata": {},
   "source": [
    "a,p는 colum vector \n",
    "\n",
    "$$ {p} = \\frac{a{a}^T}{{a}^T{a}}{{b}} $$"
   ]
  },
  {
   "cell_type": "markdown",
   "metadata": {},
   "source": [
    "위의 식을 계산하기 위한 projection matrix $$\\frac{{a}{a}^T}{{a}^T{a}}$$을 구하면 아래와 같다. "
   ]
  },
  {
   "cell_type": "code",
   "execution_count": 6,
   "metadata": {},
   "outputs": [
    {
     "name": "stdout",
     "output_type": "stream",
     "text": [
      "outer:\n",
      "[[0.09563196 0.29408585]\n",
      " [0.29408585 0.90436804]]\n",
      "inner:\n",
      "1.0000000000000002\n",
      "Projection matrix:\n",
      "[[0.09563196 0.29408585]\n",
      " [0.29408585 0.90436804]]\n"
     ]
    }
   ],
   "source": [
    "outer = np.outer(v[bigone],v[bigone])\n",
    "inner = np.dot(v[bigone],v[bigone])\n",
    "\n",
    "print(\"outer:\\n{}\".format(outer))\n",
    "print(\"inner:\\n{}\".format(inner))\n",
    "\n",
    "fraction = outer/inner\n",
    "print(\"Projection matrix:\\n{}\".format(fraction))"
   ]
  },
  {
   "cell_type": "markdown",
   "metadata": {},
   "source": [
    "- 훈련집합 $X = \\{ x_1, x_2, x_3, x_4 \\}$를 축 eigenvalue가 가장 큰 eigenvector로 투영한 훈련집합은 $P = \\{ p_1, p_2, p_3, p_4 \\}$이라 위의 식으로 계산하면 다음과 같다."
   ]
  },
  {
   "cell_type": "code",
   "execution_count": 7,
   "metadata": {},
   "outputs": [
    {
     "name": "stdout",
     "output_type": "stream",
     "text": [
      "p1:\n",
      "[0.48534976 1.49253974]\n",
      "p2:\n",
      "[1.36760731 4.20564387]\n",
      "p3:\n",
      "[0.67661368 2.08071144]\n",
      "p4:\n",
      "[1.26478538 3.88944752]\n"
     ]
    }
   ],
   "source": [
    "p1 = np.dot(fraction, x1)\n",
    "p2 = np.dot(fraction, x2)\n",
    "p3 = np.dot(fraction, x3)\n",
    "p4 = np.dot(fraction, x4)\n",
    "\n",
    "print(\"p1:\\n{}\".format(p1))\n",
    "print(\"p2:\\n{}\".format(p2))\n",
    "print(\"p3:\\n{}\".format(p3))\n",
    "print(\"p4:\\n{}\".format(p4))"
   ]
  },
  {
   "cell_type": "code",
   "execution_count": 8,
   "metadata": {},
   "outputs": [
    {
     "name": "stdout",
     "output_type": "stream",
     "text": [
      "mean vector: \n",
      "[0.94858903 2.91708564]\n",
      "transpose:\n",
      "[[0.48534976 1.36760731 0.67661368 1.26478538]\n",
      " [1.49253974 4.20564387 2.08071144 3.88944752]]\n",
      "covariance vector: \n",
      "[[0.18803922 0.57825516]\n",
      " [0.57825516 1.77824092]]\n"
     ]
    }
   ],
   "source": [
    "## 위의 투영된 공분산의 벡터를 구하면 \n",
    "mean_vector = (p1+p2+p3+p4)/4\n",
    "\n",
    "print(\"mean vector: \\n{}\".format(mean_vector))\n",
    "total_vector = np.array([p1, p2, p3, p4])\n",
    "t = total_vector.T\n",
    "print(\"transpose:\\n{}\".format(total_vector.T))\n",
    "cov = np.cov(t)\n",
    "print(\"covariance vector: \\n{}\".format(cov))"
   ]
  },
  {
   "cell_type": "markdown",
   "metadata": {},
   "source": [
    "E. 위의 A번과 D번에서 구한 분산을 비교하세요 "
   ]
  },
  {
   "cell_type": "markdown",
   "metadata": {},
   "source": [
    "reply) **A**번의 $(0,1)^T$로 투영한 훈련집합 분산(numpy cov)은 $$\\begin{pmatrix} 0 && 0 \\\\ 0 &&  2.25 \\end{pmatrix}$$ 와 $(1,1)^T$로 투영한 훈련집합 분산(numpy cov)은 $$ \\begin{pmatrix} 0.7291666 && 0.7291666 \\\\ 0.7291666 &&  0.7291666 \\end{pmatrix}$$ 이고 **D**에서 구한 분산(numpy cov) $$ \\begin{pmatrix} 0.18803922 && 0.57825516 \\\\ 0.57825516 &&  1.77824092 \\end{pmatrix}$$이다. **D**에서 구한 공분산 행렬은 전체적으로 분산이 크게 유지하지만 **A**에서 구한 분산은 한쪽으로 치우치거나 분산이 비슷하게 분포하는 경향이 있어 데이터의 분포를 설명하기에는 **D**보다 낮다."
   ]
  },
  {
   "cell_type": "markdown",
   "metadata": {},
   "source": [
    "2. \\[probability; 10p\\] 직원이 A 제조사로 부터 1000개의 직접회로 (IC)를, B제조사로부터 2000개의 IC를, C제조사로부터 3000개의 IC를 구매했다. IC의 불량 검사 결과, A사로부터 구매한 불량 확률은 0.05, B사로부터 구매한 IC의 불량 확률은  0.10, C사로부터 구매한 IC의 불량 확률은 0.01이었다."
   ]
  },
  {
   "cell_type": "markdown",
   "metadata": {},
   "source": [
    "A. 만약 3개의 제조사로부터 구매한 IC가 섞여 있는 경우, 임의로 선택한 IC가 불량일 확률은 얼마인가?\n",
    "\n",
    "sol> A 제조사 1000개중 불량은 50개, B 제조사 2000개중 불량품 200개, C 제조사 3000개중 불량품은 300\n",
    "\n",
    "총 불량품은 550개이고 전체 구매한 IC는 6000개이므로 \n",
    "\n",
    " P(IC가 불량)= 550/6000 = 0.0916666"
   ]
  },
  {
   "cell_type": "markdown",
   "metadata": {},
   "source": [
    "B. 임의로 선택한 IC가 불량인 경우, 그것이 제조사 A로부터 만들어질 확률은 얼마인가>\n",
    "\n",
    "sol> P(A|불량) = P(A$\\cap$불량)/P(불량)= (P(불량|A)$\\times$p(A))/P(불량) 이므로\n",
    "\n",
    "$0.05 \\times \\frac{1}{6} \\times \\frac{1}{0.09166} =$ 0.0909"
   ]
  },
  {
   "cell_type": "markdown",
   "metadata": {},
   "source": [
    "3.  \\[probability; 10p\\] K 대학은 대학원생보다 2배의 학부생이 재학중이다. 대학원생의 25%가 기숙사에 살고 있고, 학부생의 10%가 기숙사에 살고 있다. "
   ]
  },
  {
   "cell_type": "markdown",
   "metadata": {},
   "source": [
    "A. 한 학생을 임의로 선정한 경우,그 학생이 기숙사에 살고 있는 학부생일 확률은 얼마인가?\n",
    "\n",
    "대학원생의 수를 **a**라고 하면, 학부생의 수는 **2a**이다. \n",
    "\n",
    "대학원생이면서 기숙사생활을 하는 대학원생 수는**0.25a**이고 \n",
    "\n",
    "학부생이면서 기숙사생활을 하는 학부생는**0.2a**이라고 하면\n",
    "\n",
    "\n",
    "P(기숙사에 살고 있는 학부생일 확률) = 0.2a/3a = 1/15 = 0.0666"
   ]
  },
  {
   "cell_type": "markdown",
   "metadata": {},
   "source": [
    "B. 기숙사에 살고 있는 한 학생을 임의로 선정한 경우, 그 학생이 대학원생일 확률은 얼마인가?\n",
    "\n",
    "P(기숙사 살고 있는 대학원 기숙사생) = 0.25a/0.45a = 5/9 = 0.55"
   ]
  },
  {
   "cell_type": "markdown",
   "metadata": {},
   "source": [
    "4. \\[numerical computation; 10p\\] 다음의 선형 최소 제곱 함수 f(x)= $\\frac{1}{2}||Ax-b||_2^2$의 최소값을 Newton method를 이용하여 구하여라."
   ]
  },
  {
   "cell_type": "markdown",
   "metadata": {},
   "source": [
    "일반적으로 극점에 최소값을 가지므로 아래의 Newton method를 이용하여 구하면 \n",
    "\n",
    "\n",
    "$$ x_{n+1} =  x_{n} + \\frac{f(x_{n})}{f^\\prime (x_{n})} $$ \n",
    "\n",
    "\n",
    "$$ f^\\prime(x) = (Ax-b)A $$ \n",
    "$$ f^{\\prime\\prime}(x) = AA $$ \n",
    "\n",
    "$$ X_{t+1} = X_{t} - \\frac{f\\prime(x_{t})}{f^{\\prime\\prime}(x_{t})} $$\n",
    "\n",
    "$$ X_{t+1} = X_{t} - \\frac{Ax_{t}-b}{A}$$\n",
    "\n",
    "위의 연산 결과에서\n",
    "\n",
    "$X_{t} = 0$ 일때,   $X_{t+1}= \\frac{b}{A}$\n",
    "\n",
    "$X_{t} = 1$ 일때,   $X_{t+1}= 1 - \\frac{(A-b)}{A} =\\frac{b}{A}$\n",
    "\n",
    "$\\therefore X = \\frac{b}{A}$가 **최소점**이므로 이를 통해 최소값을 구하면 \n",
    "\n",
    "$f(\\frac{b}{A})= \\frac{1}{2}||A\\frac{b}{A}-b||_2^2 = 0$ 이므로 **최소값은 0** 이다.\n"
   ]
  },
  {
   "cell_type": "markdown",
   "metadata": {},
   "source": [
    "5. \\[numerical computation; 10p\\] 함수 $$f(x,y) =  x^2 - 4x +y^2 +2y$$의 다음을 구하세요."
   ]
  },
  {
   "cell_type": "markdown",
   "metadata": {},
   "source": [
    "A. 함수의 최소점과 최솟값을 분석적으로 구하세요."
   ]
  },
  {
   "cell_type": "markdown",
   "metadata": {},
   "source": [
    "최소점과 최소값은 극점인 미분이해서 $f^\\prime(x,y)$ = 0 인 곳에서 나타나므로 \n",
    "\n",
    "f(x,y)에대하여 각각 $\\partial x$과 $\\partial y$로 미분을 하여 0인 값을 구하면 아래와 같다. \n",
    "\n",
    "$$\\frac{\\partial f(x,y)}{\\partial x} = 2x-4 = 0, \\therefore x = 2$$\n",
    "\n",
    "$$\\frac{\\partial f(x,y)}{\\partial y} = 2y+2 = 0, \\therefore y = -1$$ 이므로,\n",
    "\n",
    "최소점을 나타내는 좌표는 $(2, -1)$ 이고, 최소값은 $f(2,-1) = 4-8+1-2 = -5$"
   ]
  },
  {
   "cell_type": "markdown",
   "metadata": {},
   "source": [
    "B. 이동 비율이 0.1인 경사 하강법을 통해 초기점 (x,y) = $(5,5)^T$에서 이동 할 때 얻어지는 점들을 구하세요.(최소 3개 이상의 경로점)\n",
    "\n",
    "$$\\frac{\\partial f(x,y)}{\\partial x} = 2x-4 = 0$$\n",
    "\n",
    "$$\\frac{\\partial f(x,y)}{\\partial y} = 2y+2 = 0$$ 이므로,"
   ]
  },
  {
   "cell_type": "markdown",
   "metadata": {},
   "source": [
    "$$ W_0 = (5,5)^T $$에서 \n",
    "\n",
    "$$ W_{a+1} = W_a -0.1*(2x-4, 2y+2)$$ 이므로\n",
    "\n",
    "$$ W_{1} = (5,5)^T -0.1*(6, 12)^T = (4.4, 3.8)$$\n",
    "\n",
    "$$ W_{2} = (4.4, 3.8) -0.1*(4.8, 9.6) = (3.92, 2.84)$$\n",
    "\n",
    "$$ W_{3} = (3.92, 2.84) -0.1*(3.84,7.68) = (3.536, 2.072)$$\n"
   ]
  },
  {
   "cell_type": "markdown",
   "metadata": {},
   "source": [
    "C. 구한 경로점들이 분석적으로 구한 최소값으로 이동하는지 확인하세요. \n",
    "\n",
    "이동을 추가적으로 더 구하면\n",
    "\n",
    "$$ W_{4} = (3.536, 2.072) -0.1*(3.072, 6.144) = (3.2288, 1.4576)$$\n",
    "\n",
    "$$ W_{5} = (3.2288, 1.4576) -0.1*(2.4576,4.9152) = (2.98304,0.96608)$$\n",
    "\n",
    "위의 보는 거와 같이 점차 x값은 5에서 2으로 y 값은 5에서 0로 떨어지면서 확인한 결과 점차 최소값으로 다가가고 있다.   "
   ]
  },
  {
   "cell_type": "markdown",
   "metadata": {},
   "source": [
    "D. 함수를 등고선 형태로 그리고, 함수의 미분 경사도 그리세요."
   ]
  },
  {
   "cell_type": "code",
   "execution_count": 9,
   "metadata": {},
   "outputs": [
    {
     "name": "stderr",
     "output_type": "stream",
     "text": [
      "/home/hyunyoung2/.local/lib/python3.5/site-packages/numpy/ma/core.py:6442: MaskedArrayFutureWarning: In the future the default for ma.maximum.reduce will be axis=0, not the current None, to match np.maximum.reduce. Explicitly pass 0 or None to silence this warning.\n",
      "  return self.reduce(a)\n",
      "/home/hyunyoung2/.local/lib/python3.5/site-packages/numpy/ma/core.py:6442: MaskedArrayFutureWarning: In the future the default for ma.minimum.reduce will be axis=0, not the current None, to match np.minimum.reduce. Explicitly pass 0 or None to silence this warning.\n",
      "  return self.reduce(a)\n"
     ]
    },
    {
     "data": {
      "image/png": "[encoded data removed]",
      "text/plain": [
       "<matplotlib.figure.Figure at 0x7faccb0d76d8>"
      ]
     },
     "metadata": {},
     "output_type": "display_data"
    },
    {
     "data": {
      "text/plain": [
       "<matplotlib.colorbar.Colorbar at 0x7facc425c2e8>"
      ]
     },
     "execution_count": 9,
     "metadata": {},
     "output_type": "execute_result"
    },
    {
     "data": {
      "image/png": "[encoded data removed]",
      "text/plain": [
       "<matplotlib.figure.Figure at 0x7facc5b9b860>"
      ]
     },
     "metadata": {},
     "output_type": "display_data"
    }
   ],
   "source": [
    "%matplotlib inline\n",
    "import numpy as np\n",
    "import matplotlib.pyplot as plt\n",
    "from matplotlib import cm\n",
    "from mpl_toolkits.mplot3d import Axes3D\n",
    "\n",
    "def f(x, y):\n",
    "    return x**2 - 4*x +y**2 +2*y\n",
    "def f_prime(x, y):\n",
    "    return 2*x-4+2*y+2\n",
    "    \n",
    "x = np.linspace(-5, 5, 50)\n",
    "y = np.linspace(-5, 5, 50)\n",
    "X, Y = np.meshgrid(x,y)\n",
    "\n",
    "z = f(X, Y)\n",
    "z_prime = f_prime(X,Y)\n",
    "\n",
    "\n",
    "fig = plt.figure()\n",
    "ax = fig.gca(projection=\"3d\")\n",
    "surf = ax.plot_surface(X, Y, z,\n",
    "                        rstride = 4,\n",
    "                        cstride = 4,\n",
    "                        cmap = cm.cool, \n",
    "                        linewidth = 1, \n",
    "                        antialiased =True)\n",
    "\n",
    "surf = ax.plot_surface(X, Y, z_prime,\n",
    "                        rstride = 4,\n",
    "                        cstride = 4,\n",
    "                        cmap = cm.hot, \n",
    "                        linewidth = 1, \n",
    "                        antialiased =True)\n",
    "\n",
    "ax.set_xlabel(\"X label\")\n",
    "ax.set_ylabel(\"Y label\")\n",
    "ax.set_zlabel(\"Z label\")\n",
    "fig.colorbar(surf, shrink=0.5, aspect=10)\n",
    "cset = ax.contour(X,Y,z,100, cmap=cm.magma, LineWidth=2)\n",
    "ax.clabel(cset, fontsize=10, inline=10)\n",
    "plt.show()\n",
    "\n",
    "cp = plt.contourf(X, Y, z, levels = np.linspace(z.reshape(-1,1).min(), z.reshape(-1,1).max(), 50))\n",
    "plt.colorbar(cp)"
   ]
  },
  {
   "cell_type": "markdown",
   "metadata": {},
   "source": [
    "6. \\[numerical computation; 5p\\] $$g_0 = w_0 + 2w_1 +1, g_1 = 2w_0 + 3𝑤_1 − 1$$인 $$f = (g_0 + 2g_1 −1)^2의$$ $$w_0, w_1$$ 에 대한 편미분을 구하세요."
   ]
  },
  {
   "cell_type": "markdown",
   "metadata": {},
   "source": [
    "$$ f = (g_0 +2g_1 -1)^2 = (5W_0+8W_1 -2)^2 $$이므로 \n",
    "\n",
    "$$\\frac{\\partial f}{\\partial W_0} = 10(5W_0+8W_1-2)$$\n",
    "$$\\frac{\\partial f}{\\partial W_1} = 16(5W_0+8W_1-2)$$"
   ]
  },
  {
   "cell_type": "markdown",
   "metadata": {},
   "source": [
    "7. [PLA; 15p] PLA 가중치 갱신 법칙 w(t + 1) = w(t) + y(t)x(t)를 보고 다음 문제의 답을 보이세요."
   ]
  },
  {
   "cell_type": "markdown",
   "metadata": {},
   "source": [
    "A.  $y(t)w^T(y)x(y) < 0$ 임을 보이세요. (Hint: x(t)는 w(t)에 의해 오분류 됨)"
   ]
  },
  {
   "cell_type": "markdown",
   "metadata": {},
   "source": [
    "Perceptron Learning algrorithm에서 \n",
    "\n",
    "$y(t)=w^T(t)x(t)$ 에서\n",
    "\n",
    "$y(t) > 0$ 일때, $w^T(t)x(t) > 0$이므로  $y(t)w^T(t)x(t) > 0$ 이다.\n",
    "\n",
    "\n",
    "하지만 이를 x(t)가 w(t)의 오분류되었다고 하면 원래 $w^T(t)x(t) > 0$가 $w^T(t)x(t) < 0$로 변하여 \n",
    "\n",
    "$y(t)w^T(t)x(t) < 0$ 가 된다. \n",
    "\n",
    "$y(t) < 0$ 일때, $w^T(t)x(t) < 0$이므로  $y(t)w^T(t)x(t) > 0$ 이다. \n",
    "\n",
    "하지만 이를 x(t)가 w(t)의 오분류되었다고 하면 원래 $w^T(t)x(t) < 0$가 $w^T(t)x(t) > 0$로 변하여 \n",
    "\n",
    "$y(t)w^T(t)x(t) < 0$가 된다. \n",
    "\n",
    "따라서 오분류되는 데이터에 대하여 $y(t)w^T(y)x(y)$ 는 0보다 작다"
   ]
  },
  {
   "cell_type": "markdown",
   "metadata": {},
   "source": [
    "B. $$y(t)w^𝑇(t + 1)x(t) > y(t)w^𝑇(t)x(t)$$ 임을 보이세요. (Hint: w(t +1) = w(t)+ y(t)x(t) 이용)"
   ]
  },
  {
   "cell_type": "markdown",
   "metadata": {},
   "source": [
    "$w(t+1) = w(t)+y(t)x(t)$이므로 \n",
    "\n",
    "$y(t)w^𝑇(t + 1)x(t) > y(t)w^𝑇(t)x(t)$의 식은\n",
    "\n",
    "아래와 같이 변경될 수 있다. \n",
    "\n",
    "$y(t)(w(t)+ y(t)x(t))^Tx(t) > y(t)w^𝑇(t)x(t)$는\n",
    "\n",
    "Transpose property 중에서 \n",
    "\n",
    "$(A+B)^T = A^T+B^T$ 와 $(AB)^T = B^TA^T$에 의해 \n",
    "\n",
    "위의 식은 \n",
    "\n",
    "$y(t)(w^T(t)+ x^T(t)y^T(t))x(t) > y(t)w^𝑇(t)x(t)$\n",
    "\n",
    "$y(t)w^T(t)x(t)+ y(t)x^T(t)y^T(t)x(t) > y(t)w^𝑇(t)x(t)$\n",
    "\n",
    "양변에 $y(t)w^T(t)x(t)$를 빼면 \n",
    "\n",
    "$y(t)x^T(t)y^T(t)x(t) > 0$이다.  \n",
    "\n",
    "그리고 PLA가 정상분류되었다면 \n",
    "\n",
    "$y(t)x^T(t) >0$ 이고 $y^T(t)x(t)>0$이므로\n",
    "\n",
    "$y(t)x^T(t)y^T(t)x(t)$ 항상 0 크다.\n",
    "\n",
    "$$ \\therefore y(t)w^𝑇(t + 1)x(t) > y(t)w^𝑇(t)x(t)$$은 성립한다."
   ]
  },
  {
   "cell_type": "markdown",
   "metadata": {},
   "source": [
    "C. w(t)에서 w(t + 1)로 이동하는 것이 x(t)를 분류하는데 올바른 방향으로 이동함을 설명하세요."
   ]
  },
  {
   "cell_type": "markdown",
   "metadata": {},
   "source": [
    "$y(t)w^𝑇(t + 1)x(t) > y(t)w^𝑇(t)x(t)$ 에서 \n",
    "\n",
    "양변에 $y(t)w^𝑇(t)x(t)$를 빼면\n",
    "\n",
    "$w^𝑇(t + 1) > w^𝑇(t)$이고 \n",
    "\n",
    "위의 식에서 $w^𝑇(t)$를 양변에 빼면\n",
    "\n",
    "$w^𝑇(t + 1) - w^𝑇(t) > 0$이다. \n",
    "\n",
    "위의 식에 $w(t+1)=w(t)+y(t)x(t)$대입하면 \n",
    "\n",
    "$y(t)x(t) > 0$이다.\n",
    "\n",
    "$y(t)x(t) > 0$가 성립하기 위해서는 y(t)와 x(t)은 항상 같은 방향이여야 하므로 \n",
    "\n",
    "y(t)와 x(t)가 다른 방향 일때, \n",
    "\n",
    "w(t+1)는 y(t)를 x(t)와 같은 방향으로 업데이트를 하기 때문에 \n",
    "\n",
    "w(t)에서 w(t + 1)로 이동하는 것이 x(t)를 분류하는 것은 올바른 방향으로 이동한다."
   ]
  },
  {
   "cell_type": "markdown",
   "metadata": {},
   "source": [
    "D. $w = [w_0, w_1, w_2]^T$이고, $x = [1, x_1, x_2]^T$인 $h(x) = sign(w^Tx)$ 일 때, $h(x) = −1$와 $h(x) = 1$는 결정 직선$x_2 = ax_1 + b$에 의해 구분된다. 결정 직선의 기울기 a와 절편 b를 가중치 $w_0, w_1, w_2$에 의해 설명하세요."
   ]
  },
  {
   "cell_type": "markdown",
   "metadata": {},
   "source": [
    "$w^T𝐱 = w_0+w_1x_1 + w_2x_2$ 이므로 \n",
    " \n",
    "$h(x) = sign(w_0+w_1x_1 + w_2x_2)$에서 \n",
    "\n",
    "$h(x) = −1$이면 w_0+w_1x_1 + w_2x_2 < 0 이고\n",
    "\n",
    "$h(x) = 1$이면 w_0+w_1x_1 + w_2x_2 > 0 이므로 \n",
    "\n",
    "결정직선은 w_0+w_1x_1 + w_2x_2 = 0 이다.\n",
    "\n",
    "위에서 결정직선 $x_2 = ax_1 + b$에 의해 $h(x) = −1$와 $h(x) = 1$는 구분되므로\n",
    "\n",
    "$\\therefore$  기울기는 $a = \\frac{-w_1}{w_2}$, 절편 $b = \\frac{-w_0}{w_2}$ 이다. "
   ]
  },
  {
   "cell_type": "markdown",
   "metadata": {},
   "source": [
    "8. \\[PLA; 15p\\] PLA는 결과적으로 선형적으로 분리를 하는 최적 가중치 $w^∗$ 에 얻게 된다. 다음 문제의 답을 보이세요. (w(0) = 0임을 가정)"
   ]
  },
  {
   "cell_type": "markdown",
   "metadata": {},
   "source": [
    "A. $p = \\min_{1<=n<=N} y_n (w^* x_n)$일 때, p > 0임을 보이세요."
   ]
  },
  {
   "cell_type": "markdown",
   "metadata": {},
   "source": [
    "$y(t) > 0$ 일때, $w^T(t)x(t) > 0$이므로  $y(t)w^T(t)x(t) > 0$ 이고\n",
    "\n",
    "$y(t) < 0$ 일때, $w^T(t)x(t) < 0$이므로  $y(t)w^T(t)x(t) > 0$ 이다.\n",
    "\n",
    "$w^∗$는 최적 가중치로 위의 두개의 식을 만족해야 하므로 \n",
    "\n",
    "$y_n (w^* x_n) > 0$ 크다 \n",
    "\n",
    "$\\therefore p > 0$"
   ]
  },
  {
   "cell_type": "markdown",
   "metadata": {},
   "source": [
    "B. $w^T(t)w^* >= w^T(t - 1)w^* + p$임을 보이고, 결과적으로 $w^T(t)w^* >= tp$임을 보이세요. (Hint: 귀납법 이용)"
   ]
  },
  {
   "cell_type": "markdown",
   "metadata": {},
   "source": [
    "$w^T(t)w^* >= w^T(t - 1)w^* + p$에서 \n",
    "\n",
    "양변에 $w^T(t - 1)w^* + p$를 빼면 \n",
    "\n",
    "$(w^T(t)-w^T(t - 1))w^* - p ≥ 0$이고 \n",
    "\n",
    "$y(t-1)w^T(t)x(t-1) > y(t-1)w^T(t-1)x(t-1)$에 의해\n",
    "\n",
    "$w^T(t) - w^T(t-1) > 0$이고 \n",
    "\n",
    "$p = \\min_{1<=n<=N} y_n (w^* x_n)$일때, $p > 0$ 크다. \n",
    "\n",
    "$p = \\min_{1<=n<=N} y_n (w^* x_n)$일때, $p <= y(t-1)w^*x(t-1)$이므로 $w^* >0$이다.\n",
    "\n",
    "따라서 $(w^T(t)-w^T(t - 1))w^* - p >= 0$는 성립한다. \n",
    "\n",
    "$w^T(t)w^* - w^T(t - 1)w^* - p >= 0$ 에서  \n",
    "\n",
    "$w^T(t)w^*-w^T(t - 1)w^* >= p$ 이므로 $w^T(t)w^* ≥ tp$는 성립한다. "
   ]
  },
  {
   "cell_type": "markdown",
   "metadata": {},
   "source": [
    "C. $||w(t)||^2 <= ||w(t - 1)||^2 + ||x(t - 1)||^2$ 임을 보이세요. (Hint: $x(t - 1)$ 는 $w(t - 1)$ 에 오분류 되어 $y(t − 1)(w^T (t - 1)x(t - 1)) <= 0$ 임을 활용)"
   ]
  },
  {
   "cell_type": "markdown",
   "metadata": {},
   "source": [
    "$||w(t)||^2 >  ||w(t - 1)||^2 + ||x(t - 1)||^2$이라고 하자.\n",
    "\n",
    "$||w(t)||^2$에 $w(t)=w(t-1)+y(t-1)x(t-1)$를 대입하고\n",
    "\n",
    "$||w(t-1)+y(t-1)x(t-1)||^2$이고, 이를 전개하면\n",
    "\n",
    "$||w(t-1)||^2+2||w(t-1)y(t-1)x(t-1)||+||y(t-1)x(t-1)||^2$이다.\n",
    "\n",
    "PLA에서 $y(t)= 1$ 또는 $y(t)= -1$ 이므로\n",
    "\n",
    "$||w(t-1)||^2+2||w(t-1)y(t-1)x(t-1)||+||y(t-1)x(t-1)||^2$에 \n",
    "\n",
    "$y(t)= 1$ 또는 $y(t)= -1$를 대입하면 \n",
    "\n",
    "$||w(t)||^2 = ||w(t-1)||^2+2||w(t-1)x(t-1)||+||x(t-1)||^2$이다. \n",
    "\n",
    "이를 $||w(t)||^2 > ||w(t - 1)||^2 + ||x(t - 1)||^2$에 대입하면 \n",
    "\n",
    "$||w(t-1)||^2+2||w(t-1)x(t-1)||+||x(t-1)||^2 > ||w(t - 1)||^2 + ||x(t - 1)||^2$ 이고 \n",
    "\n",
    "양변에 $||w(t - 1)||^2 + ||x(t - 1)||^2$를 빼면\n",
    "\n",
    "$2||w(t-1)x(t-1)|| > 0$이다. 하지만\n",
    "\n",
    "$x(t - 1)$가 $w(t - 1)$에 의해 오분류되면 \n",
    "\n",
    "$y(t - 1)(w^T (t - 1)x(t - 1)) <= 0$이므로 \n",
    "\n",
    "$||w(t-1)x(t-1)|| > 0$ 모순이 되므로\n",
    "\n",
    "$||w(t)||^2 <= ||w(t - 1)||^2 + ||x(t - 1)||^2$이다. "
   ]
  },
  {
   "cell_type": "markdown",
   "metadata": {},
   "source": [
    "9. \\[LR; 15p\\] UCI의 wine quality 데이터를 활용하여 다음의 분석을 수행하세요.\n",
    "\n",
    "(참고: https://archive.ics.uci.edu/ml/machine-learning-databases/wine-quality/)"
   ]
  },
  {
   "cell_type": "markdown",
   "metadata": {},
   "source": [
    "A. 와인의 데이터의 일부를 출력하여 확인하세요."
   ]
  },
  {
   "cell_type": "code",
   "execution_count": 10,
   "metadata": {},
   "outputs": [
    {
     "data": {
      "text/html": [
       "<div>\n",
       "<style scoped>\n",
       "    .dataframe tbody tr th:only-of-type {\n",
       "        vertical-align: middle;\n",
       "    }\n",
       "\n",
       "    .dataframe tbody tr th {\n",
       "        vertical-align: top;\n",
       "    }\n",
       "\n",
       "    .dataframe thead th {\n",
       "        text-align: right;\n",
       "    }\n",
       "</style>\n",
       "<table border=\"1\" class=\"dataframe\">\n",
       "  <thead>\n",
       "    <tr style=\"text-align: right;\">\n",
       "      <th></th>\n",
       "      <th>fixed acidity</th>\n",
       "      <th>volatile acidity</th>\n",
       "      <th>citric acid</th>\n",
       "      <th>residual sugar</th>\n",
       "      <th>chlorides</th>\n",
       "      <th>free sulfur dioxide</th>\n",
       "      <th>total sulfur dioxide</th>\n",
       "      <th>density</th>\n",
       "      <th>pH</th>\n",
       "      <th>sulphates</th>\n",
       "      <th>alcohol</th>\n",
       "      <th>quality</th>\n",
       "    </tr>\n",
       "  </thead>\n",
       "  <tbody>\n",
       "    <tr>\n",
       "      <th>0</th>\n",
       "      <td>7.4</td>\n",
       "      <td>0.70</td>\n",
       "      <td>0.00</td>\n",
       "      <td>1.9</td>\n",
       "      <td>0.076</td>\n",
       "      <td>11.0</td>\n",
       "      <td>34.0</td>\n",
       "      <td>0.9978</td>\n",
       "      <td>3.51</td>\n",
       "      <td>0.56</td>\n",
       "      <td>9.4</td>\n",
       "      <td>5</td>\n",
       "    </tr>\n",
       "    <tr>\n",
       "      <th>1</th>\n",
       "      <td>7.8</td>\n",
       "      <td>0.88</td>\n",
       "      <td>0.00</td>\n",
       "      <td>2.6</td>\n",
       "      <td>0.098</td>\n",
       "      <td>25.0</td>\n",
       "      <td>67.0</td>\n",
       "      <td>0.9968</td>\n",
       "      <td>3.20</td>\n",
       "      <td>0.68</td>\n",
       "      <td>9.8</td>\n",
       "      <td>5</td>\n",
       "    </tr>\n",
       "    <tr>\n",
       "      <th>2</th>\n",
       "      <td>7.8</td>\n",
       "      <td>0.76</td>\n",
       "      <td>0.04</td>\n",
       "      <td>2.3</td>\n",
       "      <td>0.092</td>\n",
       "      <td>15.0</td>\n",
       "      <td>54.0</td>\n",
       "      <td>0.9970</td>\n",
       "      <td>3.26</td>\n",
       "      <td>0.65</td>\n",
       "      <td>9.8</td>\n",
       "      <td>5</td>\n",
       "    </tr>\n",
       "    <tr>\n",
       "      <th>3</th>\n",
       "      <td>11.2</td>\n",
       "      <td>0.28</td>\n",
       "      <td>0.56</td>\n",
       "      <td>1.9</td>\n",
       "      <td>0.075</td>\n",
       "      <td>17.0</td>\n",
       "      <td>60.0</td>\n",
       "      <td>0.9980</td>\n",
       "      <td>3.16</td>\n",
       "      <td>0.58</td>\n",
       "      <td>9.8</td>\n",
       "      <td>6</td>\n",
       "    </tr>\n",
       "    <tr>\n",
       "      <th>4</th>\n",
       "      <td>7.4</td>\n",
       "      <td>0.70</td>\n",
       "      <td>0.00</td>\n",
       "      <td>1.9</td>\n",
       "      <td>0.076</td>\n",
       "      <td>11.0</td>\n",
       "      <td>34.0</td>\n",
       "      <td>0.9978</td>\n",
       "      <td>3.51</td>\n",
       "      <td>0.56</td>\n",
       "      <td>9.4</td>\n",
       "      <td>5</td>\n",
       "    </tr>\n",
       "    <tr>\n",
       "      <th>5</th>\n",
       "      <td>7.4</td>\n",
       "      <td>0.66</td>\n",
       "      <td>0.00</td>\n",
       "      <td>1.8</td>\n",
       "      <td>0.075</td>\n",
       "      <td>13.0</td>\n",
       "      <td>40.0</td>\n",
       "      <td>0.9978</td>\n",
       "      <td>3.51</td>\n",
       "      <td>0.56</td>\n",
       "      <td>9.4</td>\n",
       "      <td>5</td>\n",
       "    </tr>\n",
       "    <tr>\n",
       "      <th>6</th>\n",
       "      <td>7.9</td>\n",
       "      <td>0.60</td>\n",
       "      <td>0.06</td>\n",
       "      <td>1.6</td>\n",
       "      <td>0.069</td>\n",
       "      <td>15.0</td>\n",
       "      <td>59.0</td>\n",
       "      <td>0.9964</td>\n",
       "      <td>3.30</td>\n",
       "      <td>0.46</td>\n",
       "      <td>9.4</td>\n",
       "      <td>5</td>\n",
       "    </tr>\n",
       "  </tbody>\n",
       "</table>\n",
       "</div>"
      ],
      "text/plain": [
       "   fixed acidity  volatile acidity  citric acid  residual sugar  chlorides  \\\n",
       "0            7.4              0.70         0.00             1.9      0.076   \n",
       "1            7.8              0.88         0.00             2.6      0.098   \n",
       "2            7.8              0.76         0.04             2.3      0.092   \n",
       "3           11.2              0.28         0.56             1.9      0.075   \n",
       "4            7.4              0.70         0.00             1.9      0.076   \n",
       "5            7.4              0.66         0.00             1.8      0.075   \n",
       "6            7.9              0.60         0.06             1.6      0.069   \n",
       "\n",
       "   free sulfur dioxide  total sulfur dioxide  density    pH  sulphates  \\\n",
       "0                 11.0                  34.0   0.9978  3.51       0.56   \n",
       "1                 25.0                  67.0   0.9968  3.20       0.68   \n",
       "2                 15.0                  54.0   0.9970  3.26       0.65   \n",
       "3                 17.0                  60.0   0.9980  3.16       0.58   \n",
       "4                 11.0                  34.0   0.9978  3.51       0.56   \n",
       "5                 13.0                  40.0   0.9978  3.51       0.56   \n",
       "6                 15.0                  59.0   0.9964  3.30       0.46   \n",
       "\n",
       "   alcohol  quality  \n",
       "0      9.4        5  \n",
       "1      9.8        5  \n",
       "2      9.8        5  \n",
       "3      9.8        6  \n",
       "4      9.4        5  \n",
       "5      9.4        5  \n",
       "6      9.4        5  "
      ]
     },
     "execution_count": 10,
     "metadata": {},
     "output_type": "execute_result"
    }
   ],
   "source": [
    "import pandas as pd\n",
    "\n",
    "red = pd.read_csv(\"winequality-red.csv\", sep=';')\n",
    "white = pd.read_csv(\"winequality-white.csv\", sep=';')\n",
    "data = pd.concat([red, white], axis=0)\n",
    "# https://pandas.pydata.org/pandas-docs/stable/reference/api/pandas.DataFrame.head.html\n",
    "data.head(n=7)"
   ]
  },
  {
   "cell_type": "markdown",
   "metadata": {},
   "source": [
    "B. 와인의 각 속성의 통계적 특성들 (평균, 분산, 최대값, 최소값 등)을 확인하세요."
   ]
  },
  {
   "cell_type": "code",
   "execution_count": 11,
   "metadata": {},
   "outputs": [
    {
     "data": {
      "text/html": [
       "<div>\n",
       "<style scoped>\n",
       "    .dataframe tbody tr th:only-of-type {\n",
       "        vertical-align: middle;\n",
       "    }\n",
       "\n",
       "    .dataframe tbody tr th {\n",
       "        vertical-align: top;\n",
       "    }\n",
       "\n",
       "    .dataframe thead th {\n",
       "        text-align: right;\n",
       "    }\n",
       "</style>\n",
       "<table border=\"1\" class=\"dataframe\">\n",
       "  <thead>\n",
       "    <tr style=\"text-align: right;\">\n",
       "      <th></th>\n",
       "      <th>fixed acidity</th>\n",
       "      <th>volatile acidity</th>\n",
       "      <th>citric acid</th>\n",
       "      <th>residual sugar</th>\n",
       "      <th>chlorides</th>\n",
       "      <th>free sulfur dioxide</th>\n",
       "      <th>total sulfur dioxide</th>\n",
       "      <th>density</th>\n",
       "      <th>pH</th>\n",
       "      <th>sulphates</th>\n",
       "      <th>alcohol</th>\n",
       "      <th>quality</th>\n",
       "    </tr>\n",
       "  </thead>\n",
       "  <tbody>\n",
       "    <tr>\n",
       "      <th>count</th>\n",
       "      <td>6497.000000</td>\n",
       "      <td>6497.000000</td>\n",
       "      <td>6497.000000</td>\n",
       "      <td>6497.000000</td>\n",
       "      <td>6497.000000</td>\n",
       "      <td>6497.000000</td>\n",
       "      <td>6497.000000</td>\n",
       "      <td>6497.000000</td>\n",
       "      <td>6497.000000</td>\n",
       "      <td>6497.000000</td>\n",
       "      <td>6497.000000</td>\n",
       "      <td>6497.000000</td>\n",
       "    </tr>\n",
       "    <tr>\n",
       "      <th>mean</th>\n",
       "      <td>7.215307</td>\n",
       "      <td>0.339666</td>\n",
       "      <td>0.318633</td>\n",
       "      <td>5.443235</td>\n",
       "      <td>0.056034</td>\n",
       "      <td>30.525319</td>\n",
       "      <td>115.744574</td>\n",
       "      <td>0.994697</td>\n",
       "      <td>3.218501</td>\n",
       "      <td>0.531268</td>\n",
       "      <td>10.491801</td>\n",
       "      <td>5.818378</td>\n",
       "    </tr>\n",
       "    <tr>\n",
       "      <th>std</th>\n",
       "      <td>1.296434</td>\n",
       "      <td>0.164636</td>\n",
       "      <td>0.145318</td>\n",
       "      <td>4.757804</td>\n",
       "      <td>0.035034</td>\n",
       "      <td>17.749400</td>\n",
       "      <td>56.521855</td>\n",
       "      <td>0.002999</td>\n",
       "      <td>0.160787</td>\n",
       "      <td>0.148806</td>\n",
       "      <td>1.192712</td>\n",
       "      <td>0.873255</td>\n",
       "    </tr>\n",
       "    <tr>\n",
       "      <th>min</th>\n",
       "      <td>3.800000</td>\n",
       "      <td>0.080000</td>\n",
       "      <td>0.000000</td>\n",
       "      <td>0.600000</td>\n",
       "      <td>0.009000</td>\n",
       "      <td>1.000000</td>\n",
       "      <td>6.000000</td>\n",
       "      <td>0.987110</td>\n",
       "      <td>2.720000</td>\n",
       "      <td>0.220000</td>\n",
       "      <td>8.000000</td>\n",
       "      <td>3.000000</td>\n",
       "    </tr>\n",
       "    <tr>\n",
       "      <th>25%</th>\n",
       "      <td>6.400000</td>\n",
       "      <td>0.230000</td>\n",
       "      <td>0.250000</td>\n",
       "      <td>1.800000</td>\n",
       "      <td>0.038000</td>\n",
       "      <td>17.000000</td>\n",
       "      <td>77.000000</td>\n",
       "      <td>0.992340</td>\n",
       "      <td>3.110000</td>\n",
       "      <td>0.430000</td>\n",
       "      <td>9.500000</td>\n",
       "      <td>5.000000</td>\n",
       "    </tr>\n",
       "    <tr>\n",
       "      <th>50%</th>\n",
       "      <td>7.000000</td>\n",
       "      <td>0.290000</td>\n",
       "      <td>0.310000</td>\n",
       "      <td>3.000000</td>\n",
       "      <td>0.047000</td>\n",
       "      <td>29.000000</td>\n",
       "      <td>118.000000</td>\n",
       "      <td>0.994890</td>\n",
       "      <td>3.210000</td>\n",
       "      <td>0.510000</td>\n",
       "      <td>10.300000</td>\n",
       "      <td>6.000000</td>\n",
       "    </tr>\n",
       "    <tr>\n",
       "      <th>75%</th>\n",
       "      <td>7.700000</td>\n",
       "      <td>0.400000</td>\n",
       "      <td>0.390000</td>\n",
       "      <td>8.100000</td>\n",
       "      <td>0.065000</td>\n",
       "      <td>41.000000</td>\n",
       "      <td>156.000000</td>\n",
       "      <td>0.996990</td>\n",
       "      <td>3.320000</td>\n",
       "      <td>0.600000</td>\n",
       "      <td>11.300000</td>\n",
       "      <td>6.000000</td>\n",
       "    </tr>\n",
       "    <tr>\n",
       "      <th>max</th>\n",
       "      <td>15.900000</td>\n",
       "      <td>1.580000</td>\n",
       "      <td>1.660000</td>\n",
       "      <td>65.800000</td>\n",
       "      <td>0.611000</td>\n",
       "      <td>289.000000</td>\n",
       "      <td>440.000000</td>\n",
       "      <td>1.038980</td>\n",
       "      <td>4.010000</td>\n",
       "      <td>2.000000</td>\n",
       "      <td>14.900000</td>\n",
       "      <td>9.000000</td>\n",
       "    </tr>\n",
       "  </tbody>\n",
       "</table>\n",
       "</div>"
      ],
      "text/plain": [
       "       fixed acidity  volatile acidity  citric acid  residual sugar  \\\n",
       "count    6497.000000       6497.000000  6497.000000     6497.000000   \n",
       "mean        7.215307          0.339666     0.318633        5.443235   \n",
       "std         1.296434          0.164636     0.145318        4.757804   \n",
       "min         3.800000          0.080000     0.000000        0.600000   \n",
       "25%         6.400000          0.230000     0.250000        1.800000   \n",
       "50%         7.000000          0.290000     0.310000        3.000000   \n",
       "75%         7.700000          0.400000     0.390000        8.100000   \n",
       "max        15.900000          1.580000     1.660000       65.800000   \n",
       "\n",
       "         chlorides  free sulfur dioxide  total sulfur dioxide      density  \\\n",
       "count  6497.000000          6497.000000           6497.000000  6497.000000   \n",
       "mean      0.056034            30.525319            115.744574     0.994697   \n",
       "std       0.035034            17.749400             56.521855     0.002999   \n",
       "min       0.009000             1.000000              6.000000     0.987110   \n",
       "25%       0.038000            17.000000             77.000000     0.992340   \n",
       "50%       0.047000            29.000000            118.000000     0.994890   \n",
       "75%       0.065000            41.000000            156.000000     0.996990   \n",
       "max       0.611000           289.000000            440.000000     1.038980   \n",
       "\n",
       "                pH    sulphates      alcohol      quality  \n",
       "count  6497.000000  6497.000000  6497.000000  6497.000000  \n",
       "mean      3.218501     0.531268    10.491801     5.818378  \n",
       "std       0.160787     0.148806     1.192712     0.873255  \n",
       "min       2.720000     0.220000     8.000000     3.000000  \n",
       "25%       3.110000     0.430000     9.500000     5.000000  \n",
       "50%       3.210000     0.510000    10.300000     6.000000  \n",
       "75%       3.320000     0.600000    11.300000     6.000000  \n",
       "max       4.010000     2.000000    14.900000     9.000000  "
      ]
     },
     "execution_count": 11,
     "metadata": {},
     "output_type": "execute_result"
    }
   ],
   "source": [
    "# https://pandas.pydata.org/pandas-docs/stable/reference/api/pandas.DataFrame.describe.html\n",
    "data.describe()"
   ]
  },
  {
   "cell_type": "markdown",
   "metadata": {},
   "source": [
    "C. 와인의 12가지 속성 간의 상관관계를 heatmap 형태로 그려 분석하세요."
   ]
  },
  {
   "cell_type": "code",
   "execution_count": 12,
   "metadata": {},
   "outputs": [
    {
     "data": {
      "text/html": [
       "<div>\n",
       "<style scoped>\n",
       "    .dataframe tbody tr th:only-of-type {\n",
       "        vertical-align: middle;\n",
       "    }\n",
       "\n",
       "    .dataframe tbody tr th {\n",
       "        vertical-align: top;\n",
       "    }\n",
       "\n",
       "    .dataframe thead th {\n",
       "        text-align: right;\n",
       "    }\n",
       "</style>\n",
       "<table border=\"1\" class=\"dataframe\">\n",
       "  <thead>\n",
       "    <tr style=\"text-align: right;\">\n",
       "      <th></th>\n",
       "      <th>fixed acidity</th>\n",
       "      <th>volatile acidity</th>\n",
       "      <th>citric acid</th>\n",
       "      <th>residual sugar</th>\n",
       "      <th>chlorides</th>\n",
       "      <th>free sulfur dioxide</th>\n",
       "      <th>total sulfur dioxide</th>\n",
       "      <th>density</th>\n",
       "      <th>pH</th>\n",
       "      <th>sulphates</th>\n",
       "      <th>alcohol</th>\n",
       "      <th>quality</th>\n",
       "    </tr>\n",
       "  </thead>\n",
       "  <tbody>\n",
       "    <tr>\n",
       "      <th>fixed acidity</th>\n",
       "      <td>1.000000</td>\n",
       "      <td>0.219008</td>\n",
       "      <td>0.324436</td>\n",
       "      <td>-0.111981</td>\n",
       "      <td>0.298195</td>\n",
       "      <td>-0.282735</td>\n",
       "      <td>-0.329054</td>\n",
       "      <td>0.458910</td>\n",
       "      <td>-0.252700</td>\n",
       "      <td>0.299568</td>\n",
       "      <td>-0.095452</td>\n",
       "      <td>-0.076743</td>\n",
       "    </tr>\n",
       "    <tr>\n",
       "      <th>volatile acidity</th>\n",
       "      <td>0.219008</td>\n",
       "      <td>1.000000</td>\n",
       "      <td>-0.377981</td>\n",
       "      <td>-0.196011</td>\n",
       "      <td>0.377124</td>\n",
       "      <td>-0.352557</td>\n",
       "      <td>-0.414476</td>\n",
       "      <td>0.271296</td>\n",
       "      <td>0.261454</td>\n",
       "      <td>0.225984</td>\n",
       "      <td>-0.037640</td>\n",
       "      <td>-0.265699</td>\n",
       "    </tr>\n",
       "    <tr>\n",
       "      <th>citric acid</th>\n",
       "      <td>0.324436</td>\n",
       "      <td>-0.377981</td>\n",
       "      <td>1.000000</td>\n",
       "      <td>0.142451</td>\n",
       "      <td>0.038998</td>\n",
       "      <td>0.133126</td>\n",
       "      <td>0.195242</td>\n",
       "      <td>0.096154</td>\n",
       "      <td>-0.329808</td>\n",
       "      <td>0.056197</td>\n",
       "      <td>-0.010493</td>\n",
       "      <td>0.085532</td>\n",
       "    </tr>\n",
       "    <tr>\n",
       "      <th>residual sugar</th>\n",
       "      <td>-0.111981</td>\n",
       "      <td>-0.196011</td>\n",
       "      <td>0.142451</td>\n",
       "      <td>1.000000</td>\n",
       "      <td>-0.128940</td>\n",
       "      <td>0.402871</td>\n",
       "      <td>0.495482</td>\n",
       "      <td>0.552517</td>\n",
       "      <td>-0.267320</td>\n",
       "      <td>-0.185927</td>\n",
       "      <td>-0.359415</td>\n",
       "      <td>-0.036980</td>\n",
       "    </tr>\n",
       "    <tr>\n",
       "      <th>chlorides</th>\n",
       "      <td>0.298195</td>\n",
       "      <td>0.377124</td>\n",
       "      <td>0.038998</td>\n",
       "      <td>-0.128940</td>\n",
       "      <td>1.000000</td>\n",
       "      <td>-0.195045</td>\n",
       "      <td>-0.279630</td>\n",
       "      <td>0.362615</td>\n",
       "      <td>0.044708</td>\n",
       "      <td>0.395593</td>\n",
       "      <td>-0.256916</td>\n",
       "      <td>-0.200666</td>\n",
       "    </tr>\n",
       "    <tr>\n",
       "      <th>free sulfur dioxide</th>\n",
       "      <td>-0.282735</td>\n",
       "      <td>-0.352557</td>\n",
       "      <td>0.133126</td>\n",
       "      <td>0.402871</td>\n",
       "      <td>-0.195045</td>\n",
       "      <td>1.000000</td>\n",
       "      <td>0.720934</td>\n",
       "      <td>0.025717</td>\n",
       "      <td>-0.145854</td>\n",
       "      <td>-0.188457</td>\n",
       "      <td>-0.179838</td>\n",
       "      <td>0.055463</td>\n",
       "    </tr>\n",
       "    <tr>\n",
       "      <th>total sulfur dioxide</th>\n",
       "      <td>-0.329054</td>\n",
       "      <td>-0.414476</td>\n",
       "      <td>0.195242</td>\n",
       "      <td>0.495482</td>\n",
       "      <td>-0.279630</td>\n",
       "      <td>0.720934</td>\n",
       "      <td>1.000000</td>\n",
       "      <td>0.032395</td>\n",
       "      <td>-0.238413</td>\n",
       "      <td>-0.275727</td>\n",
       "      <td>-0.265740</td>\n",
       "      <td>-0.041385</td>\n",
       "    </tr>\n",
       "    <tr>\n",
       "      <th>density</th>\n",
       "      <td>0.458910</td>\n",
       "      <td>0.271296</td>\n",
       "      <td>0.096154</td>\n",
       "      <td>0.552517</td>\n",
       "      <td>0.362615</td>\n",
       "      <td>0.025717</td>\n",
       "      <td>0.032395</td>\n",
       "      <td>1.000000</td>\n",
       "      <td>0.011686</td>\n",
       "      <td>0.259478</td>\n",
       "      <td>-0.686745</td>\n",
       "      <td>-0.305858</td>\n",
       "    </tr>\n",
       "    <tr>\n",
       "      <th>pH</th>\n",
       "      <td>-0.252700</td>\n",
       "      <td>0.261454</td>\n",
       "      <td>-0.329808</td>\n",
       "      <td>-0.267320</td>\n",
       "      <td>0.044708</td>\n",
       "      <td>-0.145854</td>\n",
       "      <td>-0.238413</td>\n",
       "      <td>0.011686</td>\n",
       "      <td>1.000000</td>\n",
       "      <td>0.192123</td>\n",
       "      <td>0.121248</td>\n",
       "      <td>0.019506</td>\n",
       "    </tr>\n",
       "    <tr>\n",
       "      <th>sulphates</th>\n",
       "      <td>0.299568</td>\n",
       "      <td>0.225984</td>\n",
       "      <td>0.056197</td>\n",
       "      <td>-0.185927</td>\n",
       "      <td>0.395593</td>\n",
       "      <td>-0.188457</td>\n",
       "      <td>-0.275727</td>\n",
       "      <td>0.259478</td>\n",
       "      <td>0.192123</td>\n",
       "      <td>1.000000</td>\n",
       "      <td>-0.003029</td>\n",
       "      <td>0.038485</td>\n",
       "    </tr>\n",
       "    <tr>\n",
       "      <th>alcohol</th>\n",
       "      <td>-0.095452</td>\n",
       "      <td>-0.037640</td>\n",
       "      <td>-0.010493</td>\n",
       "      <td>-0.359415</td>\n",
       "      <td>-0.256916</td>\n",
       "      <td>-0.179838</td>\n",
       "      <td>-0.265740</td>\n",
       "      <td>-0.686745</td>\n",
       "      <td>0.121248</td>\n",
       "      <td>-0.003029</td>\n",
       "      <td>1.000000</td>\n",
       "      <td>0.444319</td>\n",
       "    </tr>\n",
       "    <tr>\n",
       "      <th>quality</th>\n",
       "      <td>-0.076743</td>\n",
       "      <td>-0.265699</td>\n",
       "      <td>0.085532</td>\n",
       "      <td>-0.036980</td>\n",
       "      <td>-0.200666</td>\n",
       "      <td>0.055463</td>\n",
       "      <td>-0.041385</td>\n",
       "      <td>-0.305858</td>\n",
       "      <td>0.019506</td>\n",
       "      <td>0.038485</td>\n",
       "      <td>0.444319</td>\n",
       "      <td>1.000000</td>\n",
       "    </tr>\n",
       "  </tbody>\n",
       "</table>\n",
       "</div>"
      ],
      "text/plain": [
       "                      fixed acidity  volatile acidity  citric acid  \\\n",
       "fixed acidity              1.000000          0.219008     0.324436   \n",
       "volatile acidity           0.219008          1.000000    -0.377981   \n",
       "citric acid                0.324436         -0.377981     1.000000   \n",
       "residual sugar            -0.111981         -0.196011     0.142451   \n",
       "chlorides                  0.298195          0.377124     0.038998   \n",
       "free sulfur dioxide       -0.282735         -0.352557     0.133126   \n",
       "total sulfur dioxide      -0.329054         -0.414476     0.195242   \n",
       "density                    0.458910          0.271296     0.096154   \n",
       "pH                        -0.252700          0.261454    -0.329808   \n",
       "sulphates                  0.299568          0.225984     0.056197   \n",
       "alcohol                   -0.095452         -0.037640    -0.010493   \n",
       "quality                   -0.076743         -0.265699     0.085532   \n",
       "\n",
       "                      residual sugar  chlorides  free sulfur dioxide  \\\n",
       "fixed acidity              -0.111981   0.298195            -0.282735   \n",
       "volatile acidity           -0.196011   0.377124            -0.352557   \n",
       "citric acid                 0.142451   0.038998             0.133126   \n",
       "residual sugar              1.000000  -0.128940             0.402871   \n",
       "chlorides                  -0.128940   1.000000            -0.195045   \n",
       "free sulfur dioxide         0.402871  -0.195045             1.000000   \n",
       "total sulfur dioxide        0.495482  -0.279630             0.720934   \n",
       "density                     0.552517   0.362615             0.025717   \n",
       "pH                         -0.267320   0.044708            -0.145854   \n",
       "sulphates                  -0.185927   0.395593            -0.188457   \n",
       "alcohol                    -0.359415  -0.256916            -0.179838   \n",
       "quality                    -0.036980  -0.200666             0.055463   \n",
       "\n",
       "                      total sulfur dioxide   density        pH  sulphates  \\\n",
       "fixed acidity                    -0.329054  0.458910 -0.252700   0.299568   \n",
       "volatile acidity                 -0.414476  0.271296  0.261454   0.225984   \n",
       "citric acid                       0.195242  0.096154 -0.329808   0.056197   \n",
       "residual sugar                    0.495482  0.552517 -0.267320  -0.185927   \n",
       "chlorides                        -0.279630  0.362615  0.044708   0.395593   \n",
       "free sulfur dioxide               0.720934  0.025717 -0.145854  -0.188457   \n",
       "total sulfur dioxide              1.000000  0.032395 -0.238413  -0.275727   \n",
       "density                           0.032395  1.000000  0.011686   0.259478   \n",
       "pH                               -0.238413  0.011686  1.000000   0.192123   \n",
       "sulphates                        -0.275727  0.259478  0.192123   1.000000   \n",
       "alcohol                          -0.265740 -0.686745  0.121248  -0.003029   \n",
       "quality                          -0.041385 -0.305858  0.019506   0.038485   \n",
       "\n",
       "                       alcohol   quality  \n",
       "fixed acidity        -0.095452 -0.076743  \n",
       "volatile acidity     -0.037640 -0.265699  \n",
       "citric acid          -0.010493  0.085532  \n",
       "residual sugar       -0.359415 -0.036980  \n",
       "chlorides            -0.256916 -0.200666  \n",
       "free sulfur dioxide  -0.179838  0.055463  \n",
       "total sulfur dioxide -0.265740 -0.041385  \n",
       "density              -0.686745 -0.305858  \n",
       "pH                    0.121248  0.019506  \n",
       "sulphates            -0.003029  0.038485  \n",
       "alcohol               1.000000  0.444319  \n",
       "quality               0.444319  1.000000  "
      ]
     },
     "execution_count": 12,
     "metadata": {},
     "output_type": "execute_result"
    }
   ],
   "source": [
    "# https://pandas.pydata.org/pandas-docs/stable/reference/api/pandas.DataFrame.corr.html\n",
    "data.corr() # for correlation "
   ]
  },
  {
   "cell_type": "code",
   "execution_count": 13,
   "metadata": {},
   "outputs": [
    {
     "data": {
      "text/plain": [
       "<matplotlib.axes._subplots.AxesSubplot at 0x7facb0ccf9b0>"
      ]
     },
     "execution_count": 13,
     "metadata": {},
     "output_type": "execute_result"
    },
    {
     "data": {
      "image/png": "[encoded data removed]",
      "text/plain": [
       "<matplotlib.figure.Figure at 0x7facb9721278>"
      ]
     },
     "metadata": {},
     "output_type": "display_data"
    }
   ],
   "source": [
    "# https://datascienceschool.net/view-notebook/4c2d5ff1caab4b21a708cc662137bc65/\n",
    "# http://seaborn.pydata.org/generated/seaborn.heatmap.html\n",
    "import seaborn as sns\n",
    "%matplotlib inline\n",
    "corr = data.corr()\n",
    "sns.heatmap(corr,\n",
    "            xticklabels=corr.columns,\n",
    "            yticklabels=corr.columns)"
   ]
  },
  {
   "cell_type": "code",
   "execution_count": 14,
   "metadata": {},
   "outputs": [
    {
     "data": {
      "text/html": [
       "<div>\n",
       "<style scoped>\n",
       "    .dataframe tbody tr th:only-of-type {\n",
       "        vertical-align: middle;\n",
       "    }\n",
       "\n",
       "    .dataframe tbody tr th {\n",
       "        vertical-align: top;\n",
       "    }\n",
       "\n",
       "    .dataframe thead th {\n",
       "        text-align: right;\n",
       "    }\n",
       "</style>\n",
       "<table border=\"1\" class=\"dataframe\">\n",
       "  <thead>\n",
       "    <tr style=\"text-align: right;\">\n",
       "      <th></th>\n",
       "      <th>fixed acidity</th>\n",
       "      <th>volatile acidity</th>\n",
       "      <th>citric acid</th>\n",
       "      <th>residual sugar</th>\n",
       "      <th>chlorides</th>\n",
       "      <th>free sulfur dioxide</th>\n",
       "      <th>total sulfur dioxide</th>\n",
       "      <th>density</th>\n",
       "      <th>pH</th>\n",
       "      <th>sulphates</th>\n",
       "      <th>alcohol</th>\n",
       "      <th>quality</th>\n",
       "    </tr>\n",
       "  </thead>\n",
       "  <tbody>\n",
       "    <tr>\n",
       "      <th>fixed acidity</th>\n",
       "      <td>1.000000</td>\n",
       "      <td>0.219008</td>\n",
       "      <td>0.324436</td>\n",
       "      <td>-0.111981</td>\n",
       "      <td>0.298195</td>\n",
       "      <td>-0.282735</td>\n",
       "      <td>-0.329054</td>\n",
       "      <td>0.458910</td>\n",
       "      <td>-0.252700</td>\n",
       "      <td>0.299568</td>\n",
       "      <td>-0.095452</td>\n",
       "      <td>-0.076743</td>\n",
       "    </tr>\n",
       "    <tr>\n",
       "      <th>volatile acidity</th>\n",
       "      <td>0.219008</td>\n",
       "      <td>1.000000</td>\n",
       "      <td>-0.377981</td>\n",
       "      <td>-0.196011</td>\n",
       "      <td>0.377124</td>\n",
       "      <td>-0.352557</td>\n",
       "      <td>-0.414476</td>\n",
       "      <td>0.271296</td>\n",
       "      <td>0.261454</td>\n",
       "      <td>0.225984</td>\n",
       "      <td>-0.037640</td>\n",
       "      <td>-0.265699</td>\n",
       "    </tr>\n",
       "    <tr>\n",
       "      <th>citric acid</th>\n",
       "      <td>0.324436</td>\n",
       "      <td>-0.377981</td>\n",
       "      <td>1.000000</td>\n",
       "      <td>0.142451</td>\n",
       "      <td>0.038998</td>\n",
       "      <td>0.133126</td>\n",
       "      <td>0.195242</td>\n",
       "      <td>0.096154</td>\n",
       "      <td>-0.329808</td>\n",
       "      <td>0.056197</td>\n",
       "      <td>-0.010493</td>\n",
       "      <td>0.085532</td>\n",
       "    </tr>\n",
       "    <tr>\n",
       "      <th>residual sugar</th>\n",
       "      <td>-0.111981</td>\n",
       "      <td>-0.196011</td>\n",
       "      <td>0.142451</td>\n",
       "      <td>1.000000</td>\n",
       "      <td>-0.128940</td>\n",
       "      <td>0.402871</td>\n",
       "      <td>0.495482</td>\n",
       "      <td>0.552517</td>\n",
       "      <td>-0.267320</td>\n",
       "      <td>-0.185927</td>\n",
       "      <td>-0.359415</td>\n",
       "      <td>-0.036980</td>\n",
       "    </tr>\n",
       "    <tr>\n",
       "      <th>chlorides</th>\n",
       "      <td>0.298195</td>\n",
       "      <td>0.377124</td>\n",
       "      <td>0.038998</td>\n",
       "      <td>-0.128940</td>\n",
       "      <td>1.000000</td>\n",
       "      <td>-0.195045</td>\n",
       "      <td>-0.279630</td>\n",
       "      <td>0.362615</td>\n",
       "      <td>0.044708</td>\n",
       "      <td>0.395593</td>\n",
       "      <td>-0.256916</td>\n",
       "      <td>-0.200666</td>\n",
       "    </tr>\n",
       "  </tbody>\n",
       "</table>\n",
       "</div>"
      ],
      "text/plain": [
       "                  fixed acidity  volatile acidity  citric acid  \\\n",
       "fixed acidity          1.000000          0.219008     0.324436   \n",
       "volatile acidity       0.219008          1.000000    -0.377981   \n",
       "citric acid            0.324436         -0.377981     1.000000   \n",
       "residual sugar        -0.111981         -0.196011     0.142451   \n",
       "chlorides              0.298195          0.377124     0.038998   \n",
       "\n",
       "                  residual sugar  chlorides  free sulfur dioxide  \\\n",
       "fixed acidity          -0.111981   0.298195            -0.282735   \n",
       "volatile acidity       -0.196011   0.377124            -0.352557   \n",
       "citric acid             0.142451   0.038998             0.133126   \n",
       "residual sugar          1.000000  -0.128940             0.402871   \n",
       "chlorides              -0.128940   1.000000            -0.195045   \n",
       "\n",
       "                  total sulfur dioxide   density        pH  sulphates  \\\n",
       "fixed acidity                -0.329054  0.458910 -0.252700   0.299568   \n",
       "volatile acidity             -0.414476  0.271296  0.261454   0.225984   \n",
       "citric acid                   0.195242  0.096154 -0.329808   0.056197   \n",
       "residual sugar                0.495482  0.552517 -0.267320  -0.185927   \n",
       "chlorides                    -0.279630  0.362615  0.044708   0.395593   \n",
       "\n",
       "                   alcohol   quality  \n",
       "fixed acidity    -0.095452 -0.076743  \n",
       "volatile acidity -0.037640 -0.265699  \n",
       "citric acid      -0.010493  0.085532  \n",
       "residual sugar   -0.359415 -0.036980  \n",
       "chlorides        -0.256916 -0.200666  "
      ]
     },
     "execution_count": 14,
     "metadata": {},
     "output_type": "execute_result"
    }
   ],
   "source": [
    "data.corr().head()"
   ]
  },
  {
   "cell_type": "markdown",
   "metadata": {},
   "source": [
    "위의 heatmap을 보면 상관관계를 수치적으로 보여주는데 밝은색일수록 양의 상관관계를 가지고 어두운 색일수록 음의 상관관계를 보여준다. 두 개의 변수간의 상관관계를 보여주기 때문에 heatmap은 대각선을 기준으로 대칭이다. \n",
    "위의 다시 상관관계 표의 상위 다섯 줄을 보면  \"fixed acidity\"는 \"volatile acidity\",\"citric acid\", \"chlorides\", \"density\", \"sulphates\"와 양의 상관관계를 보여주고 \"residual sugar\",\t\"free sulfur dioxide\",\t\"total sulfur dioxide\",\t\"pH\", , \"alcohol\", \"quality\"과는  음의 상관관계를 보여주고 있다. "
   ]
  },
  {
   "cell_type": "markdown",
   "metadata": {},
   "source": [
    "D. Z-변환을 적용하여 데이터 전처리를 수행하고, 위 B번의 통계적 특성의 변화를 확인하세요."
   ]
  },
  {
   "cell_type": "code",
   "execution_count": 15,
   "metadata": {},
   "outputs": [
    {
     "name": "stdout",
     "output_type": "stream",
     "text": [
      "Before Z-transform\n"
     ]
    },
    {
     "data": {
      "text/html": [
       "<div>\n",
       "<style scoped>\n",
       "    .dataframe tbody tr th:only-of-type {\n",
       "        vertical-align: middle;\n",
       "    }\n",
       "\n",
       "    .dataframe tbody tr th {\n",
       "        vertical-align: top;\n",
       "    }\n",
       "\n",
       "    .dataframe thead th {\n",
       "        text-align: right;\n",
       "    }\n",
       "</style>\n",
       "<table border=\"1\" class=\"dataframe\">\n",
       "  <thead>\n",
       "    <tr style=\"text-align: right;\">\n",
       "      <th></th>\n",
       "      <th>fixed acidity</th>\n",
       "      <th>volatile acidity</th>\n",
       "      <th>citric acid</th>\n",
       "      <th>residual sugar</th>\n",
       "      <th>chlorides</th>\n",
       "      <th>free sulfur dioxide</th>\n",
       "      <th>total sulfur dioxide</th>\n",
       "      <th>density</th>\n",
       "      <th>pH</th>\n",
       "      <th>sulphates</th>\n",
       "      <th>alcohol</th>\n",
       "      <th>quality</th>\n",
       "    </tr>\n",
       "  </thead>\n",
       "  <tbody>\n",
       "    <tr>\n",
       "      <th>count</th>\n",
       "      <td>6497.000000</td>\n",
       "      <td>6497.000000</td>\n",
       "      <td>6497.000000</td>\n",
       "      <td>6497.000000</td>\n",
       "      <td>6497.000000</td>\n",
       "      <td>6497.000000</td>\n",
       "      <td>6497.000000</td>\n",
       "      <td>6497.000000</td>\n",
       "      <td>6497.000000</td>\n",
       "      <td>6497.000000</td>\n",
       "      <td>6497.000000</td>\n",
       "      <td>6497.000000</td>\n",
       "    </tr>\n",
       "    <tr>\n",
       "      <th>mean</th>\n",
       "      <td>7.215307</td>\n",
       "      <td>0.339666</td>\n",
       "      <td>0.318633</td>\n",
       "      <td>5.443235</td>\n",
       "      <td>0.056034</td>\n",
       "      <td>30.525319</td>\n",
       "      <td>115.744574</td>\n",
       "      <td>0.994697</td>\n",
       "      <td>3.218501</td>\n",
       "      <td>0.531268</td>\n",
       "      <td>10.491801</td>\n",
       "      <td>5.818378</td>\n",
       "    </tr>\n",
       "    <tr>\n",
       "      <th>std</th>\n",
       "      <td>1.296434</td>\n",
       "      <td>0.164636</td>\n",
       "      <td>0.145318</td>\n",
       "      <td>4.757804</td>\n",
       "      <td>0.035034</td>\n",
       "      <td>17.749400</td>\n",
       "      <td>56.521855</td>\n",
       "      <td>0.002999</td>\n",
       "      <td>0.160787</td>\n",
       "      <td>0.148806</td>\n",
       "      <td>1.192712</td>\n",
       "      <td>0.873255</td>\n",
       "    </tr>\n",
       "    <tr>\n",
       "      <th>min</th>\n",
       "      <td>3.800000</td>\n",
       "      <td>0.080000</td>\n",
       "      <td>0.000000</td>\n",
       "      <td>0.600000</td>\n",
       "      <td>0.009000</td>\n",
       "      <td>1.000000</td>\n",
       "      <td>6.000000</td>\n",
       "      <td>0.987110</td>\n",
       "      <td>2.720000</td>\n",
       "      <td>0.220000</td>\n",
       "      <td>8.000000</td>\n",
       "      <td>3.000000</td>\n",
       "    </tr>\n",
       "    <tr>\n",
       "      <th>25%</th>\n",
       "      <td>6.400000</td>\n",
       "      <td>0.230000</td>\n",
       "      <td>0.250000</td>\n",
       "      <td>1.800000</td>\n",
       "      <td>0.038000</td>\n",
       "      <td>17.000000</td>\n",
       "      <td>77.000000</td>\n",
       "      <td>0.992340</td>\n",
       "      <td>3.110000</td>\n",
       "      <td>0.430000</td>\n",
       "      <td>9.500000</td>\n",
       "      <td>5.000000</td>\n",
       "    </tr>\n",
       "    <tr>\n",
       "      <th>50%</th>\n",
       "      <td>7.000000</td>\n",
       "      <td>0.290000</td>\n",
       "      <td>0.310000</td>\n",
       "      <td>3.000000</td>\n",
       "      <td>0.047000</td>\n",
       "      <td>29.000000</td>\n",
       "      <td>118.000000</td>\n",
       "      <td>0.994890</td>\n",
       "      <td>3.210000</td>\n",
       "      <td>0.510000</td>\n",
       "      <td>10.300000</td>\n",
       "      <td>6.000000</td>\n",
       "    </tr>\n",
       "    <tr>\n",
       "      <th>75%</th>\n",
       "      <td>7.700000</td>\n",
       "      <td>0.400000</td>\n",
       "      <td>0.390000</td>\n",
       "      <td>8.100000</td>\n",
       "      <td>0.065000</td>\n",
       "      <td>41.000000</td>\n",
       "      <td>156.000000</td>\n",
       "      <td>0.996990</td>\n",
       "      <td>3.320000</td>\n",
       "      <td>0.600000</td>\n",
       "      <td>11.300000</td>\n",
       "      <td>6.000000</td>\n",
       "    </tr>\n",
       "    <tr>\n",
       "      <th>max</th>\n",
       "      <td>15.900000</td>\n",
       "      <td>1.580000</td>\n",
       "      <td>1.660000</td>\n",
       "      <td>65.800000</td>\n",
       "      <td>0.611000</td>\n",
       "      <td>289.000000</td>\n",
       "      <td>440.000000</td>\n",
       "      <td>1.038980</td>\n",
       "      <td>4.010000</td>\n",
       "      <td>2.000000</td>\n",
       "      <td>14.900000</td>\n",
       "      <td>9.000000</td>\n",
       "    </tr>\n",
       "  </tbody>\n",
       "</table>\n",
       "</div>"
      ],
      "text/plain": [
       "       fixed acidity  volatile acidity  citric acid  residual sugar  \\\n",
       "count    6497.000000       6497.000000  6497.000000     6497.000000   \n",
       "mean        7.215307          0.339666     0.318633        5.443235   \n",
       "std         1.296434          0.164636     0.145318        4.757804   \n",
       "min         3.800000          0.080000     0.000000        0.600000   \n",
       "25%         6.400000          0.230000     0.250000        1.800000   \n",
       "50%         7.000000          0.290000     0.310000        3.000000   \n",
       "75%         7.700000          0.400000     0.390000        8.100000   \n",
       "max        15.900000          1.580000     1.660000       65.800000   \n",
       "\n",
       "         chlorides  free sulfur dioxide  total sulfur dioxide      density  \\\n",
       "count  6497.000000          6497.000000           6497.000000  6497.000000   \n",
       "mean      0.056034            30.525319            115.744574     0.994697   \n",
       "std       0.035034            17.749400             56.521855     0.002999   \n",
       "min       0.009000             1.000000              6.000000     0.987110   \n",
       "25%       0.038000            17.000000             77.000000     0.992340   \n",
       "50%       0.047000            29.000000            118.000000     0.994890   \n",
       "75%       0.065000            41.000000            156.000000     0.996990   \n",
       "max       0.611000           289.000000            440.000000     1.038980   \n",
       "\n",
       "                pH    sulphates      alcohol      quality  \n",
       "count  6497.000000  6497.000000  6497.000000  6497.000000  \n",
       "mean      3.218501     0.531268    10.491801     5.818378  \n",
       "std       0.160787     0.148806     1.192712     0.873255  \n",
       "min       2.720000     0.220000     8.000000     3.000000  \n",
       "25%       3.110000     0.430000     9.500000     5.000000  \n",
       "50%       3.210000     0.510000    10.300000     6.000000  \n",
       "75%       3.320000     0.600000    11.300000     6.000000  \n",
       "max       4.010000     2.000000    14.900000     9.000000  "
      ]
     },
     "execution_count": 15,
     "metadata": {},
     "output_type": "execute_result"
    }
   ],
   "source": [
    "import numpy as np\n",
    "print(\"Before Z-transform\")\n",
    "data.describe()"
   ]
  },
  {
   "cell_type": "code",
   "execution_count": 16,
   "metadata": {},
   "outputs": [
    {
     "name": "stdout",
     "output_type": "stream",
     "text": [
      "After Z-transform\n"
     ]
    },
    {
     "data": {
      "text/html": [
       "<div>\n",
       "<style scoped>\n",
       "    .dataframe tbody tr th:only-of-type {\n",
       "        vertical-align: middle;\n",
       "    }\n",
       "\n",
       "    .dataframe tbody tr th {\n",
       "        vertical-align: top;\n",
       "    }\n",
       "\n",
       "    .dataframe thead th {\n",
       "        text-align: right;\n",
       "    }\n",
       "</style>\n",
       "<table border=\"1\" class=\"dataframe\">\n",
       "  <thead>\n",
       "    <tr style=\"text-align: right;\">\n",
       "      <th></th>\n",
       "      <th>fixed acidity</th>\n",
       "      <th>volatile acidity</th>\n",
       "      <th>citric acid</th>\n",
       "      <th>residual sugar</th>\n",
       "      <th>chlorides</th>\n",
       "      <th>free sulfur dioxide</th>\n",
       "      <th>total sulfur dioxide</th>\n",
       "      <th>density</th>\n",
       "      <th>pH</th>\n",
       "      <th>sulphates</th>\n",
       "      <th>alcohol</th>\n",
       "      <th>quality</th>\n",
       "    </tr>\n",
       "  </thead>\n",
       "  <tbody>\n",
       "    <tr>\n",
       "      <th>count</th>\n",
       "      <td>6.497000e+03</td>\n",
       "      <td>6.497000e+03</td>\n",
       "      <td>6.497000e+03</td>\n",
       "      <td>6.497000e+03</td>\n",
       "      <td>6.497000e+03</td>\n",
       "      <td>6.497000e+03</td>\n",
       "      <td>6.497000e+03</td>\n",
       "      <td>6.497000e+03</td>\n",
       "      <td>6.497000e+03</td>\n",
       "      <td>6.497000e+03</td>\n",
       "      <td>6.497000e+03</td>\n",
       "      <td>6.497000e+03</td>\n",
       "    </tr>\n",
       "    <tr>\n",
       "      <th>mean</th>\n",
       "      <td>3.009718e-15</td>\n",
       "      <td>-2.754242e-14</td>\n",
       "      <td>4.815986e-14</td>\n",
       "      <td>-1.242383e-15</td>\n",
       "      <td>1.410368e-14</td>\n",
       "      <td>-8.749179e-17</td>\n",
       "      <td>-6.999344e-17</td>\n",
       "      <td>2.181030e-12</td>\n",
       "      <td>-3.321189e-14</td>\n",
       "      <td>-6.491891e-15</td>\n",
       "      <td>-1.240634e-14</td>\n",
       "      <td>-3.018467e-16</td>\n",
       "    </tr>\n",
       "    <tr>\n",
       "      <th>std</th>\n",
       "      <td>1.000077e+00</td>\n",
       "      <td>1.000077e+00</td>\n",
       "      <td>1.000077e+00</td>\n",
       "      <td>1.000077e+00</td>\n",
       "      <td>1.000077e+00</td>\n",
       "      <td>1.000077e+00</td>\n",
       "      <td>1.000077e+00</td>\n",
       "      <td>1.000077e+00</td>\n",
       "      <td>1.000077e+00</td>\n",
       "      <td>1.000077e+00</td>\n",
       "      <td>1.000077e+00</td>\n",
       "      <td>1.000077e+00</td>\n",
       "    </tr>\n",
       "    <tr>\n",
       "      <th>min</th>\n",
       "      <td>-2.634589e+00</td>\n",
       "      <td>-1.577330e+00</td>\n",
       "      <td>-2.192833e+00</td>\n",
       "      <td>-1.018034e+00</td>\n",
       "      <td>-1.342639e+00</td>\n",
       "      <td>-1.663583e+00</td>\n",
       "      <td>-1.941780e+00</td>\n",
       "      <td>-2.530192e+00</td>\n",
       "      <td>-3.100615e+00</td>\n",
       "      <td>-2.091935e+00</td>\n",
       "      <td>-2.089350e+00</td>\n",
       "      <td>-3.227687e+00</td>\n",
       "    </tr>\n",
       "    <tr>\n",
       "      <th>25%</th>\n",
       "      <td>-6.289329e-01</td>\n",
       "      <td>-6.661613e-01</td>\n",
       "      <td>-4.723335e-01</td>\n",
       "      <td>-7.657978e-01</td>\n",
       "      <td>-5.147986e-01</td>\n",
       "      <td>-7.620742e-01</td>\n",
       "      <td>-6.855323e-01</td>\n",
       "      <td>-7.859527e-01</td>\n",
       "      <td>-6.748622e-01</td>\n",
       "      <td>-6.805919e-01</td>\n",
       "      <td>-8.316152e-01</td>\n",
       "      <td>-9.372296e-01</td>\n",
       "    </tr>\n",
       "    <tr>\n",
       "      <th>50%</th>\n",
       "      <td>-1.660892e-01</td>\n",
       "      <td>-3.016939e-01</td>\n",
       "      <td>-5.941375e-02</td>\n",
       "      <td>-5.135612e-01</td>\n",
       "      <td>-2.578826e-01</td>\n",
       "      <td>-8.594301e-02</td>\n",
       "      <td>3.990667e-02</td>\n",
       "      <td>6.448888e-02</td>\n",
       "      <td>-5.287424e-02</td>\n",
       "      <td>-1.429373e-01</td>\n",
       "      <td>-1.608231e-01</td>\n",
       "      <td>2.079990e-01</td>\n",
       "    </tr>\n",
       "    <tr>\n",
       "      <th>75%</th>\n",
       "      <td>3.738951e-01</td>\n",
       "      <td>3.664962e-01</td>\n",
       "      <td>4.911459e-01</td>\n",
       "      <td>5.584445e-01</td>\n",
       "      <td>2.559494e-01</td>\n",
       "      <td>5.901882e-01</td>\n",
       "      <td>7.122647e-01</td>\n",
       "      <td>7.648525e-01</td>\n",
       "      <td>6.313125e-01</td>\n",
       "      <td>4.619241e-01</td>\n",
       "      <td>6.776670e-01</td>\n",
       "      <td>2.079990e-01</td>\n",
       "    </tr>\n",
       "    <tr>\n",
       "      <th>max</th>\n",
       "      <td>6.699425e+00</td>\n",
       "      <td>7.534354e+00</td>\n",
       "      <td>9.231281e+00</td>\n",
       "      <td>1.268682e+01</td>\n",
       "      <td>1.584219e+01</td>\n",
       "      <td>1.456357e+01</td>\n",
       "      <td>5.737257e+00</td>\n",
       "      <td>1.476879e+01</td>\n",
       "      <td>4.923029e+00</td>\n",
       "      <td>9.870879e+00</td>\n",
       "      <td>3.696231e+00</td>\n",
       "      <td>3.643685e+00</td>\n",
       "    </tr>\n",
       "  </tbody>\n",
       "</table>\n",
       "</div>"
      ],
      "text/plain": [
       "       fixed acidity  volatile acidity   citric acid  residual sugar  \\\n",
       "count   6.497000e+03      6.497000e+03  6.497000e+03    6.497000e+03   \n",
       "mean    3.009718e-15     -2.754242e-14  4.815986e-14   -1.242383e-15   \n",
       "std     1.000077e+00      1.000077e+00  1.000077e+00    1.000077e+00   \n",
       "min    -2.634589e+00     -1.577330e+00 -2.192833e+00   -1.018034e+00   \n",
       "25%    -6.289329e-01     -6.661613e-01 -4.723335e-01   -7.657978e-01   \n",
       "50%    -1.660892e-01     -3.016939e-01 -5.941375e-02   -5.135612e-01   \n",
       "75%     3.738951e-01      3.664962e-01  4.911459e-01    5.584445e-01   \n",
       "max     6.699425e+00      7.534354e+00  9.231281e+00    1.268682e+01   \n",
       "\n",
       "          chlorides  free sulfur dioxide  total sulfur dioxide       density  \\\n",
       "count  6.497000e+03         6.497000e+03          6.497000e+03  6.497000e+03   \n",
       "mean   1.410368e-14        -8.749179e-17         -6.999344e-17  2.181030e-12   \n",
       "std    1.000077e+00         1.000077e+00          1.000077e+00  1.000077e+00   \n",
       "min   -1.342639e+00        -1.663583e+00         -1.941780e+00 -2.530192e+00   \n",
       "25%   -5.147986e-01        -7.620742e-01         -6.855323e-01 -7.859527e-01   \n",
       "50%   -2.578826e-01        -8.594301e-02          3.990667e-02  6.448888e-02   \n",
       "75%    2.559494e-01         5.901882e-01          7.122647e-01  7.648525e-01   \n",
       "max    1.584219e+01         1.456357e+01          5.737257e+00  1.476879e+01   \n",
       "\n",
       "                 pH     sulphates       alcohol       quality  \n",
       "count  6.497000e+03  6.497000e+03  6.497000e+03  6.497000e+03  \n",
       "mean  -3.321189e-14 -6.491891e-15 -1.240634e-14 -3.018467e-16  \n",
       "std    1.000077e+00  1.000077e+00  1.000077e+00  1.000077e+00  \n",
       "min   -3.100615e+00 -2.091935e+00 -2.089350e+00 -3.227687e+00  \n",
       "25%   -6.748622e-01 -6.805919e-01 -8.316152e-01 -9.372296e-01  \n",
       "50%   -5.287424e-02 -1.429373e-01 -1.608231e-01  2.079990e-01  \n",
       "75%    6.313125e-01  4.619241e-01  6.776670e-01  2.079990e-01  \n",
       "max    4.923029e+00  9.870879e+00  3.696231e+00  3.643685e+00  "
      ]
     },
     "execution_count": 16,
     "metadata": {},
     "output_type": "execute_result"
    }
   ],
   "source": [
    "z = (data - np.mean(data, axis=0))/np.std(data, axis=0)\n",
    "print(\"After Z-transform\")\n",
    "z.describe()"
   ]
  },
  {
   "cell_type": "code",
   "execution_count": 17,
   "metadata": {},
   "outputs": [
    {
     "name": "stdout",
     "output_type": "stream",
     "text": [
      "Data boxplot\n"
     ]
    },
    {
     "data": {
      "text/plain": [
       "<matplotlib.axes._subplots.AxesSubplot at 0x7facb0c77b70>"
      ]
     },
     "execution_count": 17,
     "metadata": {},
     "output_type": "execute_result"
    },
    {
     "data": {
      "image/png": "[encoded data removed]",
      "text/plain": [
       "<matplotlib.figure.Figure at 0x7facb0c36a90>"
      ]
     },
     "metadata": {},
     "output_type": "display_data"
    }
   ],
   "source": [
    "#https://pandas.pydata.org/pandas-docs/stable/reference/api/pandas.DataFrame.boxplot.html\n",
    "print(\"Data boxplot\")\n",
    "data.boxplot()"
   ]
  },
  {
   "cell_type": "code",
   "execution_count": 18,
   "metadata": {},
   "outputs": [
    {
     "name": "stdout",
     "output_type": "stream",
     "text": [
      "Z-transform boxplot\n"
     ]
    },
    {
     "data": {
      "text/plain": [
       "<matplotlib.axes._subplots.AxesSubplot at 0x7facb0a43128>"
      ]
     },
     "execution_count": 18,
     "metadata": {},
     "output_type": "execute_result"
    },
    {
     "data": {
      "image/png": "[encoded data removed]",
      "text/plain": [
       "<matplotlib.figure.Figure at 0x7facb0aa4f98>"
      ]
     },
     "metadata": {},
     "output_type": "display_data"
    }
   ],
   "source": [
    "print(\"Z-transform boxplot\")\n",
    "z.boxplot()"
   ]
  },
  {
   "cell_type": "markdown",
   "metadata": {},
   "source": [
    "위의 결과를 z-transform 평균과 표준편차를 정규분포의 평균과 분산인 (0, 1)로 변환되었다."
   ]
  },
  {
   "cell_type": "markdown",
   "metadata": {},
   "source": [
    "E. 훈련 집합과 시험 집합을 7:3으로 구분하여 선형회귀 모델을 적용하여 와인의 질을 예측 분석해보세요."
   ]
  },
  {
   "cell_type": "code",
   "execution_count": 19,
   "metadata": {},
   "outputs": [
    {
     "name": "stdout",
     "output_type": "stream",
     "text": [
      "x.shape: (6497, 11)\n"
     ]
    },
    {
     "data": {
      "text/html": [
       "<div>\n",
       "<style scoped>\n",
       "    .dataframe tbody tr th:only-of-type {\n",
       "        vertical-align: middle;\n",
       "    }\n",
       "\n",
       "    .dataframe tbody tr th {\n",
       "        vertical-align: top;\n",
       "    }\n",
       "\n",
       "    .dataframe thead th {\n",
       "        text-align: right;\n",
       "    }\n",
       "</style>\n",
       "<table border=\"1\" class=\"dataframe\">\n",
       "  <thead>\n",
       "    <tr style=\"text-align: right;\">\n",
       "      <th></th>\n",
       "      <th>fixed acidity</th>\n",
       "      <th>volatile acidity</th>\n",
       "      <th>citric acid</th>\n",
       "      <th>residual sugar</th>\n",
       "      <th>chlorides</th>\n",
       "      <th>free sulfur dioxide</th>\n",
       "      <th>total sulfur dioxide</th>\n",
       "      <th>density</th>\n",
       "      <th>pH</th>\n",
       "      <th>sulphates</th>\n",
       "      <th>alcohol</th>\n",
       "    </tr>\n",
       "  </thead>\n",
       "  <tbody>\n",
       "    <tr>\n",
       "      <th>0</th>\n",
       "      <td>7.4</td>\n",
       "      <td>0.70</td>\n",
       "      <td>0.00</td>\n",
       "      <td>1.9</td>\n",
       "      <td>0.076</td>\n",
       "      <td>11.0</td>\n",
       "      <td>34.0</td>\n",
       "      <td>0.9978</td>\n",
       "      <td>3.51</td>\n",
       "      <td>0.56</td>\n",
       "      <td>9.4</td>\n",
       "    </tr>\n",
       "    <tr>\n",
       "      <th>1</th>\n",
       "      <td>7.8</td>\n",
       "      <td>0.88</td>\n",
       "      <td>0.00</td>\n",
       "      <td>2.6</td>\n",
       "      <td>0.098</td>\n",
       "      <td>25.0</td>\n",
       "      <td>67.0</td>\n",
       "      <td>0.9968</td>\n",
       "      <td>3.20</td>\n",
       "      <td>0.68</td>\n",
       "      <td>9.8</td>\n",
       "    </tr>\n",
       "    <tr>\n",
       "      <th>2</th>\n",
       "      <td>7.8</td>\n",
       "      <td>0.76</td>\n",
       "      <td>0.04</td>\n",
       "      <td>2.3</td>\n",
       "      <td>0.092</td>\n",
       "      <td>15.0</td>\n",
       "      <td>54.0</td>\n",
       "      <td>0.9970</td>\n",
       "      <td>3.26</td>\n",
       "      <td>0.65</td>\n",
       "      <td>9.8</td>\n",
       "    </tr>\n",
       "    <tr>\n",
       "      <th>3</th>\n",
       "      <td>11.2</td>\n",
       "      <td>0.28</td>\n",
       "      <td>0.56</td>\n",
       "      <td>1.9</td>\n",
       "      <td>0.075</td>\n",
       "      <td>17.0</td>\n",
       "      <td>60.0</td>\n",
       "      <td>0.9980</td>\n",
       "      <td>3.16</td>\n",
       "      <td>0.58</td>\n",
       "      <td>9.8</td>\n",
       "    </tr>\n",
       "    <tr>\n",
       "      <th>4</th>\n",
       "      <td>7.4</td>\n",
       "      <td>0.70</td>\n",
       "      <td>0.00</td>\n",
       "      <td>1.9</td>\n",
       "      <td>0.076</td>\n",
       "      <td>11.0</td>\n",
       "      <td>34.0</td>\n",
       "      <td>0.9978</td>\n",
       "      <td>3.51</td>\n",
       "      <td>0.56</td>\n",
       "      <td>9.4</td>\n",
       "    </tr>\n",
       "  </tbody>\n",
       "</table>\n",
       "</div>"
      ],
      "text/plain": [
       "   fixed acidity  volatile acidity  citric acid  residual sugar  chlorides  \\\n",
       "0            7.4              0.70         0.00             1.9      0.076   \n",
       "1            7.8              0.88         0.00             2.6      0.098   \n",
       "2            7.8              0.76         0.04             2.3      0.092   \n",
       "3           11.2              0.28         0.56             1.9      0.075   \n",
       "4            7.4              0.70         0.00             1.9      0.076   \n",
       "\n",
       "   free sulfur dioxide  total sulfur dioxide  density    pH  sulphates  \\\n",
       "0                 11.0                  34.0   0.9978  3.51       0.56   \n",
       "1                 25.0                  67.0   0.9968  3.20       0.68   \n",
       "2                 15.0                  54.0   0.9970  3.26       0.65   \n",
       "3                 17.0                  60.0   0.9980  3.16       0.58   \n",
       "4                 11.0                  34.0   0.9978  3.51       0.56   \n",
       "\n",
       "   alcohol  \n",
       "0      9.4  \n",
       "1      9.8  \n",
       "2      9.8  \n",
       "3      9.8  \n",
       "4      9.4  "
      ]
     },
     "execution_count": 19,
     "metadata": {},
     "output_type": "execute_result"
    }
   ],
   "source": [
    "from sklearn.model_selection import train_test_split\n",
    "from sklearn.linear_model import LinearRegression\n",
    "from sklearn.metrics import mean_squared_error, r2_score\n",
    "x = data.drop([\"quality\"], axis=1)\n",
    "y = pd.DataFrame(data[\"quality\"])\n",
    "print(\"x.shape: {}\".format(x.shape))\n",
    "x.head()"
   ]
  },
  {
   "cell_type": "code",
   "execution_count": 20,
   "metadata": {},
   "outputs": [
    {
     "name": "stdout",
     "output_type": "stream",
     "text": [
      "y.shape: (6497, 1)\n"
     ]
    },
    {
     "data": {
      "text/html": [
       "<div>\n",
       "<style scoped>\n",
       "    .dataframe tbody tr th:only-of-type {\n",
       "        vertical-align: middle;\n",
       "    }\n",
       "\n",
       "    .dataframe tbody tr th {\n",
       "        vertical-align: top;\n",
       "    }\n",
       "\n",
       "    .dataframe thead th {\n",
       "        text-align: right;\n",
       "    }\n",
       "</style>\n",
       "<table border=\"1\" class=\"dataframe\">\n",
       "  <thead>\n",
       "    <tr style=\"text-align: right;\">\n",
       "      <th></th>\n",
       "      <th>quality</th>\n",
       "    </tr>\n",
       "  </thead>\n",
       "  <tbody>\n",
       "    <tr>\n",
       "      <th>0</th>\n",
       "      <td>5</td>\n",
       "    </tr>\n",
       "    <tr>\n",
       "      <th>1</th>\n",
       "      <td>5</td>\n",
       "    </tr>\n",
       "    <tr>\n",
       "      <th>2</th>\n",
       "      <td>5</td>\n",
       "    </tr>\n",
       "    <tr>\n",
       "      <th>3</th>\n",
       "      <td>6</td>\n",
       "    </tr>\n",
       "    <tr>\n",
       "      <th>4</th>\n",
       "      <td>5</td>\n",
       "    </tr>\n",
       "  </tbody>\n",
       "</table>\n",
       "</div>"
      ],
      "text/plain": [
       "   quality\n",
       "0        5\n",
       "1        5\n",
       "2        5\n",
       "3        6\n",
       "4        5"
      ]
     },
     "execution_count": 20,
     "metadata": {},
     "output_type": "execute_result"
    }
   ],
   "source": [
    "print(\"y.shape: {}\".format(y.shape))\n",
    "y.head()"
   ]
  },
  {
   "cell_type": "code",
   "execution_count": 21,
   "metadata": {},
   "outputs": [
    {
     "name": "stdout",
     "output_type": "stream",
     "text": [
      "x_train.shape: (4547, 11)\n"
     ]
    },
    {
     "data": {
      "text/html": [
       "<div>\n",
       "<style scoped>\n",
       "    .dataframe tbody tr th:only-of-type {\n",
       "        vertical-align: middle;\n",
       "    }\n",
       "\n",
       "    .dataframe tbody tr th {\n",
       "        vertical-align: top;\n",
       "    }\n",
       "\n",
       "    .dataframe thead th {\n",
       "        text-align: right;\n",
       "    }\n",
       "</style>\n",
       "<table border=\"1\" class=\"dataframe\">\n",
       "  <thead>\n",
       "    <tr style=\"text-align: right;\">\n",
       "      <th></th>\n",
       "      <th>fixed acidity</th>\n",
       "      <th>volatile acidity</th>\n",
       "      <th>citric acid</th>\n",
       "      <th>residual sugar</th>\n",
       "      <th>chlorides</th>\n",
       "      <th>free sulfur dioxide</th>\n",
       "      <th>total sulfur dioxide</th>\n",
       "      <th>density</th>\n",
       "      <th>pH</th>\n",
       "      <th>sulphates</th>\n",
       "      <th>alcohol</th>\n",
       "    </tr>\n",
       "  </thead>\n",
       "  <tbody>\n",
       "    <tr>\n",
       "      <th>4452</th>\n",
       "      <td>6.3</td>\n",
       "      <td>0.39</td>\n",
       "      <td>0.22</td>\n",
       "      <td>2.80</td>\n",
       "      <td>0.048</td>\n",
       "      <td>53.0</td>\n",
       "      <td>173.0</td>\n",
       "      <td>0.99304</td>\n",
       "      <td>3.24</td>\n",
       "      <td>0.45</td>\n",
       "      <td>9.8</td>\n",
       "    </tr>\n",
       "    <tr>\n",
       "      <th>4666</th>\n",
       "      <td>6.4</td>\n",
       "      <td>0.31</td>\n",
       "      <td>0.53</td>\n",
       "      <td>8.80</td>\n",
       "      <td>0.057</td>\n",
       "      <td>36.0</td>\n",
       "      <td>221.0</td>\n",
       "      <td>0.99642</td>\n",
       "      <td>3.17</td>\n",
       "      <td>0.44</td>\n",
       "      <td>9.1</td>\n",
       "    </tr>\n",
       "    <tr>\n",
       "      <th>2333</th>\n",
       "      <td>6.8</td>\n",
       "      <td>0.37</td>\n",
       "      <td>0.28</td>\n",
       "      <td>1.90</td>\n",
       "      <td>0.024</td>\n",
       "      <td>64.0</td>\n",
       "      <td>106.0</td>\n",
       "      <td>0.98993</td>\n",
       "      <td>3.45</td>\n",
       "      <td>0.60</td>\n",
       "      <td>12.6</td>\n",
       "    </tr>\n",
       "    <tr>\n",
       "      <th>2473</th>\n",
       "      <td>6.0</td>\n",
       "      <td>0.29</td>\n",
       "      <td>0.21</td>\n",
       "      <td>15.55</td>\n",
       "      <td>0.043</td>\n",
       "      <td>20.0</td>\n",
       "      <td>142.0</td>\n",
       "      <td>0.99658</td>\n",
       "      <td>3.11</td>\n",
       "      <td>0.54</td>\n",
       "      <td>10.1</td>\n",
       "    </tr>\n",
       "    <tr>\n",
       "      <th>840</th>\n",
       "      <td>7.6</td>\n",
       "      <td>0.33</td>\n",
       "      <td>0.35</td>\n",
       "      <td>6.30</td>\n",
       "      <td>0.036</td>\n",
       "      <td>12.0</td>\n",
       "      <td>126.0</td>\n",
       "      <td>0.99240</td>\n",
       "      <td>3.16</td>\n",
       "      <td>0.39</td>\n",
       "      <td>12.0</td>\n",
       "    </tr>\n",
       "  </tbody>\n",
       "</table>\n",
       "</div>"
      ],
      "text/plain": [
       "      fixed acidity  volatile acidity  citric acid  residual sugar  chlorides  \\\n",
       "4452            6.3              0.39         0.22            2.80      0.048   \n",
       "4666            6.4              0.31         0.53            8.80      0.057   \n",
       "2333            6.8              0.37         0.28            1.90      0.024   \n",
       "2473            6.0              0.29         0.21           15.55      0.043   \n",
       "840             7.6              0.33         0.35            6.30      0.036   \n",
       "\n",
       "      free sulfur dioxide  total sulfur dioxide  density    pH  sulphates  \\\n",
       "4452                 53.0                 173.0  0.99304  3.24       0.45   \n",
       "4666                 36.0                 221.0  0.99642  3.17       0.44   \n",
       "2333                 64.0                 106.0  0.98993  3.45       0.60   \n",
       "2473                 20.0                 142.0  0.99658  3.11       0.54   \n",
       "840                  12.0                 126.0  0.99240  3.16       0.39   \n",
       "\n",
       "      alcohol  \n",
       "4452      9.8  \n",
       "4666      9.1  \n",
       "2333     12.6  \n",
       "2473     10.1  \n",
       "840      12.0  "
      ]
     },
     "execution_count": 21,
     "metadata": {},
     "output_type": "execute_result"
    }
   ],
   "source": [
    "x_train, x_test, y_train, y_test = train_test_split(x,y,test_size=0.3)\n",
    "print(\"x_train.shape: {}\".format(x_train.shape))\n",
    "x_train.head()"
   ]
  },
  {
   "cell_type": "code",
   "execution_count": 22,
   "metadata": {},
   "outputs": [
    {
     "name": "stdout",
     "output_type": "stream",
     "text": [
      "x_test.shape: (1950, 11)\n"
     ]
    },
    {
     "data": {
      "text/html": [
       "<div>\n",
       "<style scoped>\n",
       "    .dataframe tbody tr th:only-of-type {\n",
       "        vertical-align: middle;\n",
       "    }\n",
       "\n",
       "    .dataframe tbody tr th {\n",
       "        vertical-align: top;\n",
       "    }\n",
       "\n",
       "    .dataframe thead th {\n",
       "        text-align: right;\n",
       "    }\n",
       "</style>\n",
       "<table border=\"1\" class=\"dataframe\">\n",
       "  <thead>\n",
       "    <tr style=\"text-align: right;\">\n",
       "      <th></th>\n",
       "      <th>fixed acidity</th>\n",
       "      <th>volatile acidity</th>\n",
       "      <th>citric acid</th>\n",
       "      <th>residual sugar</th>\n",
       "      <th>chlorides</th>\n",
       "      <th>free sulfur dioxide</th>\n",
       "      <th>total sulfur dioxide</th>\n",
       "      <th>density</th>\n",
       "      <th>pH</th>\n",
       "      <th>sulphates</th>\n",
       "      <th>alcohol</th>\n",
       "    </tr>\n",
       "  </thead>\n",
       "  <tbody>\n",
       "    <tr>\n",
       "      <th>122</th>\n",
       "      <td>7.3</td>\n",
       "      <td>0.695</td>\n",
       "      <td>0.00</td>\n",
       "      <td>2.5</td>\n",
       "      <td>0.075</td>\n",
       "      <td>3.0</td>\n",
       "      <td>13.0</td>\n",
       "      <td>0.99800</td>\n",
       "      <td>3.49</td>\n",
       "      <td>0.52</td>\n",
       "      <td>9.2</td>\n",
       "    </tr>\n",
       "    <tr>\n",
       "      <th>4141</th>\n",
       "      <td>6.8</td>\n",
       "      <td>0.280</td>\n",
       "      <td>0.29</td>\n",
       "      <td>11.9</td>\n",
       "      <td>0.052</td>\n",
       "      <td>51.0</td>\n",
       "      <td>149.0</td>\n",
       "      <td>0.99544</td>\n",
       "      <td>3.02</td>\n",
       "      <td>0.58</td>\n",
       "      <td>10.4</td>\n",
       "    </tr>\n",
       "    <tr>\n",
       "      <th>1275</th>\n",
       "      <td>6.2</td>\n",
       "      <td>0.220</td>\n",
       "      <td>0.27</td>\n",
       "      <td>1.5</td>\n",
       "      <td>0.064</td>\n",
       "      <td>20.0</td>\n",
       "      <td>132.0</td>\n",
       "      <td>0.99380</td>\n",
       "      <td>3.22</td>\n",
       "      <td>0.46</td>\n",
       "      <td>9.2</td>\n",
       "    </tr>\n",
       "    <tr>\n",
       "      <th>275</th>\n",
       "      <td>6.6</td>\n",
       "      <td>0.190</td>\n",
       "      <td>0.41</td>\n",
       "      <td>8.9</td>\n",
       "      <td>0.046</td>\n",
       "      <td>51.0</td>\n",
       "      <td>169.0</td>\n",
       "      <td>0.99540</td>\n",
       "      <td>3.14</td>\n",
       "      <td>0.57</td>\n",
       "      <td>9.8</td>\n",
       "    </tr>\n",
       "    <tr>\n",
       "      <th>1046</th>\n",
       "      <td>7.6</td>\n",
       "      <td>0.780</td>\n",
       "      <td>0.00</td>\n",
       "      <td>1.7</td>\n",
       "      <td>0.076</td>\n",
       "      <td>33.0</td>\n",
       "      <td>45.0</td>\n",
       "      <td>0.99612</td>\n",
       "      <td>3.31</td>\n",
       "      <td>0.62</td>\n",
       "      <td>10.7</td>\n",
       "    </tr>\n",
       "  </tbody>\n",
       "</table>\n",
       "</div>"
      ],
      "text/plain": [
       "      fixed acidity  volatile acidity  citric acid  residual sugar  chlorides  \\\n",
       "122             7.3             0.695         0.00             2.5      0.075   \n",
       "4141            6.8             0.280         0.29            11.9      0.052   \n",
       "1275            6.2             0.220         0.27             1.5      0.064   \n",
       "275             6.6             0.190         0.41             8.9      0.046   \n",
       "1046            7.6             0.780         0.00             1.7      0.076   \n",
       "\n",
       "      free sulfur dioxide  total sulfur dioxide  density    pH  sulphates  \\\n",
       "122                   3.0                  13.0  0.99800  3.49       0.52   \n",
       "4141                 51.0                 149.0  0.99544  3.02       0.58   \n",
       "1275                 20.0                 132.0  0.99380  3.22       0.46   \n",
       "275                  51.0                 169.0  0.99540  3.14       0.57   \n",
       "1046                 33.0                  45.0  0.99612  3.31       0.62   \n",
       "\n",
       "      alcohol  \n",
       "122       9.2  \n",
       "4141     10.4  \n",
       "1275      9.2  \n",
       "275       9.8  \n",
       "1046     10.7  "
      ]
     },
     "execution_count": 22,
     "metadata": {},
     "output_type": "execute_result"
    }
   ],
   "source": [
    "print(\"x_test.shape: {}\".format(x_test.shape))\n",
    "x_test.head()"
   ]
  },
  {
   "cell_type": "code",
   "execution_count": 23,
   "metadata": {},
   "outputs": [
    {
     "name": "stdout",
     "output_type": "stream",
     "text": [
      "y_train.shape: (4547, 1)\n"
     ]
    },
    {
     "data": {
      "text/html": [
       "<div>\n",
       "<style scoped>\n",
       "    .dataframe tbody tr th:only-of-type {\n",
       "        vertical-align: middle;\n",
       "    }\n",
       "\n",
       "    .dataframe tbody tr th {\n",
       "        vertical-align: top;\n",
       "    }\n",
       "\n",
       "    .dataframe thead th {\n",
       "        text-align: right;\n",
       "    }\n",
       "</style>\n",
       "<table border=\"1\" class=\"dataframe\">\n",
       "  <thead>\n",
       "    <tr style=\"text-align: right;\">\n",
       "      <th></th>\n",
       "      <th>quality</th>\n",
       "    </tr>\n",
       "  </thead>\n",
       "  <tbody>\n",
       "    <tr>\n",
       "      <th>4452</th>\n",
       "      <td>5</td>\n",
       "    </tr>\n",
       "    <tr>\n",
       "      <th>4666</th>\n",
       "      <td>5</td>\n",
       "    </tr>\n",
       "    <tr>\n",
       "      <th>2333</th>\n",
       "      <td>8</td>\n",
       "    </tr>\n",
       "    <tr>\n",
       "      <th>2473</th>\n",
       "      <td>6</td>\n",
       "    </tr>\n",
       "    <tr>\n",
       "      <th>840</th>\n",
       "      <td>7</td>\n",
       "    </tr>\n",
       "  </tbody>\n",
       "</table>\n",
       "</div>"
      ],
      "text/plain": [
       "      quality\n",
       "4452        5\n",
       "4666        5\n",
       "2333        8\n",
       "2473        6\n",
       "840         7"
      ]
     },
     "execution_count": 23,
     "metadata": {},
     "output_type": "execute_result"
    }
   ],
   "source": [
    "print(\"y_train.shape: {}\".format(y_train.shape))\n",
    "y_train.head()"
   ]
  },
  {
   "cell_type": "code",
   "execution_count": 24,
   "metadata": {},
   "outputs": [
    {
     "name": "stdout",
     "output_type": "stream",
     "text": [
      "y_test.shape: (1950, 1)\n"
     ]
    },
    {
     "data": {
      "text/html": [
       "<div>\n",
       "<style scoped>\n",
       "    .dataframe tbody tr th:only-of-type {\n",
       "        vertical-align: middle;\n",
       "    }\n",
       "\n",
       "    .dataframe tbody tr th {\n",
       "        vertical-align: top;\n",
       "    }\n",
       "\n",
       "    .dataframe thead th {\n",
       "        text-align: right;\n",
       "    }\n",
       "</style>\n",
       "<table border=\"1\" class=\"dataframe\">\n",
       "  <thead>\n",
       "    <tr style=\"text-align: right;\">\n",
       "      <th></th>\n",
       "      <th>quality</th>\n",
       "    </tr>\n",
       "  </thead>\n",
       "  <tbody>\n",
       "    <tr>\n",
       "      <th>122</th>\n",
       "      <td>5</td>\n",
       "    </tr>\n",
       "    <tr>\n",
       "      <th>4141</th>\n",
       "      <td>6</td>\n",
       "    </tr>\n",
       "    <tr>\n",
       "      <th>1275</th>\n",
       "      <td>6</td>\n",
       "    </tr>\n",
       "    <tr>\n",
       "      <th>275</th>\n",
       "      <td>6</td>\n",
       "    </tr>\n",
       "    <tr>\n",
       "      <th>1046</th>\n",
       "      <td>6</td>\n",
       "    </tr>\n",
       "  </tbody>\n",
       "</table>\n",
       "</div>"
      ],
      "text/plain": [
       "      quality\n",
       "122         5\n",
       "4141        6\n",
       "1275        6\n",
       "275         6\n",
       "1046        6"
      ]
     },
     "execution_count": 24,
     "metadata": {},
     "output_type": "execute_result"
    }
   ],
   "source": [
    "print(\"y_test.shape: {}\".format(y_test.shape))\n",
    "y_test.head()"
   ]
  },
  {
   "cell_type": "code",
   "execution_count": 25,
   "metadata": {},
   "outputs": [
    {
     "name": "stdout",
     "output_type": "stream",
     "text": [
      "mse:0.5526169612102436\n",
      "r2_score: 0.2680114929789291\n"
     ]
    }
   ],
   "source": [
    "#https://scikit-learn.org/stable/modules/generated/sklearn.linear_model.LinearRegression.html\n",
    "model  = LinearRegression()\n",
    "model.fit(x_train, y_train)\n",
    "y_pred = model.predict(x_test)\n",
    "mse = mean_squared_error(y_test, y_pred)\n",
    "r2 = r2_score(y_test, y_pred)\n",
    "print(\"mse:{}\".format(mse))\n",
    "print(\"r2_score: {}\".format(r2))"
   ]
  },
  {
   "cell_type": "markdown",
   "metadata": {},
   "source": [
    "data set 7:3으로 나누어 Linear regression model를 quality 값을 예측한 결과는 위와 같다. "
   ]
  },
  {
   "cell_type": "markdown",
   "metadata": {},
   "source": [
    "# Reference \n",
    "\n",
    " - Korean ver.\n",
    " \n",
    "  - [projection matrix and subspace](https://twlab.tistory.com/34)\n",
    "  \n",
    "  - [Newton's method on darkprogrammer](https://darkpgmr.tistory.com/58)\n",
    "  \n",
    " - English ver. \n",
    "  \n",
    "  - [Mean Vector and Covariance Matrix](https://www.itl.nist.gov/div898/handbook/pmc/section5/pmc541.htm)\n",
    "  \n",
    "  - [Calculating the sampel covariance on wikipedia](https://en.wikipedia.org/wiki/Sample_mean_and_covariance)\n",
    "  \n",
    "  - [Covariance on wikipedia](https://en.wikipedia.org/wiki/Covariance)\n",
    "  \n",
    "  - [Newton's method on wikipedia](https://en.wikipedia.org/wiki/Newton%27s_method)\n",
    "  \n",
    "  - [Perceptron Learning Algorithm: A Graphical Explanation Of why It works](https://towardsdatascience.com/perceptron-learning-algorithm-d5db0deab975)"
   ]
  }
 ],
 "metadata": {
  "kernelspec": {
   "display_name": "Python 3",
   "language": "python",
   "name": "python3"
  },
  "language_info": {
   "codemirror_mode": {
    "name": "ipython",
    "version": 3
   },
   "file_extension": ".py",
   "mimetype": "text/x-python",
   "name": "python",
   "nbconvert_exporter": "python",
   "pygments_lexer": "ipython3",
   "version": "3.5.2"
  }
 },
 "nbformat": 4,
 "nbformat_minor": 2
}
